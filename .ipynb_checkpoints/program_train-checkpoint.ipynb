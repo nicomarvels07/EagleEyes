{
 "cells": [
  {
   "cell_type": "code",
   "execution_count": null,
   "id": "34834e1a-ac18-4be0-8187-cbbbfab5ef8d",
   "metadata": {},
   "outputs": [
    {
     "name": "stdout",
     "output_type": "stream",
     "text": [
      "Tidak ada file yang tidak berpasangan ditemukan.\n"
     ]
    }
   ],
   "source": [
    "import os\n",
    "\n",
    "# Path ke folder yang berisi file foto dan XML\n",
    "folder_path = r\"C:\\Users\\Nico Marvels\\belajar\\dataset\"\n",
    "    \n",
    "# Pastikan folder ada\n",
    "if not os.path.exists(folder_path):\n",
    "    print(f\"Error: Folder {folder_path} tidak ditemukan.\")\n",
    "    exit()\n",
    "\n",
    "# Dapatkan daftar file di folder\n",
    "files = os.listdir(folder_path)\n",
    "\n",
    "# Pisahkan file berdasarkan ekstensi\n",
    "jpg_files = [f for f in files if f.lower().endswith('.jpg')]\n",
    "xml_files = [f for f in files if f.lower().endswith('.xml')]\n",
    "\n",
    "# Dapatkan nama file tanpa ekstensi\n",
    "jpg_basenames = {os.path.splitext(f)[0] for f in jpg_files}\n",
    "xml_basenames = {os.path.splitext(f)[0] for f in xml_files}\n",
    "\n",
    "# Temukan file yang tidak berpasangan\n",
    "jpg_without_xml = jpg_basenames - xml_basenames  # JPG tanpa XML\n",
    "xml_without_jpg = xml_basenames - jpg_basenames  # XML tanpa JPG\n",
    "\n",
    "# Gabungkan file yang akan dihapus\n",
    "files_to_delete = [f\"{name}.jpg\" for name in jpg_without_xml] + [f\"{name}.xml\" for name in xml_without_jpg]\n",
    "\n",
    "# Hapus file yang tidak berpasangan\n",
    "if not files_to_delete:\n",
    "    print(\"Tidak ada file yang tidak berpasangan ditemukan.\")\n",
    "else:\n",
    "    print(\"File yang akan dihapus:\")\n",
    "    for file in files_to_delete:\n",
    "        file_path = os.path.join(folder_path, file)\n",
    "        try:\n",
    "            os.remove(file_path)\n",
    "            print(f\"Berhasil menghapus: {file_path}\")\n",
    "        except Exception as e:\n",
    "            print(f\"Gagal menghapus {file_path}: {e}\")"
   ]
  },
  {
   "cell_type": "code",
   "execution_count": 2,
   "id": "72f621fd-080b-4e37-ae91-82fc0896a361",
   "metadata": {},
   "outputs": [
    {
     "name": "stdout",
     "output_type": "stream",
     "text": [
      "Jumlah label unik: 14\n",
      "Label-label yang ditemukan:\n",
      "- car\n",
      "- driver_buckled\n",
      "- driver_unbuckled\n",
      "- driver_unknown\n",
      "- kaca\n",
      "- motor_1_helmet\n",
      "- motor_1_nohelmet\n",
      "- motor_2_helmet\n",
      "- motor_2_nohelmet\n",
      "- motor_more_2\n",
      "- passanger_buckled\n",
      "- passanger_unbuckled\n",
      "- passanger_unknown\n",
      "- plat_nomor\n"
     ]
    }
   ],
   "source": [
    "import os\n",
    "import xml.etree.ElementTree as ET\n",
    "\n",
    "folder_path = r\"C:\\Users\\Nico Marvels\\belajar\\dataset\"\n",
    "label_set = set()\n",
    "\n",
    "# Iterasi semua file XML\n",
    "for filename in os.listdir(folder_path):\n",
    "    if filename.endswith(\".xml\"):\n",
    "        file_path = os.path.join(folder_path, filename)\n",
    "        try:\n",
    "            tree = ET.parse(file_path)\n",
    "            root = tree.getroot()\n",
    "            for obj in root.findall('object'):\n",
    "                label = obj.find('name').text\n",
    "                if label:\n",
    "                    label_set.add(label)\n",
    "        except ET.ParseError:\n",
    "            print(f\"Gagal parsing: {filename}\")\n",
    "\n",
    "# Tampilkan hasil\n",
    "print(f\"Jumlah label unik: {len(label_set)}\")\n",
    "print(\"Label-label yang ditemukan:\")\n",
    "for label in sorted(label_set):\n",
    "    print(f\"- {label}\")"
   ]
  },
  {
   "cell_type": "code",
   "execution_count": null,
   "id": "0179b87d-ed06-444b-8169-5c6e7a7efc42",
   "metadata": {},
   "outputs": [
    {
     "name": "stdout",
     "output_type": "stream",
     "text": [
      "Berhasil menyalin frame_2.mov_0042.jpg ke C:\\Users\\Nico Marvels\\belajar\\dataset\\images\\train\n",
      "Berhasil menyalin dan memperbarui frame_2.mov_0042.xml ke C:\\Users\\Nico Marvels\\belajar\\dataset\\labels\\train\n",
      "Berhasil menyalin frame_2.mov_0026.jpg ke C:\\Users\\Nico Marvels\\belajar\\dataset\\images\\train\n",
      "Berhasil menyalin dan memperbarui frame_2.mov_0026.xml ke C:\\Users\\Nico Marvels\\belajar\\dataset\\labels\\train\n",
      "Berhasil menyalin frame_cam1.mp4_0063.jpg ke C:\\Users\\Nico Marvels\\belajar\\dataset\\images\\train\n",
      "Berhasil menyalin dan memperbarui frame_cam1.mp4_0063.xml ke C:\\Users\\Nico Marvels\\belajar\\dataset\\labels\\train\n",
      "Berhasil menyalin frame_2.mov_0017.jpg ke C:\\Users\\Nico Marvels\\belajar\\dataset\\images\\train\n",
      "Berhasil menyalin dan memperbarui frame_2.mov_0017.xml ke C:\\Users\\Nico Marvels\\belajar\\dataset\\labels\\train\n",
      "Berhasil menyalin frame_cam1.mp4_0007.jpg ke C:\\Users\\Nico Marvels\\belajar\\dataset\\images\\train\n",
      "Berhasil menyalin dan memperbarui frame_cam1.mp4_0007.xml ke C:\\Users\\Nico Marvels\\belajar\\dataset\\labels\\train\n",
      "Berhasil menyalin frame_2.mov_0027.jpg ke C:\\Users\\Nico Marvels\\belajar\\dataset\\images\\train\n",
      "Berhasil menyalin dan memperbarui frame_2.mov_0027.xml ke C:\\Users\\Nico Marvels\\belajar\\dataset\\labels\\train\n",
      "Berhasil menyalin frame_2.mov_0071.jpg ke C:\\Users\\Nico Marvels\\belajar\\dataset\\images\\train\n",
      "Berhasil menyalin dan memperbarui frame_2.mov_0071.xml ke C:\\Users\\Nico Marvels\\belajar\\dataset\\labels\\train\n",
      "Berhasil menyalin frame_cam1.mp4_0059.jpg ke C:\\Users\\Nico Marvels\\belajar\\dataset\\images\\train\n",
      "Berhasil menyalin dan memperbarui frame_cam1.mp4_0059.xml ke C:\\Users\\Nico Marvels\\belajar\\dataset\\labels\\train\n",
      "Berhasil menyalin frame_3.mov_0027.jpg ke C:\\Users\\Nico Marvels\\belajar\\dataset\\images\\train\n",
      "Berhasil menyalin dan memperbarui frame_3.mov_0027.xml ke C:\\Users\\Nico Marvels\\belajar\\dataset\\labels\\train\n",
      "Berhasil menyalin frame_cam1.mp4_0035.jpg ke C:\\Users\\Nico Marvels\\belajar\\dataset\\images\\train\n",
      "Berhasil menyalin dan memperbarui frame_cam1.mp4_0035.xml ke C:\\Users\\Nico Marvels\\belajar\\dataset\\labels\\train\n",
      "Berhasil menyalin frame_cam1.mp4_0016.jpg ke C:\\Users\\Nico Marvels\\belajar\\dataset\\images\\train\n",
      "Berhasil menyalin dan memperbarui frame_cam1.mp4_0016.xml ke C:\\Users\\Nico Marvels\\belajar\\dataset\\labels\\train\n",
      "Berhasil menyalin frame_cam1.mp4_0023.jpg ke C:\\Users\\Nico Marvels\\belajar\\dataset\\images\\train\n",
      "Berhasil menyalin dan memperbarui frame_cam1.mp4_0023.xml ke C:\\Users\\Nico Marvels\\belajar\\dataset\\labels\\train\n",
      "Berhasil menyalin frame_2.mov_0069.jpg ke C:\\Users\\Nico Marvels\\belajar\\dataset\\images\\train\n",
      "Berhasil menyalin dan memperbarui frame_2.mov_0069.xml ke C:\\Users\\Nico Marvels\\belajar\\dataset\\labels\\train\n",
      "Berhasil menyalin frame_2.mov_0012.jpg ke C:\\Users\\Nico Marvels\\belajar\\dataset\\images\\train\n",
      "Berhasil menyalin dan memperbarui frame_2.mov_0012.xml ke C:\\Users\\Nico Marvels\\belajar\\dataset\\labels\\train\n",
      "Berhasil menyalin frame_2.mov_0091.jpg ke C:\\Users\\Nico Marvels\\belajar\\dataset\\images\\train\n",
      "Berhasil menyalin dan memperbarui frame_2.mov_0091.xml ke C:\\Users\\Nico Marvels\\belajar\\dataset\\labels\\train\n",
      "Berhasil menyalin frame_cam1.mp4_0067.jpg ke C:\\Users\\Nico Marvels\\belajar\\dataset\\images\\train\n",
      "Berhasil menyalin dan memperbarui frame_cam1.mp4_0067.xml ke C:\\Users\\Nico Marvels\\belajar\\dataset\\labels\\train\n",
      "Berhasil menyalin frame_cam1.mp4_0071.jpg ke C:\\Users\\Nico Marvels\\belajar\\dataset\\images\\train\n",
      "Berhasil menyalin dan memperbarui frame_cam1.mp4_0071.xml ke C:\\Users\\Nico Marvels\\belajar\\dataset\\labels\\train\n",
      "Berhasil menyalin frame_2.mov_0045.jpg ke C:\\Users\\Nico Marvels\\belajar\\dataset\\images\\train\n",
      "Berhasil menyalin dan memperbarui frame_2.mov_0045.xml ke C:\\Users\\Nico Marvels\\belajar\\dataset\\labels\\train\n",
      "Berhasil menyalin frame_3.mov_0011.jpg ke C:\\Users\\Nico Marvels\\belajar\\dataset\\images\\train\n",
      "Berhasil menyalin dan memperbarui frame_3.mov_0011.xml ke C:\\Users\\Nico Marvels\\belajar\\dataset\\labels\\train\n",
      "Berhasil menyalin frame_2.mov_0084.jpg ke C:\\Users\\Nico Marvels\\belajar\\dataset\\images\\train\n",
      "Berhasil menyalin dan memperbarui frame_2.mov_0084.xml ke C:\\Users\\Nico Marvels\\belajar\\dataset\\labels\\train\n",
      "Berhasil menyalin frame_cam1.mp4_0040.jpg ke C:\\Users\\Nico Marvels\\belajar\\dataset\\images\\train\n",
      "Berhasil menyalin dan memperbarui frame_cam1.mp4_0040.xml ke C:\\Users\\Nico Marvels\\belajar\\dataset\\labels\\train\n",
      "Berhasil menyalin frame_cam1.mp4_0030.jpg ke C:\\Users\\Nico Marvels\\belajar\\dataset\\images\\train\n",
      "Berhasil menyalin dan memperbarui frame_cam1.mp4_0030.xml ke C:\\Users\\Nico Marvels\\belajar\\dataset\\labels\\train\n",
      "Berhasil menyalin frame_3.mov_0018.jpg ke C:\\Users\\Nico Marvels\\belajar\\dataset\\images\\train\n",
      "Berhasil menyalin dan memperbarui frame_3.mov_0018.xml ke C:\\Users\\Nico Marvels\\belajar\\dataset\\labels\\train\n",
      "Berhasil menyalin frame_2.mov_0019.jpg ke C:\\Users\\Nico Marvels\\belajar\\dataset\\images\\train\n",
      "Berhasil menyalin dan memperbarui frame_2.mov_0019.xml ke C:\\Users\\Nico Marvels\\belajar\\dataset\\labels\\train\n",
      "Berhasil menyalin frame_2.mov_0066.jpg ke C:\\Users\\Nico Marvels\\belajar\\dataset\\images\\train\n",
      "Berhasil menyalin dan memperbarui frame_2.mov_0066.xml ke C:\\Users\\Nico Marvels\\belajar\\dataset\\labels\\train\n",
      "Berhasil menyalin frame_cam1.mp4_0056.jpg ke C:\\Users\\Nico Marvels\\belajar\\dataset\\images\\train\n",
      "Berhasil menyalin dan memperbarui frame_cam1.mp4_0056.xml ke C:\\Users\\Nico Marvels\\belajar\\dataset\\labels\\train\n",
      "Berhasil menyalin frame_1.mov_0004.jpg ke C:\\Users\\Nico Marvels\\belajar\\dataset\\images\\train\n",
      "Berhasil menyalin dan memperbarui frame_1.mov_0004.xml ke C:\\Users\\Nico Marvels\\belajar\\dataset\\labels\\train\n",
      "Berhasil menyalin frame_3.mov_0033.jpg ke C:\\Users\\Nico Marvels\\belajar\\dataset\\images\\train\n",
      "Berhasil menyalin dan memperbarui frame_3.mov_0033.xml ke C:\\Users\\Nico Marvels\\belajar\\dataset\\labels\\train\n",
      "Berhasil menyalin frame_2.mov_0080.jpg ke C:\\Users\\Nico Marvels\\belajar\\dataset\\images\\train\n",
      "Berhasil menyalin dan memperbarui frame_2.mov_0080.xml ke C:\\Users\\Nico Marvels\\belajar\\dataset\\labels\\train\n",
      "Berhasil menyalin frame_cam1.mp4_0028.jpg ke C:\\Users\\Nico Marvels\\belajar\\dataset\\images\\train\n",
      "Berhasil menyalin dan memperbarui frame_cam1.mp4_0028.xml ke C:\\Users\\Nico Marvels\\belajar\\dataset\\labels\\train\n",
      "Berhasil menyalin frame_2.mov_0022.jpg ke C:\\Users\\Nico Marvels\\belajar\\dataset\\images\\train\n",
      "Berhasil menyalin dan memperbarui frame_2.mov_0022.xml ke C:\\Users\\Nico Marvels\\belajar\\dataset\\labels\\train\n",
      "Berhasil menyalin frame_3.mov_0024.jpg ke C:\\Users\\Nico Marvels\\belajar\\dataset\\images\\train\n",
      "Berhasil menyalin dan memperbarui frame_3.mov_0024.xml ke C:\\Users\\Nico Marvels\\belajar\\dataset\\labels\\train\n",
      "Berhasil menyalin frame_2.mov_0031.jpg ke C:\\Users\\Nico Marvels\\belajar\\dataset\\images\\train\n",
      "Berhasil menyalin dan memperbarui frame_2.mov_0031.xml ke C:\\Users\\Nico Marvels\\belajar\\dataset\\labels\\train\n",
      "Berhasil menyalin frame_cam1.mp4_0044.jpg ke C:\\Users\\Nico Marvels\\belajar\\dataset\\images\\train\n",
      "Berhasil menyalin dan memperbarui frame_cam1.mp4_0044.xml ke C:\\Users\\Nico Marvels\\belajar\\dataset\\labels\\train\n",
      "Berhasil menyalin frame_2.mov_0070.jpg ke C:\\Users\\Nico Marvels\\belajar\\dataset\\images\\train\n",
      "Berhasil menyalin dan memperbarui frame_2.mov_0070.xml ke C:\\Users\\Nico Marvels\\belajar\\dataset\\labels\\train\n",
      "Berhasil menyalin frame_cam1.mp4_0060.jpg ke C:\\Users\\Nico Marvels\\belajar\\dataset\\images\\train\n",
      "Berhasil menyalin dan memperbarui frame_cam1.mp4_0060.xml ke C:\\Users\\Nico Marvels\\belajar\\dataset\\labels\\train\n",
      "Berhasil menyalin frame_1.mov_0007.jpg ke C:\\Users\\Nico Marvels\\belajar\\dataset\\images\\train\n",
      "Berhasil menyalin dan memperbarui frame_1.mov_0007.xml ke C:\\Users\\Nico Marvels\\belajar\\dataset\\labels\\train\n",
      "Berhasil menyalin frame_cam1.mp4_0008.jpg ke C:\\Users\\Nico Marvels\\belajar\\dataset\\images\\train\n",
      "Berhasil menyalin dan memperbarui frame_cam1.mp4_0008.xml ke C:\\Users\\Nico Marvels\\belajar\\dataset\\labels\\train\n",
      "Berhasil menyalin frame_2.mov_0025.jpg ke C:\\Users\\Nico Marvels\\belajar\\dataset\\images\\train\n",
      "Berhasil menyalin dan memperbarui frame_2.mov_0025.xml ke C:\\Users\\Nico Marvels\\belajar\\dataset\\labels\\train\n",
      "Berhasil menyalin frame_cam1.mp4_0064.jpg ke C:\\Users\\Nico Marvels\\belajar\\dataset\\images\\train\n",
      "Berhasil menyalin dan memperbarui frame_cam1.mp4_0064.xml ke C:\\Users\\Nico Marvels\\belajar\\dataset\\labels\\train\n",
      "Berhasil menyalin frame_3.mov_0029.jpg ke C:\\Users\\Nico Marvels\\belajar\\dataset\\images\\train\n",
      "Berhasil menyalin dan memperbarui frame_3.mov_0029.xml ke C:\\Users\\Nico Marvels\\belajar\\dataset\\labels\\train\n",
      "Berhasil menyalin frame_cam1.mp4_0049.jpg ke C:\\Users\\Nico Marvels\\belajar\\dataset\\images\\train\n",
      "Berhasil menyalin dan memperbarui frame_cam1.mp4_0049.xml ke C:\\Users\\Nico Marvels\\belajar\\dataset\\labels\\train\n",
      "Berhasil menyalin frame_2.mov_0002.jpg ke C:\\Users\\Nico Marvels\\belajar\\dataset\\images\\train\n",
      "Berhasil menyalin dan memperbarui frame_2.mov_0002.xml ke C:\\Users\\Nico Marvels\\belajar\\dataset\\labels\\train\n",
      "Berhasil menyalin frame_3.mov_0019.jpg ke C:\\Users\\Nico Marvels\\belajar\\dataset\\images\\train\n",
      "Berhasil menyalin dan memperbarui frame_3.mov_0019.xml ke C:\\Users\\Nico Marvels\\belajar\\dataset\\labels\\train\n",
      "Berhasil menyalin frame_cam1.mp4_0062.jpg ke C:\\Users\\Nico Marvels\\belajar\\dataset\\images\\train\n",
      "Berhasil menyalin dan memperbarui frame_cam1.mp4_0062.xml ke C:\\Users\\Nico Marvels\\belajar\\dataset\\labels\\train\n",
      "Berhasil menyalin frame_2.mov_0047.jpg ke C:\\Users\\Nico Marvels\\belajar\\dataset\\images\\train\n",
      "Berhasil menyalin dan memperbarui frame_2.mov_0047.xml ke C:\\Users\\Nico Marvels\\belajar\\dataset\\labels\\train\n",
      "Berhasil menyalin frame_2.mov_0062.jpg ke C:\\Users\\Nico Marvels\\belajar\\dataset\\images\\train\n",
      "Berhasil menyalin dan memperbarui frame_2.mov_0062.xml ke C:\\Users\\Nico Marvels\\belajar\\dataset\\labels\\train\n",
      "Berhasil menyalin frame_3.mov_0032.jpg ke C:\\Users\\Nico Marvels\\belajar\\dataset\\images\\train\n",
      "Berhasil menyalin dan memperbarui frame_3.mov_0032.xml ke C:\\Users\\Nico Marvels\\belajar\\dataset\\labels\\train\n",
      "Berhasil menyalin frame_3.mov_0002.jpg ke C:\\Users\\Nico Marvels\\belajar\\dataset\\images\\train\n",
      "Berhasil menyalin dan memperbarui frame_3.mov_0002.xml ke C:\\Users\\Nico Marvels\\belajar\\dataset\\labels\\train\n",
      "Berhasil menyalin frame_1.mov_0002.jpg ke C:\\Users\\Nico Marvels\\belajar\\dataset\\images\\train\n",
      "Berhasil menyalin dan memperbarui frame_1.mov_0002.xml ke C:\\Users\\Nico Marvels\\belajar\\dataset\\labels\\train\n",
      "Berhasil menyalin frame_3.mov_0012.jpg ke C:\\Users\\Nico Marvels\\belajar\\dataset\\images\\train\n",
      "Berhasil menyalin dan memperbarui frame_3.mov_0012.xml ke C:\\Users\\Nico Marvels\\belajar\\dataset\\labels\\train\n",
      "Berhasil menyalin frame_2.mov_0081.jpg ke C:\\Users\\Nico Marvels\\belajar\\dataset\\images\\train\n",
      "Berhasil menyalin dan memperbarui frame_2.mov_0081.xml ke C:\\Users\\Nico Marvels\\belajar\\dataset\\labels\\train\n",
      "Berhasil menyalin frame_cam1.mp4_0054.jpg ke C:\\Users\\Nico Marvels\\belajar\\dataset\\images\\train\n",
      "Berhasil menyalin dan memperbarui frame_cam1.mp4_0054.xml ke C:\\Users\\Nico Marvels\\belajar\\dataset\\labels\\train\n",
      "Berhasil menyalin frame_2.mov_0077.jpg ke C:\\Users\\Nico Marvels\\belajar\\dataset\\images\\train\n",
      "Berhasil menyalin dan memperbarui frame_2.mov_0077.xml ke C:\\Users\\Nico Marvels\\belajar\\dataset\\labels\\train\n",
      "Berhasil menyalin frame_2.mov_0056.jpg ke C:\\Users\\Nico Marvels\\belajar\\dataset\\images\\train\n",
      "Berhasil menyalin dan memperbarui frame_2.mov_0056.xml ke C:\\Users\\Nico Marvels\\belajar\\dataset\\labels\\train\n",
      "Berhasil menyalin frame_3.mov_0014.jpg ke C:\\Users\\Nico Marvels\\belajar\\dataset\\images\\train\n",
      "Berhasil menyalin dan memperbarui frame_3.mov_0014.xml ke C:\\Users\\Nico Marvels\\belajar\\dataset\\labels\\train\n",
      "Berhasil menyalin frame_cam1.mp4_0043.jpg ke C:\\Users\\Nico Marvels\\belajar\\dataset\\images\\train\n",
      "Berhasil menyalin dan memperbarui frame_cam1.mp4_0043.xml ke C:\\Users\\Nico Marvels\\belajar\\dataset\\labels\\train\n",
      "Berhasil menyalin frame_cam1.mp4_0065.jpg ke C:\\Users\\Nico Marvels\\belajar\\dataset\\images\\train\n",
      "Berhasil menyalin dan memperbarui frame_cam1.mp4_0065.xml ke C:\\Users\\Nico Marvels\\belajar\\dataset\\labels\\train\n",
      "Berhasil menyalin frame_cam1.mp4_0024.jpg ke C:\\Users\\Nico Marvels\\belajar\\dataset\\images\\train\n",
      "Berhasil menyalin dan memperbarui frame_cam1.mp4_0024.xml ke C:\\Users\\Nico Marvels\\belajar\\dataset\\labels\\train\n",
      "Berhasil menyalin frame_2.mov_0024.jpg ke C:\\Users\\Nico Marvels\\belajar\\dataset\\images\\train\n",
      "Berhasil menyalin dan memperbarui frame_2.mov_0024.xml ke C:\\Users\\Nico Marvels\\belajar\\dataset\\labels\\train\n",
      "Berhasil menyalin frame_2.mov_0036.jpg ke C:\\Users\\Nico Marvels\\belajar\\dataset\\images\\train\n",
      "Berhasil menyalin dan memperbarui frame_2.mov_0036.xml ke C:\\Users\\Nico Marvels\\belajar\\dataset\\labels\\train\n",
      "Berhasil menyalin frame_2.mov_0020.jpg ke C:\\Users\\Nico Marvels\\belajar\\dataset\\images\\train\n",
      "Berhasil menyalin dan memperbarui frame_2.mov_0020.xml ke C:\\Users\\Nico Marvels\\belajar\\dataset\\labels\\train\n",
      "Berhasil menyalin frame_2.mov_0034.jpg ke C:\\Users\\Nico Marvels\\belajar\\dataset\\images\\train\n",
      "Berhasil menyalin dan memperbarui frame_2.mov_0034.xml ke C:\\Users\\Nico Marvels\\belajar\\dataset\\labels\\train\n",
      "Berhasil menyalin frame_3.mov_0031.jpg ke C:\\Users\\Nico Marvels\\belajar\\dataset\\images\\train\n",
      "Berhasil menyalin dan memperbarui frame_3.mov_0031.xml ke C:\\Users\\Nico Marvels\\belajar\\dataset\\labels\\train\n",
      "Berhasil menyalin frame_3.mov_0001.jpg ke C:\\Users\\Nico Marvels\\belajar\\dataset\\images\\train\n",
      "Berhasil menyalin dan memperbarui frame_3.mov_0001.xml ke C:\\Users\\Nico Marvels\\belajar\\dataset\\labels\\train\n",
      "Berhasil menyalin frame_cam1.mp4_0036.jpg ke C:\\Users\\Nico Marvels\\belajar\\dataset\\images\\train\n",
      "Berhasil menyalin dan memperbarui frame_cam1.mp4_0036.xml ke C:\\Users\\Nico Marvels\\belajar\\dataset\\labels\\train\n",
      "Berhasil menyalin frame_1.mov_0003.jpg ke C:\\Users\\Nico Marvels\\belajar\\dataset\\images\\train\n",
      "Berhasil menyalin dan memperbarui frame_1.mov_0003.xml ke C:\\Users\\Nico Marvels\\belajar\\dataset\\labels\\train\n",
      "Berhasil menyalin frame_cam1.mp4_0061.jpg ke C:\\Users\\Nico Marvels\\belajar\\dataset\\images\\train\n",
      "Berhasil menyalin dan memperbarui frame_cam1.mp4_0061.xml ke C:\\Users\\Nico Marvels\\belajar\\dataset\\labels\\train\n",
      "Berhasil menyalin frame_2.mov_0099.jpg ke C:\\Users\\Nico Marvels\\belajar\\dataset\\images\\train\n",
      "Berhasil menyalin dan memperbarui frame_2.mov_0099.xml ke C:\\Users\\Nico Marvels\\belajar\\dataset\\labels\\train\n",
      "Berhasil menyalin frame_3.mov_0025.jpg ke C:\\Users\\Nico Marvels\\belajar\\dataset\\images\\train\n",
      "Berhasil menyalin dan memperbarui frame_3.mov_0025.xml ke C:\\Users\\Nico Marvels\\belajar\\dataset\\labels\\train\n",
      "Berhasil menyalin frame_3.mov_0005.jpg ke C:\\Users\\Nico Marvels\\belajar\\dataset\\images\\train\n",
      "Berhasil menyalin dan memperbarui frame_3.mov_0005.xml ke C:\\Users\\Nico Marvels\\belajar\\dataset\\labels\\train\n",
      "Berhasil menyalin frame_cam1.mp4_0002.jpg ke C:\\Users\\Nico Marvels\\belajar\\dataset\\images\\train\n",
      "Berhasil menyalin dan memperbarui frame_cam1.mp4_0002.xml ke C:\\Users\\Nico Marvels\\belajar\\dataset\\labels\\train\n",
      "Berhasil menyalin frame_2.mov_0018.jpg ke C:\\Users\\Nico Marvels\\belajar\\dataset\\images\\train\n",
      "Berhasil menyalin dan memperbarui frame_2.mov_0018.xml ke C:\\Users\\Nico Marvels\\belajar\\dataset\\labels\\train\n",
      "Berhasil menyalin frame_2.mov_0059.jpg ke C:\\Users\\Nico Marvels\\belajar\\dataset\\images\\train\n",
      "Berhasil menyalin dan memperbarui frame_2.mov_0059.xml ke C:\\Users\\Nico Marvels\\belajar\\dataset\\labels\\train\n",
      "Berhasil menyalin frame_cam1.mp4_0027.jpg ke C:\\Users\\Nico Marvels\\belajar\\dataset\\images\\train\n",
      "Berhasil menyalin dan memperbarui frame_cam1.mp4_0027.xml ke C:\\Users\\Nico Marvels\\belajar\\dataset\\labels\\train\n",
      "Berhasil menyalin frame_3.mov_0010.jpg ke C:\\Users\\Nico Marvels\\belajar\\dataset\\images\\train\n",
      "Berhasil menyalin dan memperbarui frame_3.mov_0010.xml ke C:\\Users\\Nico Marvels\\belajar\\dataset\\labels\\train\n",
      "Berhasil menyalin frame_3.mov_0008.jpg ke C:\\Users\\Nico Marvels\\belajar\\dataset\\images\\train\n",
      "Berhasil menyalin dan memperbarui frame_3.mov_0008.xml ke C:\\Users\\Nico Marvels\\belajar\\dataset\\labels\\train\n",
      "Berhasil menyalin frame_2.mov_0001.jpg ke C:\\Users\\Nico Marvels\\belajar\\dataset\\images\\train\n",
      "Berhasil menyalin dan memperbarui frame_2.mov_0001.xml ke C:\\Users\\Nico Marvels\\belajar\\dataset\\labels\\train\n",
      "Berhasil menyalin frame_1.mov_0005.jpg ke C:\\Users\\Nico Marvels\\belajar\\dataset\\images\\train\n",
      "Berhasil menyalin dan memperbarui frame_1.mov_0005.xml ke C:\\Users\\Nico Marvels\\belajar\\dataset\\labels\\train\n",
      "Berhasil menyalin frame_1.mov_0009.jpg ke C:\\Users\\Nico Marvels\\belajar\\dataset\\images\\train\n",
      "Berhasil menyalin dan memperbarui frame_1.mov_0009.xml ke C:\\Users\\Nico Marvels\\belajar\\dataset\\labels\\train\n",
      "Berhasil menyalin frame_2.mov_0082.jpg ke C:\\Users\\Nico Marvels\\belajar\\dataset\\images\\train\n",
      "Berhasil menyalin dan memperbarui frame_2.mov_0082.xml ke C:\\Users\\Nico Marvels\\belajar\\dataset\\labels\\train\n",
      "Berhasil menyalin frame_1.mov_0001.jpg ke C:\\Users\\Nico Marvels\\belajar\\dataset\\images\\train\n",
      "Berhasil menyalin dan memperbarui frame_1.mov_0001.xml ke C:\\Users\\Nico Marvels\\belajar\\dataset\\labels\\train\n",
      "Berhasil menyalin frame_2.mov_0086.jpg ke C:\\Users\\Nico Marvels\\belajar\\dataset\\images\\train\n",
      "Berhasil menyalin dan memperbarui frame_2.mov_0086.xml ke C:\\Users\\Nico Marvels\\belajar\\dataset\\labels\\train\n",
      "Berhasil menyalin frame_3.mov_0017.jpg ke C:\\Users\\Nico Marvels\\belajar\\dataset\\images\\train\n",
      "Berhasil menyalin dan memperbarui frame_3.mov_0017.xml ke C:\\Users\\Nico Marvels\\belajar\\dataset\\labels\\train\n",
      "Berhasil menyalin frame_2.mov_0057.jpg ke C:\\Users\\Nico Marvels\\belajar\\dataset\\images\\train\n",
      "Berhasil menyalin dan memperbarui frame_2.mov_0057.xml ke C:\\Users\\Nico Marvels\\belajar\\dataset\\labels\\train\n",
      "Berhasil menyalin frame_2.mov_0014.jpg ke C:\\Users\\Nico Marvels\\belajar\\dataset\\images\\train\n",
      "Berhasil menyalin dan memperbarui frame_2.mov_0014.xml ke C:\\Users\\Nico Marvels\\belajar\\dataset\\labels\\train\n",
      "Berhasil menyalin frame_2.mov_0088.jpg ke C:\\Users\\Nico Marvels\\belajar\\dataset\\images\\train\n",
      "Berhasil menyalin dan memperbarui frame_2.mov_0088.xml ke C:\\Users\\Nico Marvels\\belajar\\dataset\\labels\\train\n",
      "Berhasil menyalin frame_3.mov_0020.jpg ke C:\\Users\\Nico Marvels\\belajar\\dataset\\images\\train\n",
      "Berhasil menyalin dan memperbarui frame_3.mov_0020.xml ke C:\\Users\\Nico Marvels\\belajar\\dataset\\labels\\train\n",
      "Berhasil menyalin frame_cam1.mp4_0052.jpg ke C:\\Users\\Nico Marvels\\belajar\\dataset\\images\\train\n",
      "Berhasil menyalin dan memperbarui frame_cam1.mp4_0052.xml ke C:\\Users\\Nico Marvels\\belajar\\dataset\\labels\\train\n",
      "Berhasil menyalin frame_2.mov_0074.jpg ke C:\\Users\\Nico Marvels\\belajar\\dataset\\images\\train\n",
      "Berhasil menyalin dan memperbarui frame_2.mov_0074.xml ke C:\\Users\\Nico Marvels\\belajar\\dataset\\labels\\train\n",
      "Berhasil menyalin frame_2.mov_0049.jpg ke C:\\Users\\Nico Marvels\\belajar\\dataset\\images\\train\n",
      "Berhasil menyalin dan memperbarui frame_2.mov_0049.xml ke C:\\Users\\Nico Marvels\\belajar\\dataset\\labels\\train\n",
      "Berhasil menyalin frame_3.mov_0006.jpg ke C:\\Users\\Nico Marvels\\belajar\\dataset\\images\\train\n",
      "Berhasil menyalin dan memperbarui frame_3.mov_0006.xml ke C:\\Users\\Nico Marvels\\belajar\\dataset\\labels\\train\n",
      "Berhasil menyalin frame_2.mov_0087.jpg ke C:\\Users\\Nico Marvels\\belajar\\dataset\\images\\train\n",
      "Berhasil menyalin dan memperbarui frame_2.mov_0087.xml ke C:\\Users\\Nico Marvels\\belajar\\dataset\\labels\\train\n",
      "Berhasil menyalin frame_2.mov_0051.jpg ke C:\\Users\\Nico Marvels\\belajar\\dataset\\images\\train\n",
      "Berhasil menyalin dan memperbarui frame_2.mov_0051.xml ke C:\\Users\\Nico Marvels\\belajar\\dataset\\labels\\train\n",
      "Berhasil menyalin frame_cam1.mp4_0066.jpg ke C:\\Users\\Nico Marvels\\belajar\\dataset\\images\\train\n",
      "Berhasil menyalin dan memperbarui frame_cam1.mp4_0066.xml ke C:\\Users\\Nico Marvels\\belajar\\dataset\\labels\\train\n",
      "Berhasil menyalin frame_2.mov_0023.jpg ke C:\\Users\\Nico Marvels\\belajar\\dataset\\images\\train\n",
      "Berhasil menyalin dan memperbarui frame_2.mov_0023.xml ke C:\\Users\\Nico Marvels\\belajar\\dataset\\labels\\train\n",
      "Berhasil menyalin frame_3.mov_0036.jpg ke C:\\Users\\Nico Marvels\\belajar\\dataset\\images\\train\n",
      "Berhasil menyalin dan memperbarui frame_3.mov_0036.xml ke C:\\Users\\Nico Marvels\\belajar\\dataset\\labels\\train\n",
      "Berhasil menyalin frame_3.mov_0035.jpg ke C:\\Users\\Nico Marvels\\belajar\\dataset\\images\\train\n",
      "Berhasil menyalin dan memperbarui frame_3.mov_0035.xml ke C:\\Users\\Nico Marvels\\belajar\\dataset\\labels\\train\n",
      "Berhasil menyalin frame_2.mov_0029.jpg ke C:\\Users\\Nico Marvels\\belajar\\dataset\\images\\train\n",
      "Berhasil menyalin dan memperbarui frame_2.mov_0029.xml ke C:\\Users\\Nico Marvels\\belajar\\dataset\\labels\\train\n",
      "Berhasil menyalin frame_2.mov_0040.jpg ke C:\\Users\\Nico Marvels\\belajar\\dataset\\images\\train\n",
      "Berhasil menyalin dan memperbarui frame_2.mov_0040.xml ke C:\\Users\\Nico Marvels\\belajar\\dataset\\labels\\train\n",
      "Berhasil menyalin frame_2.mov_0009.jpg ke C:\\Users\\Nico Marvels\\belajar\\dataset\\images\\train\n",
      "Berhasil menyalin dan memperbarui frame_2.mov_0009.xml ke C:\\Users\\Nico Marvels\\belajar\\dataset\\labels\\train\n",
      "Berhasil menyalin frame_2.mov_0085.jpg ke C:\\Users\\Nico Marvels\\belajar\\dataset\\images\\train\n",
      "Berhasil menyalin dan memperbarui frame_2.mov_0085.xml ke C:\\Users\\Nico Marvels\\belajar\\dataset\\labels\\train\n",
      "Berhasil menyalin frame_3.mov_0016.jpg ke C:\\Users\\Nico Marvels\\belajar\\dataset\\images\\train\n",
      "Berhasil menyalin dan memperbarui frame_3.mov_0016.xml ke C:\\Users\\Nico Marvels\\belajar\\dataset\\labels\\train\n",
      "Berhasil menyalin frame_2.mov_0093.jpg ke C:\\Users\\Nico Marvels\\belajar\\dataset\\images\\train\n",
      "Berhasil menyalin dan memperbarui frame_2.mov_0093.xml ke C:\\Users\\Nico Marvels\\belajar\\dataset\\labels\\train\n",
      "Berhasil menyalin frame_cam1.mp4_0006.jpg ke C:\\Users\\Nico Marvels\\belajar\\dataset\\images\\train\n",
      "Berhasil menyalin dan memperbarui frame_cam1.mp4_0006.xml ke C:\\Users\\Nico Marvels\\belajar\\dataset\\labels\\train\n",
      "Berhasil menyalin frame_2.mov_0067.jpg ke C:\\Users\\Nico Marvels\\belajar\\dataset\\images\\train\n",
      "Berhasil menyalin dan memperbarui frame_2.mov_0067.xml ke C:\\Users\\Nico Marvels\\belajar\\dataset\\labels\\train\n",
      "Berhasil menyalin frame_cam1.mp4_0048.jpg ke C:\\Users\\Nico Marvels\\belajar\\dataset\\images\\train\n",
      "Berhasil menyalin dan memperbarui frame_cam1.mp4_0048.xml ke C:\\Users\\Nico Marvels\\belajar\\dataset\\labels\\train\n",
      "Berhasil menyalin frame_3.mov_0013.jpg ke C:\\Users\\Nico Marvels\\belajar\\dataset\\images\\train\n",
      "Berhasil menyalin dan memperbarui frame_3.mov_0013.xml ke C:\\Users\\Nico Marvels\\belajar\\dataset\\labels\\train\n",
      "Berhasil menyalin frame_3.mov_0007.jpg ke C:\\Users\\Nico Marvels\\belajar\\dataset\\images\\train\n",
      "Berhasil menyalin dan memperbarui frame_3.mov_0007.xml ke C:\\Users\\Nico Marvels\\belajar\\dataset\\labels\\train\n",
      "Berhasil menyalin frame_3.mov_0003.jpg ke C:\\Users\\Nico Marvels\\belajar\\dataset\\images\\train\n",
      "Berhasil menyalin dan memperbarui frame_3.mov_0003.xml ke C:\\Users\\Nico Marvels\\belajar\\dataset\\labels\\train\n",
      "Berhasil menyalin frame_2.mov_0032.jpg ke C:\\Users\\Nico Marvels\\belajar\\dataset\\images\\train\n",
      "Berhasil menyalin dan memperbarui frame_2.mov_0032.xml ke C:\\Users\\Nico Marvels\\belajar\\dataset\\labels\\train\n",
      "Berhasil menyalin frame_2.mov_0035.jpg ke C:\\Users\\Nico Marvels\\belajar\\dataset\\images\\train\n",
      "Berhasil menyalin dan memperbarui frame_2.mov_0035.xml ke C:\\Users\\Nico Marvels\\belajar\\dataset\\labels\\train\n",
      "Berhasil menyalin frame_2.mov_0033.jpg ke C:\\Users\\Nico Marvels\\belajar\\dataset\\images\\train\n",
      "Berhasil menyalin dan memperbarui frame_2.mov_0033.xml ke C:\\Users\\Nico Marvels\\belajar\\dataset\\labels\\train\n",
      "Berhasil menyalin frame_cam1.mp4_0058.jpg ke C:\\Users\\Nico Marvels\\belajar\\dataset\\images\\train\n",
      "Berhasil menyalin dan memperbarui frame_cam1.mp4_0058.xml ke C:\\Users\\Nico Marvels\\belajar\\dataset\\labels\\train\n",
      "Berhasil menyalin frame_cam1.mp4_0003.jpg ke C:\\Users\\Nico Marvels\\belajar\\dataset\\images\\train\n",
      "Berhasil menyalin dan memperbarui frame_cam1.mp4_0003.xml ke C:\\Users\\Nico Marvels\\belajar\\dataset\\labels\\train\n",
      "Berhasil menyalin frame_2.mov_0061.jpg ke C:\\Users\\Nico Marvels\\belajar\\dataset\\images\\train\n",
      "Berhasil menyalin dan memperbarui frame_2.mov_0061.xml ke C:\\Users\\Nico Marvels\\belajar\\dataset\\labels\\train\n",
      "Berhasil menyalin frame_2.mov_0055.jpg ke C:\\Users\\Nico Marvels\\belajar\\dataset\\images\\train\n",
      "Berhasil menyalin dan memperbarui frame_2.mov_0055.xml ke C:\\Users\\Nico Marvels\\belajar\\dataset\\labels\\train\n",
      "Berhasil menyalin frame_cam1.mp4_0010.jpg ke C:\\Users\\Nico Marvels\\belajar\\dataset\\images\\train\n",
      "Berhasil menyalin dan memperbarui frame_cam1.mp4_0010.xml ke C:\\Users\\Nico Marvels\\belajar\\dataset\\labels\\train\n",
      "Berhasil menyalin frame_2.mov_0005.jpg ke C:\\Users\\Nico Marvels\\belajar\\dataset\\images\\train\n",
      "Berhasil menyalin dan memperbarui frame_2.mov_0005.xml ke C:\\Users\\Nico Marvels\\belajar\\dataset\\labels\\train\n",
      "Berhasil menyalin frame_cam1.mp4_0037.jpg ke C:\\Users\\Nico Marvels\\belajar\\dataset\\images\\train\n",
      "Berhasil menyalin dan memperbarui frame_cam1.mp4_0037.xml ke C:\\Users\\Nico Marvels\\belajar\\dataset\\labels\\train\n",
      "Berhasil menyalin frame_cam1.mp4_0013.jpg ke C:\\Users\\Nico Marvels\\belajar\\dataset\\images\\train\n",
      "Berhasil menyalin dan memperbarui frame_cam1.mp4_0013.xml ke C:\\Users\\Nico Marvels\\belajar\\dataset\\labels\\train\n",
      "Berhasil menyalin frame_cam1.mp4_0033.jpg ke C:\\Users\\Nico Marvels\\belajar\\dataset\\images\\train\n",
      "Berhasil menyalin dan memperbarui frame_cam1.mp4_0033.xml ke C:\\Users\\Nico Marvels\\belajar\\dataset\\labels\\train\n",
      "Berhasil menyalin frame_2.mov_0065.jpg ke C:\\Users\\Nico Marvels\\belajar\\dataset\\images\\train\n",
      "Berhasil menyalin dan memperbarui frame_2.mov_0065.xml ke C:\\Users\\Nico Marvels\\belajar\\dataset\\labels\\train\n",
      "Berhasil menyalin frame_2.mov_0039.jpg ke C:\\Users\\Nico Marvels\\belajar\\dataset\\images\\train\n",
      "Berhasil menyalin dan memperbarui frame_2.mov_0039.xml ke C:\\Users\\Nico Marvels\\belajar\\dataset\\labels\\train\n",
      "Berhasil menyalin frame_2.mov_0054.jpg ke C:\\Users\\Nico Marvels\\belajar\\dataset\\images\\train\n",
      "Berhasil menyalin dan memperbarui frame_2.mov_0054.xml ke C:\\Users\\Nico Marvels\\belajar\\dataset\\labels\\train\n",
      "Berhasil menyalin frame_2.mov_0050.jpg ke C:\\Users\\Nico Marvels\\belajar\\dataset\\images\\train\n",
      "Berhasil menyalin dan memperbarui frame_2.mov_0050.xml ke C:\\Users\\Nico Marvels\\belajar\\dataset\\labels\\train\n",
      "Berhasil menyalin frame_2.mov_0008.jpg ke C:\\Users\\Nico Marvels\\belajar\\dataset\\images\\train\n",
      "Berhasil menyalin dan memperbarui frame_2.mov_0008.xml ke C:\\Users\\Nico Marvels\\belajar\\dataset\\labels\\train\n",
      "Berhasil menyalin frame_2.mov_0010.jpg ke C:\\Users\\Nico Marvels\\belajar\\dataset\\images\\train\n",
      "Berhasil menyalin dan memperbarui frame_2.mov_0010.xml ke C:\\Users\\Nico Marvels\\belajar\\dataset\\labels\\train\n",
      "Berhasil menyalin frame_cam1.mp4_0050.jpg ke C:\\Users\\Nico Marvels\\belajar\\dataset\\images\\train\n",
      "Berhasil menyalin dan memperbarui frame_cam1.mp4_0050.xml ke C:\\Users\\Nico Marvels\\belajar\\dataset\\labels\\train\n",
      "Berhasil menyalin frame_3.mov_0004.jpg ke C:\\Users\\Nico Marvels\\belajar\\dataset\\images\\train\n",
      "Berhasil menyalin dan memperbarui frame_3.mov_0004.xml ke C:\\Users\\Nico Marvels\\belajar\\dataset\\labels\\train\n",
      "Berhasil menyalin frame_2.mov_0098.jpg ke C:\\Users\\Nico Marvels\\belajar\\dataset\\images\\train\n",
      "Berhasil menyalin dan memperbarui frame_2.mov_0098.xml ke C:\\Users\\Nico Marvels\\belajar\\dataset\\labels\\train\n",
      "Berhasil menyalin frame_3.mov_0034.jpg ke C:\\Users\\Nico Marvels\\belajar\\dataset\\images\\train\n",
      "Berhasil menyalin dan memperbarui frame_3.mov_0034.xml ke C:\\Users\\Nico Marvels\\belajar\\dataset\\labels\\train\n",
      "Berhasil menyalin frame_3.mov_0009.jpg ke C:\\Users\\Nico Marvels\\belajar\\dataset\\images\\train\n",
      "Berhasil menyalin dan memperbarui frame_3.mov_0009.xml ke C:\\Users\\Nico Marvels\\belajar\\dataset\\labels\\train\n",
      "Berhasil menyalin frame_cam1.mp4_0017.jpg ke C:\\Users\\Nico Marvels\\belajar\\dataset\\images\\train\n",
      "Berhasil menyalin dan memperbarui frame_cam1.mp4_0017.xml ke C:\\Users\\Nico Marvels\\belajar\\dataset\\labels\\train\n",
      "Berhasil menyalin frame_cam1.mp4_0068.jpg ke C:\\Users\\Nico Marvels\\belajar\\dataset\\images\\train\n",
      "Berhasil menyalin dan memperbarui frame_cam1.mp4_0068.xml ke C:\\Users\\Nico Marvels\\belajar\\dataset\\labels\\train\n",
      "Berhasil menyalin frame_cam1.mp4_0046.jpg ke C:\\Users\\Nico Marvels\\belajar\\dataset\\images\\train\n",
      "Berhasil menyalin dan memperbarui frame_cam1.mp4_0046.xml ke C:\\Users\\Nico Marvels\\belajar\\dataset\\labels\\train\n",
      "Berhasil menyalin frame_2.mov_0064.jpg ke C:\\Users\\Nico Marvels\\belajar\\dataset\\images\\train\n",
      "Berhasil menyalin dan memperbarui frame_2.mov_0064.xml ke C:\\Users\\Nico Marvels\\belajar\\dataset\\labels\\train\n",
      "Berhasil menyalin frame_3.mov_0022.jpg ke C:\\Users\\Nico Marvels\\belajar\\dataset\\images\\train\n",
      "Berhasil menyalin dan memperbarui frame_3.mov_0022.xml ke C:\\Users\\Nico Marvels\\belajar\\dataset\\labels\\train\n",
      "Berhasil menyalin frame_2.mov_0079.jpg ke C:\\Users\\Nico Marvels\\belajar\\dataset\\images\\train\n",
      "Berhasil menyalin dan memperbarui frame_2.mov_0079.xml ke C:\\Users\\Nico Marvels\\belajar\\dataset\\labels\\train\n",
      "Berhasil menyalin frame_1.mov_0006.jpg ke C:\\Users\\Nico Marvels\\belajar\\dataset\\images\\train\n",
      "Berhasil menyalin dan memperbarui frame_1.mov_0006.xml ke C:\\Users\\Nico Marvels\\belajar\\dataset\\labels\\train\n",
      "Berhasil menyalin frame_2.mov_0075.jpg ke C:\\Users\\Nico Marvels\\belajar\\dataset\\images\\val\n",
      "Berhasil menyalin dan memperbarui frame_2.mov_0075.xml ke C:\\Users\\Nico Marvels\\belajar\\dataset\\labels\\val\n",
      "Berhasil menyalin frame_2.mov_0092.jpg ke C:\\Users\\Nico Marvels\\belajar\\dataset\\images\\val\n",
      "Berhasil menyalin dan memperbarui frame_2.mov_0092.xml ke C:\\Users\\Nico Marvels\\belajar\\dataset\\labels\\val\n",
      "Berhasil menyalin frame_2.mov_0089.jpg ke C:\\Users\\Nico Marvels\\belajar\\dataset\\images\\val\n",
      "Berhasil menyalin dan memperbarui frame_2.mov_0089.xml ke C:\\Users\\Nico Marvels\\belajar\\dataset\\labels\\val\n",
      "Berhasil menyalin frame_cam1.mp4_0051.jpg ke C:\\Users\\Nico Marvels\\belajar\\dataset\\images\\val\n",
      "Berhasil menyalin dan memperbarui frame_cam1.mp4_0051.xml ke C:\\Users\\Nico Marvels\\belajar\\dataset\\labels\\val\n",
      "Berhasil menyalin frame_cam1.mp4_0001.jpg ke C:\\Users\\Nico Marvels\\belajar\\dataset\\images\\val\n",
      "Berhasil menyalin dan memperbarui frame_cam1.mp4_0001.xml ke C:\\Users\\Nico Marvels\\belajar\\dataset\\labels\\val\n",
      "Berhasil menyalin frame_2.mov_0060.jpg ke C:\\Users\\Nico Marvels\\belajar\\dataset\\images\\val\n",
      "Berhasil menyalin dan memperbarui frame_2.mov_0060.xml ke C:\\Users\\Nico Marvels\\belajar\\dataset\\labels\\val\n",
      "Berhasil menyalin frame_cam1.mp4_0031.jpg ke C:\\Users\\Nico Marvels\\belajar\\dataset\\images\\val\n",
      "Berhasil menyalin dan memperbarui frame_cam1.mp4_0031.xml ke C:\\Users\\Nico Marvels\\belajar\\dataset\\labels\\val\n",
      "Berhasil menyalin frame_cam1.mp4_0070.jpg ke C:\\Users\\Nico Marvels\\belajar\\dataset\\images\\val\n",
      "Berhasil menyalin dan memperbarui frame_cam1.mp4_0070.xml ke C:\\Users\\Nico Marvels\\belajar\\dataset\\labels\\val\n",
      "Berhasil menyalin frame_2.mov_0078.jpg ke C:\\Users\\Nico Marvels\\belajar\\dataset\\images\\val\n",
      "Berhasil menyalin dan memperbarui frame_2.mov_0078.xml ke C:\\Users\\Nico Marvels\\belajar\\dataset\\labels\\val\n",
      "Berhasil menyalin frame_cam1.mp4_0045.jpg ke C:\\Users\\Nico Marvels\\belajar\\dataset\\images\\val\n",
      "Berhasil menyalin dan memperbarui frame_cam1.mp4_0045.xml ke C:\\Users\\Nico Marvels\\belajar\\dataset\\labels\\val\n",
      "Berhasil menyalin frame_2.mov_0013.jpg ke C:\\Users\\Nico Marvels\\belajar\\dataset\\images\\val\n",
      "Berhasil menyalin dan memperbarui frame_2.mov_0013.xml ke C:\\Users\\Nico Marvels\\belajar\\dataset\\labels\\val\n",
      "Berhasil menyalin frame_2.mov_0058.jpg ke C:\\Users\\Nico Marvels\\belajar\\dataset\\images\\val\n",
      "Berhasil menyalin dan memperbarui frame_2.mov_0058.xml ke C:\\Users\\Nico Marvels\\belajar\\dataset\\labels\\val\n",
      "Berhasil menyalin frame_2.mov_0095.jpg ke C:\\Users\\Nico Marvels\\belajar\\dataset\\images\\val\n",
      "Berhasil menyalin dan memperbarui frame_2.mov_0095.xml ke C:\\Users\\Nico Marvels\\belajar\\dataset\\labels\\val\n",
      "Berhasil menyalin frame_2.mov_0053.jpg ke C:\\Users\\Nico Marvels\\belajar\\dataset\\images\\val\n",
      "Berhasil menyalin dan memperbarui frame_2.mov_0053.xml ke C:\\Users\\Nico Marvels\\belajar\\dataset\\labels\\val\n",
      "Berhasil menyalin frame_3.mov_0023.jpg ke C:\\Users\\Nico Marvels\\belajar\\dataset\\images\\val\n",
      "Berhasil menyalin dan memperbarui frame_3.mov_0023.xml ke C:\\Users\\Nico Marvels\\belajar\\dataset\\labels\\val\n",
      "Berhasil menyalin frame_cam1.mp4_0022.jpg ke C:\\Users\\Nico Marvels\\belajar\\dataset\\images\\val\n",
      "Berhasil menyalin dan memperbarui frame_cam1.mp4_0022.xml ke C:\\Users\\Nico Marvels\\belajar\\dataset\\labels\\val\n",
      "Berhasil menyalin frame_cam1.mp4_0029.jpg ke C:\\Users\\Nico Marvels\\belajar\\dataset\\images\\val\n",
      "Berhasil menyalin dan memperbarui frame_cam1.mp4_0029.xml ke C:\\Users\\Nico Marvels\\belajar\\dataset\\labels\\val\n",
      "Berhasil menyalin frame_3.mov_0030.jpg ke C:\\Users\\Nico Marvels\\belajar\\dataset\\images\\val\n",
      "Berhasil menyalin dan memperbarui frame_3.mov_0030.xml ke C:\\Users\\Nico Marvels\\belajar\\dataset\\labels\\val\n",
      "Berhasil menyalin frame_2.mov_0096.jpg ke C:\\Users\\Nico Marvels\\belajar\\dataset\\images\\val\n",
      "Berhasil menyalin dan memperbarui frame_2.mov_0096.xml ke C:\\Users\\Nico Marvels\\belajar\\dataset\\labels\\val\n",
      "Berhasil menyalin frame_2.mov_0028.jpg ke C:\\Users\\Nico Marvels\\belajar\\dataset\\images\\val\n",
      "Berhasil menyalin dan memperbarui frame_2.mov_0028.xml ke C:\\Users\\Nico Marvels\\belajar\\dataset\\labels\\val\n",
      "Berhasil menyalin frame_1.mov_0008.jpg ke C:\\Users\\Nico Marvels\\belajar\\dataset\\images\\val\n",
      "Berhasil menyalin dan memperbarui frame_1.mov_0008.xml ke C:\\Users\\Nico Marvels\\belajar\\dataset\\labels\\val\n",
      "Berhasil menyalin frame_cam1.mp4_0005.jpg ke C:\\Users\\Nico Marvels\\belajar\\dataset\\images\\val\n",
      "Berhasil menyalin dan memperbarui frame_cam1.mp4_0005.xml ke C:\\Users\\Nico Marvels\\belajar\\dataset\\labels\\val\n",
      "Berhasil menyalin frame_2.mov_0041.jpg ke C:\\Users\\Nico Marvels\\belajar\\dataset\\images\\val\n",
      "Berhasil menyalin dan memperbarui frame_2.mov_0041.xml ke C:\\Users\\Nico Marvels\\belajar\\dataset\\labels\\val\n",
      "Berhasil menyalin frame_2.mov_0090.jpg ke C:\\Users\\Nico Marvels\\belajar\\dataset\\images\\val\n",
      "Berhasil menyalin dan memperbarui frame_2.mov_0090.xml ke C:\\Users\\Nico Marvels\\belajar\\dataset\\labels\\val\n",
      "Berhasil menyalin frame_2.mov_0052.jpg ke C:\\Users\\Nico Marvels\\belajar\\dataset\\images\\val\n",
      "Berhasil menyalin dan memperbarui frame_2.mov_0052.xml ke C:\\Users\\Nico Marvels\\belajar\\dataset\\labels\\val\n",
      "Berhasil menyalin frame_cam1.mp4_0069.jpg ke C:\\Users\\Nico Marvels\\belajar\\dataset\\images\\val\n",
      "Berhasil menyalin dan memperbarui frame_cam1.mp4_0069.xml ke C:\\Users\\Nico Marvels\\belajar\\dataset\\labels\\val\n",
      "Berhasil menyalin frame_3.mov_0021.jpg ke C:\\Users\\Nico Marvels\\belajar\\dataset\\images\\val\n",
      "Berhasil menyalin dan memperbarui frame_3.mov_0021.xml ke C:\\Users\\Nico Marvels\\belajar\\dataset\\labels\\val\n",
      "Berhasil menyalin frame_cam1.mp4_0041.jpg ke C:\\Users\\Nico Marvels\\belajar\\dataset\\images\\val\n",
      "Berhasil menyalin dan memperbarui frame_cam1.mp4_0041.xml ke C:\\Users\\Nico Marvels\\belajar\\dataset\\labels\\val\n",
      "Berhasil menyalin frame_2.mov_0007.jpg ke C:\\Users\\Nico Marvels\\belajar\\dataset\\images\\val\n",
      "Berhasil menyalin dan memperbarui frame_2.mov_0007.xml ke C:\\Users\\Nico Marvels\\belajar\\dataset\\labels\\val\n",
      "Berhasil menyalin frame_3.mov_0026.jpg ke C:\\Users\\Nico Marvels\\belajar\\dataset\\images\\val\n",
      "Berhasil menyalin dan memperbarui frame_3.mov_0026.xml ke C:\\Users\\Nico Marvels\\belajar\\dataset\\labels\\val\n",
      "Berhasil menyalin frame_cam1.mp4_0057.jpg ke C:\\Users\\Nico Marvels\\belajar\\dataset\\images\\val\n",
      "Berhasil menyalin dan memperbarui frame_cam1.mp4_0057.xml ke C:\\Users\\Nico Marvels\\belajar\\dataset\\labels\\val\n",
      "Berhasil menyalin frame_2.mov_0015.jpg ke C:\\Users\\Nico Marvels\\belajar\\dataset\\images\\val\n",
      "Berhasil menyalin dan memperbarui frame_2.mov_0015.xml ke C:\\Users\\Nico Marvels\\belajar\\dataset\\labels\\val\n",
      "Berhasil menyalin frame_cam1.mp4_0038.jpg ke C:\\Users\\Nico Marvels\\belajar\\dataset\\images\\val\n",
      "Berhasil menyalin dan memperbarui frame_cam1.mp4_0038.xml ke C:\\Users\\Nico Marvels\\belajar\\dataset\\labels\\val\n",
      "Berhasil menyalin frame_2.mov_0011.jpg ke C:\\Users\\Nico Marvels\\belajar\\dataset\\images\\val\n",
      "Berhasil menyalin dan memperbarui frame_2.mov_0011.xml ke C:\\Users\\Nico Marvels\\belajar\\dataset\\labels\\val\n",
      "Berhasil menyalin frame_2.mov_0063.jpg ke C:\\Users\\Nico Marvels\\belajar\\dataset\\images\\val\n",
      "Berhasil menyalin dan memperbarui frame_2.mov_0063.xml ke C:\\Users\\Nico Marvels\\belajar\\dataset\\labels\\val\n",
      "Berhasil menyalin frame_2.mov_0083.jpg ke C:\\Users\\Nico Marvels\\belajar\\dataset\\images\\val\n",
      "Berhasil menyalin dan memperbarui frame_2.mov_0083.xml ke C:\\Users\\Nico Marvels\\belajar\\dataset\\labels\\val\n",
      "Berhasil menyalin frame_2.mov_0042.jpg ke C:\\Users\\Nico Marvels\\belajar\\dataset\\images\\test\n",
      "Berhasil menyalin dan memperbarui frame_2.mov_0042.xml ke C:\\Users\\Nico Marvels\\belajar\\dataset\\labels\\test\n",
      "Berhasil menyalin frame_2.mov_0026.jpg ke C:\\Users\\Nico Marvels\\belajar\\dataset\\images\\test\n",
      "Berhasil menyalin dan memperbarui frame_2.mov_0026.xml ke C:\\Users\\Nico Marvels\\belajar\\dataset\\labels\\test\n",
      "Berhasil menyalin frame_cam1.mp4_0063.jpg ke C:\\Users\\Nico Marvels\\belajar\\dataset\\images\\test\n",
      "Berhasil menyalin dan memperbarui frame_cam1.mp4_0063.xml ke C:\\Users\\Nico Marvels\\belajar\\dataset\\labels\\test\n",
      "Berhasil menyalin frame_2.mov_0017.jpg ke C:\\Users\\Nico Marvels\\belajar\\dataset\\images\\test\n",
      "Berhasil menyalin dan memperbarui frame_2.mov_0017.xml ke C:\\Users\\Nico Marvels\\belajar\\dataset\\labels\\test\n",
      "Berhasil menyalin frame_cam1.mp4_0007.jpg ke C:\\Users\\Nico Marvels\\belajar\\dataset\\images\\test\n",
      "Berhasil menyalin dan memperbarui frame_cam1.mp4_0007.xml ke C:\\Users\\Nico Marvels\\belajar\\dataset\\labels\\test\n",
      "Berhasil menyalin frame_2.mov_0027.jpg ke C:\\Users\\Nico Marvels\\belajar\\dataset\\images\\test\n",
      "Berhasil menyalin dan memperbarui frame_2.mov_0027.xml ke C:\\Users\\Nico Marvels\\belajar\\dataset\\labels\\test\n",
      "Berhasil menyalin frame_2.mov_0071.jpg ke C:\\Users\\Nico Marvels\\belajar\\dataset\\images\\test\n",
      "Berhasil menyalin dan memperbarui frame_2.mov_0071.xml ke C:\\Users\\Nico Marvels\\belajar\\dataset\\labels\\test\n",
      "Berhasil menyalin frame_cam1.mp4_0059.jpg ke C:\\Users\\Nico Marvels\\belajar\\dataset\\images\\test\n",
      "Berhasil menyalin dan memperbarui frame_cam1.mp4_0059.xml ke C:\\Users\\Nico Marvels\\belajar\\dataset\\labels\\test\n",
      "Berhasil menyalin frame_3.mov_0027.jpg ke C:\\Users\\Nico Marvels\\belajar\\dataset\\images\\test\n",
      "Berhasil menyalin dan memperbarui frame_3.mov_0027.xml ke C:\\Users\\Nico Marvels\\belajar\\dataset\\labels\\test\n",
      "Berhasil menyalin frame_cam1.mp4_0035.jpg ke C:\\Users\\Nico Marvels\\belajar\\dataset\\images\\test\n",
      "Berhasil menyalin dan memperbarui frame_cam1.mp4_0035.xml ke C:\\Users\\Nico Marvels\\belajar\\dataset\\labels\\test\n",
      "Berhasil menyalin frame_cam1.mp4_0016.jpg ke C:\\Users\\Nico Marvels\\belajar\\dataset\\images\\test\n",
      "Berhasil menyalin dan memperbarui frame_cam1.mp4_0016.xml ke C:\\Users\\Nico Marvels\\belajar\\dataset\\labels\\test\n",
      "Berhasil menyalin frame_cam1.mp4_0023.jpg ke C:\\Users\\Nico Marvels\\belajar\\dataset\\images\\test\n",
      "Berhasil menyalin dan memperbarui frame_cam1.mp4_0023.xml ke C:\\Users\\Nico Marvels\\belajar\\dataset\\labels\\test\n",
      "Berhasil menyalin frame_2.mov_0069.jpg ke C:\\Users\\Nico Marvels\\belajar\\dataset\\images\\test\n",
      "Berhasil menyalin dan memperbarui frame_2.mov_0069.xml ke C:\\Users\\Nico Marvels\\belajar\\dataset\\labels\\test\n",
      "Berhasil menyalin frame_2.mov_0012.jpg ke C:\\Users\\Nico Marvels\\belajar\\dataset\\images\\test\n",
      "Berhasil menyalin dan memperbarui frame_2.mov_0012.xml ke C:\\Users\\Nico Marvels\\belajar\\dataset\\labels\\test\n",
      "Berhasil menyalin frame_2.mov_0091.jpg ke C:\\Users\\Nico Marvels\\belajar\\dataset\\images\\test\n",
      "Berhasil menyalin dan memperbarui frame_2.mov_0091.xml ke C:\\Users\\Nico Marvels\\belajar\\dataset\\labels\\test\n",
      "Berhasil menyalin frame_cam1.mp4_0067.jpg ke C:\\Users\\Nico Marvels\\belajar\\dataset\\images\\test\n",
      "Berhasil menyalin dan memperbarui frame_cam1.mp4_0067.xml ke C:\\Users\\Nico Marvels\\belajar\\dataset\\labels\\test\n",
      "Berhasil menyalin frame_cam1.mp4_0071.jpg ke C:\\Users\\Nico Marvels\\belajar\\dataset\\images\\test\n",
      "Berhasil menyalin dan memperbarui frame_cam1.mp4_0071.xml ke C:\\Users\\Nico Marvels\\belajar\\dataset\\labels\\test\n",
      "Berhasil menyalin frame_2.mov_0045.jpg ke C:\\Users\\Nico Marvels\\belajar\\dataset\\images\\test\n",
      "Berhasil menyalin dan memperbarui frame_2.mov_0045.xml ke C:\\Users\\Nico Marvels\\belajar\\dataset\\labels\\test\n",
      "Berhasil menyalin frame_3.mov_0011.jpg ke C:\\Users\\Nico Marvels\\belajar\\dataset\\images\\test\n",
      "Berhasil menyalin dan memperbarui frame_3.mov_0011.xml ke C:\\Users\\Nico Marvels\\belajar\\dataset\\labels\\test\n",
      "Berhasil menyalin frame_2.mov_0084.jpg ke C:\\Users\\Nico Marvels\\belajar\\dataset\\images\\test\n",
      "Berhasil menyalin dan memperbarui frame_2.mov_0084.xml ke C:\\Users\\Nico Marvels\\belajar\\dataset\\labels\\test\n",
      "Berhasil menyalin frame_cam1.mp4_0040.jpg ke C:\\Users\\Nico Marvels\\belajar\\dataset\\images\\test\n",
      "Berhasil menyalin dan memperbarui frame_cam1.mp4_0040.xml ke C:\\Users\\Nico Marvels\\belajar\\dataset\\labels\\test\n",
      "Berhasil menyalin frame_cam1.mp4_0030.jpg ke C:\\Users\\Nico Marvels\\belajar\\dataset\\images\\test\n",
      "Berhasil menyalin dan memperbarui frame_cam1.mp4_0030.xml ke C:\\Users\\Nico Marvels\\belajar\\dataset\\labels\\test\n",
      "Berhasil menyalin frame_3.mov_0018.jpg ke C:\\Users\\Nico Marvels\\belajar\\dataset\\images\\test\n",
      "Berhasil menyalin dan memperbarui frame_3.mov_0018.xml ke C:\\Users\\Nico Marvels\\belajar\\dataset\\labels\\test\n",
      "Berhasil menyalin frame_2.mov_0019.jpg ke C:\\Users\\Nico Marvels\\belajar\\dataset\\images\\test\n",
      "Berhasil menyalin dan memperbarui frame_2.mov_0019.xml ke C:\\Users\\Nico Marvels\\belajar\\dataset\\labels\\test\n",
      "Berhasil menyalin frame_2.mov_0066.jpg ke C:\\Users\\Nico Marvels\\belajar\\dataset\\images\\test\n",
      "Berhasil menyalin dan memperbarui frame_2.mov_0066.xml ke C:\\Users\\Nico Marvels\\belajar\\dataset\\labels\\test\n",
      "Berhasil menyalin frame_cam1.mp4_0056.jpg ke C:\\Users\\Nico Marvels\\belajar\\dataset\\images\\test\n",
      "Berhasil menyalin dan memperbarui frame_cam1.mp4_0056.xml ke C:\\Users\\Nico Marvels\\belajar\\dataset\\labels\\test\n",
      "Berhasil menyalin frame_1.mov_0004.jpg ke C:\\Users\\Nico Marvels\\belajar\\dataset\\images\\test\n",
      "Berhasil menyalin dan memperbarui frame_1.mov_0004.xml ke C:\\Users\\Nico Marvels\\belajar\\dataset\\labels\\test\n",
      "Berhasil menyalin frame_3.mov_0033.jpg ke C:\\Users\\Nico Marvels\\belajar\\dataset\\images\\test\n",
      "Berhasil menyalin dan memperbarui frame_3.mov_0033.xml ke C:\\Users\\Nico Marvels\\belajar\\dataset\\labels\\test\n",
      "Berhasil menyalin frame_2.mov_0080.jpg ke C:\\Users\\Nico Marvels\\belajar\\dataset\\images\\test\n",
      "Berhasil menyalin dan memperbarui frame_2.mov_0080.xml ke C:\\Users\\Nico Marvels\\belajar\\dataset\\labels\\test\n",
      "Berhasil menyalin frame_cam1.mp4_0028.jpg ke C:\\Users\\Nico Marvels\\belajar\\dataset\\images\\test\n",
      "Berhasil menyalin dan memperbarui frame_cam1.mp4_0028.xml ke C:\\Users\\Nico Marvels\\belajar\\dataset\\labels\\test\n",
      "Berhasil menyalin frame_2.mov_0022.jpg ke C:\\Users\\Nico Marvels\\belajar\\dataset\\images\\test\n",
      "Berhasil menyalin dan memperbarui frame_2.mov_0022.xml ke C:\\Users\\Nico Marvels\\belajar\\dataset\\labels\\test\n",
      "Berhasil menyalin frame_3.mov_0024.jpg ke C:\\Users\\Nico Marvels\\belajar\\dataset\\images\\test\n",
      "Berhasil menyalin dan memperbarui frame_3.mov_0024.xml ke C:\\Users\\Nico Marvels\\belajar\\dataset\\labels\\test\n",
      "Berhasil menyalin frame_2.mov_0031.jpg ke C:\\Users\\Nico Marvels\\belajar\\dataset\\images\\test\n",
      "Berhasil menyalin dan memperbarui frame_2.mov_0031.xml ke C:\\Users\\Nico Marvels\\belajar\\dataset\\labels\\test\n",
      "Berhasil menyalin frame_cam1.mp4_0044.jpg ke C:\\Users\\Nico Marvels\\belajar\\dataset\\images\\test\n",
      "Berhasil menyalin dan memperbarui frame_cam1.mp4_0044.xml ke C:\\Users\\Nico Marvels\\belajar\\dataset\\labels\\test\n",
      "Berhasil menyalin frame_2.mov_0070.jpg ke C:\\Users\\Nico Marvels\\belajar\\dataset\\images\\test\n",
      "Berhasil menyalin dan memperbarui frame_2.mov_0070.xml ke C:\\Users\\Nico Marvels\\belajar\\dataset\\labels\\test\n",
      "Berhasil menyalin frame_cam1.mp4_0060.jpg ke C:\\Users\\Nico Marvels\\belajar\\dataset\\images\\test\n",
      "Berhasil menyalin dan memperbarui frame_cam1.mp4_0060.xml ke C:\\Users\\Nico Marvels\\belajar\\dataset\\labels\\test\n",
      "Berhasil menyalin frame_1.mov_0007.jpg ke C:\\Users\\Nico Marvels\\belajar\\dataset\\images\\test\n",
      "Berhasil menyalin dan memperbarui frame_1.mov_0007.xml ke C:\\Users\\Nico Marvels\\belajar\\dataset\\labels\\test\n",
      "Berhasil menyalin frame_cam1.mp4_0008.jpg ke C:\\Users\\Nico Marvels\\belajar\\dataset\\images\\test\n",
      "Berhasil menyalin dan memperbarui frame_cam1.mp4_0008.xml ke C:\\Users\\Nico Marvels\\belajar\\dataset\\labels\\test\n",
      "Berhasil menyalin frame_2.mov_0025.jpg ke C:\\Users\\Nico Marvels\\belajar\\dataset\\images\\test\n",
      "Berhasil menyalin dan memperbarui frame_2.mov_0025.xml ke C:\\Users\\Nico Marvels\\belajar\\dataset\\labels\\test\n",
      "Berhasil menyalin frame_cam1.mp4_0064.jpg ke C:\\Users\\Nico Marvels\\belajar\\dataset\\images\\test\n",
      "Berhasil menyalin dan memperbarui frame_cam1.mp4_0064.xml ke C:\\Users\\Nico Marvels\\belajar\\dataset\\labels\\test\n",
      "Berhasil menyalin frame_3.mov_0029.jpg ke C:\\Users\\Nico Marvels\\belajar\\dataset\\images\\test\n",
      "Berhasil menyalin dan memperbarui frame_3.mov_0029.xml ke C:\\Users\\Nico Marvels\\belajar\\dataset\\labels\\test\n",
      "Berhasil menyalin frame_cam1.mp4_0049.jpg ke C:\\Users\\Nico Marvels\\belajar\\dataset\\images\\test\n",
      "Berhasil menyalin dan memperbarui frame_cam1.mp4_0049.xml ke C:\\Users\\Nico Marvels\\belajar\\dataset\\labels\\test\n",
      "Berhasil menyalin frame_2.mov_0002.jpg ke C:\\Users\\Nico Marvels\\belajar\\dataset\\images\\test\n",
      "Berhasil menyalin dan memperbarui frame_2.mov_0002.xml ke C:\\Users\\Nico Marvels\\belajar\\dataset\\labels\\test\n",
      "Berhasil menyalin frame_3.mov_0019.jpg ke C:\\Users\\Nico Marvels\\belajar\\dataset\\images\\test\n",
      "Berhasil menyalin dan memperbarui frame_3.mov_0019.xml ke C:\\Users\\Nico Marvels\\belajar\\dataset\\labels\\test\n",
      "Berhasil menyalin frame_cam1.mp4_0062.jpg ke C:\\Users\\Nico Marvels\\belajar\\dataset\\images\\test\n",
      "Berhasil menyalin dan memperbarui frame_cam1.mp4_0062.xml ke C:\\Users\\Nico Marvels\\belajar\\dataset\\labels\\test\n",
      "Berhasil menyalin frame_2.mov_0047.jpg ke C:\\Users\\Nico Marvels\\belajar\\dataset\\images\\test\n",
      "Berhasil menyalin dan memperbarui frame_2.mov_0047.xml ke C:\\Users\\Nico Marvels\\belajar\\dataset\\labels\\test\n",
      "Berhasil menyalin frame_2.mov_0062.jpg ke C:\\Users\\Nico Marvels\\belajar\\dataset\\images\\test\n",
      "Berhasil menyalin dan memperbarui frame_2.mov_0062.xml ke C:\\Users\\Nico Marvels\\belajar\\dataset\\labels\\test\n",
      "Berhasil menyalin frame_3.mov_0032.jpg ke C:\\Users\\Nico Marvels\\belajar\\dataset\\images\\test\n",
      "Berhasil menyalin dan memperbarui frame_3.mov_0032.xml ke C:\\Users\\Nico Marvels\\belajar\\dataset\\labels\\test\n",
      "Berhasil menyalin frame_3.mov_0002.jpg ke C:\\Users\\Nico Marvels\\belajar\\dataset\\images\\test\n",
      "Berhasil menyalin dan memperbarui frame_3.mov_0002.xml ke C:\\Users\\Nico Marvels\\belajar\\dataset\\labels\\test\n",
      "Berhasil menyalin frame_1.mov_0002.jpg ke C:\\Users\\Nico Marvels\\belajar\\dataset\\images\\test\n",
      "Berhasil menyalin dan memperbarui frame_1.mov_0002.xml ke C:\\Users\\Nico Marvels\\belajar\\dataset\\labels\\test\n",
      "Berhasil menyalin frame_3.mov_0012.jpg ke C:\\Users\\Nico Marvels\\belajar\\dataset\\images\\test\n",
      "Berhasil menyalin dan memperbarui frame_3.mov_0012.xml ke C:\\Users\\Nico Marvels\\belajar\\dataset\\labels\\test\n",
      "Berhasil menyalin frame_2.mov_0081.jpg ke C:\\Users\\Nico Marvels\\belajar\\dataset\\images\\test\n",
      "Berhasil menyalin dan memperbarui frame_2.mov_0081.xml ke C:\\Users\\Nico Marvels\\belajar\\dataset\\labels\\test\n",
      "Berhasil menyalin frame_cam1.mp4_0054.jpg ke C:\\Users\\Nico Marvels\\belajar\\dataset\\images\\test\n",
      "Berhasil menyalin dan memperbarui frame_cam1.mp4_0054.xml ke C:\\Users\\Nico Marvels\\belajar\\dataset\\labels\\test\n",
      "Berhasil menyalin frame_2.mov_0077.jpg ke C:\\Users\\Nico Marvels\\belajar\\dataset\\images\\test\n",
      "Berhasil menyalin dan memperbarui frame_2.mov_0077.xml ke C:\\Users\\Nico Marvels\\belajar\\dataset\\labels\\test\n",
      "Berhasil menyalin frame_2.mov_0056.jpg ke C:\\Users\\Nico Marvels\\belajar\\dataset\\images\\test\n",
      "Berhasil menyalin dan memperbarui frame_2.mov_0056.xml ke C:\\Users\\Nico Marvels\\belajar\\dataset\\labels\\test\n",
      "Berhasil menyalin frame_3.mov_0014.jpg ke C:\\Users\\Nico Marvels\\belajar\\dataset\\images\\test\n",
      "Berhasil menyalin dan memperbarui frame_3.mov_0014.xml ke C:\\Users\\Nico Marvels\\belajar\\dataset\\labels\\test\n",
      "Berhasil menyalin frame_cam1.mp4_0043.jpg ke C:\\Users\\Nico Marvels\\belajar\\dataset\\images\\test\n",
      "Berhasil menyalin dan memperbarui frame_cam1.mp4_0043.xml ke C:\\Users\\Nico Marvels\\belajar\\dataset\\labels\\test\n",
      "Berhasil menyalin frame_cam1.mp4_0065.jpg ke C:\\Users\\Nico Marvels\\belajar\\dataset\\images\\test\n",
      "Berhasil menyalin dan memperbarui frame_cam1.mp4_0065.xml ke C:\\Users\\Nico Marvels\\belajar\\dataset\\labels\\test\n",
      "Berhasil menyalin frame_cam1.mp4_0024.jpg ke C:\\Users\\Nico Marvels\\belajar\\dataset\\images\\test\n",
      "Berhasil menyalin dan memperbarui frame_cam1.mp4_0024.xml ke C:\\Users\\Nico Marvels\\belajar\\dataset\\labels\\test\n",
      "Berhasil menyalin frame_2.mov_0024.jpg ke C:\\Users\\Nico Marvels\\belajar\\dataset\\images\\test\n",
      "Berhasil menyalin dan memperbarui frame_2.mov_0024.xml ke C:\\Users\\Nico Marvels\\belajar\\dataset\\labels\\test\n",
      "Berhasil menyalin frame_2.mov_0036.jpg ke C:\\Users\\Nico Marvels\\belajar\\dataset\\images\\test\n",
      "Berhasil menyalin dan memperbarui frame_2.mov_0036.xml ke C:\\Users\\Nico Marvels\\belajar\\dataset\\labels\\test\n",
      "Berhasil menyalin frame_2.mov_0020.jpg ke C:\\Users\\Nico Marvels\\belajar\\dataset\\images\\test\n",
      "Berhasil menyalin dan memperbarui frame_2.mov_0020.xml ke C:\\Users\\Nico Marvels\\belajar\\dataset\\labels\\test\n",
      "Berhasil menyalin frame_2.mov_0034.jpg ke C:\\Users\\Nico Marvels\\belajar\\dataset\\images\\test\n",
      "Berhasil menyalin dan memperbarui frame_2.mov_0034.xml ke C:\\Users\\Nico Marvels\\belajar\\dataset\\labels\\test\n",
      "Berhasil menyalin frame_3.mov_0031.jpg ke C:\\Users\\Nico Marvels\\belajar\\dataset\\images\\test\n",
      "Berhasil menyalin dan memperbarui frame_3.mov_0031.xml ke C:\\Users\\Nico Marvels\\belajar\\dataset\\labels\\test\n",
      "Berhasil menyalin frame_3.mov_0001.jpg ke C:\\Users\\Nico Marvels\\belajar\\dataset\\images\\test\n",
      "Berhasil menyalin dan memperbarui frame_3.mov_0001.xml ke C:\\Users\\Nico Marvels\\belajar\\dataset\\labels\\test\n",
      "Berhasil menyalin frame_cam1.mp4_0036.jpg ke C:\\Users\\Nico Marvels\\belajar\\dataset\\images\\test\n",
      "Berhasil menyalin dan memperbarui frame_cam1.mp4_0036.xml ke C:\\Users\\Nico Marvels\\belajar\\dataset\\labels\\test\n",
      "Berhasil menyalin frame_1.mov_0003.jpg ke C:\\Users\\Nico Marvels\\belajar\\dataset\\images\\test\n",
      "Berhasil menyalin dan memperbarui frame_1.mov_0003.xml ke C:\\Users\\Nico Marvels\\belajar\\dataset\\labels\\test\n",
      "Berhasil menyalin frame_cam1.mp4_0061.jpg ke C:\\Users\\Nico Marvels\\belajar\\dataset\\images\\test\n",
      "Berhasil menyalin dan memperbarui frame_cam1.mp4_0061.xml ke C:\\Users\\Nico Marvels\\belajar\\dataset\\labels\\test\n",
      "Berhasil menyalin frame_2.mov_0099.jpg ke C:\\Users\\Nico Marvels\\belajar\\dataset\\images\\test\n",
      "Berhasil menyalin dan memperbarui frame_2.mov_0099.xml ke C:\\Users\\Nico Marvels\\belajar\\dataset\\labels\\test\n",
      "Berhasil menyalin frame_3.mov_0025.jpg ke C:\\Users\\Nico Marvels\\belajar\\dataset\\images\\test\n",
      "Berhasil menyalin dan memperbarui frame_3.mov_0025.xml ke C:\\Users\\Nico Marvels\\belajar\\dataset\\labels\\test\n",
      "Berhasil menyalin frame_3.mov_0005.jpg ke C:\\Users\\Nico Marvels\\belajar\\dataset\\images\\test\n",
      "Berhasil menyalin dan memperbarui frame_3.mov_0005.xml ke C:\\Users\\Nico Marvels\\belajar\\dataset\\labels\\test\n",
      "Berhasil menyalin frame_cam1.mp4_0002.jpg ke C:\\Users\\Nico Marvels\\belajar\\dataset\\images\\test\n",
      "Berhasil menyalin dan memperbarui frame_cam1.mp4_0002.xml ke C:\\Users\\Nico Marvels\\belajar\\dataset\\labels\\test\n",
      "Berhasil menyalin frame_2.mov_0018.jpg ke C:\\Users\\Nico Marvels\\belajar\\dataset\\images\\test\n",
      "Berhasil menyalin dan memperbarui frame_2.mov_0018.xml ke C:\\Users\\Nico Marvels\\belajar\\dataset\\labels\\test\n",
      "Berhasil menyalin frame_2.mov_0059.jpg ke C:\\Users\\Nico Marvels\\belajar\\dataset\\images\\test\n",
      "Berhasil menyalin dan memperbarui frame_2.mov_0059.xml ke C:\\Users\\Nico Marvels\\belajar\\dataset\\labels\\test\n",
      "Berhasil menyalin frame_cam1.mp4_0027.jpg ke C:\\Users\\Nico Marvels\\belajar\\dataset\\images\\test\n",
      "Berhasil menyalin dan memperbarui frame_cam1.mp4_0027.xml ke C:\\Users\\Nico Marvels\\belajar\\dataset\\labels\\test\n",
      "Berhasil menyalin frame_3.mov_0010.jpg ke C:\\Users\\Nico Marvels\\belajar\\dataset\\images\\test\n",
      "Berhasil menyalin dan memperbarui frame_3.mov_0010.xml ke C:\\Users\\Nico Marvels\\belajar\\dataset\\labels\\test\n",
      "Berhasil menyalin frame_3.mov_0008.jpg ke C:\\Users\\Nico Marvels\\belajar\\dataset\\images\\test\n",
      "Berhasil menyalin dan memperbarui frame_3.mov_0008.xml ke C:\\Users\\Nico Marvels\\belajar\\dataset\\labels\\test\n",
      "Berhasil menyalin frame_2.mov_0001.jpg ke C:\\Users\\Nico Marvels\\belajar\\dataset\\images\\test\n",
      "Berhasil menyalin dan memperbarui frame_2.mov_0001.xml ke C:\\Users\\Nico Marvels\\belajar\\dataset\\labels\\test\n",
      "Berhasil menyalin frame_1.mov_0005.jpg ke C:\\Users\\Nico Marvels\\belajar\\dataset\\images\\test\n",
      "Berhasil menyalin dan memperbarui frame_1.mov_0005.xml ke C:\\Users\\Nico Marvels\\belajar\\dataset\\labels\\test\n",
      "Berhasil menyalin frame_1.mov_0009.jpg ke C:\\Users\\Nico Marvels\\belajar\\dataset\\images\\test\n",
      "Berhasil menyalin dan memperbarui frame_1.mov_0009.xml ke C:\\Users\\Nico Marvels\\belajar\\dataset\\labels\\test\n",
      "Berhasil menyalin frame_2.mov_0082.jpg ke C:\\Users\\Nico Marvels\\belajar\\dataset\\images\\test\n",
      "Berhasil menyalin dan memperbarui frame_2.mov_0082.xml ke C:\\Users\\Nico Marvels\\belajar\\dataset\\labels\\test\n",
      "Berhasil menyalin frame_1.mov_0001.jpg ke C:\\Users\\Nico Marvels\\belajar\\dataset\\images\\test\n",
      "Berhasil menyalin dan memperbarui frame_1.mov_0001.xml ke C:\\Users\\Nico Marvels\\belajar\\dataset\\labels\\test\n",
      "Berhasil menyalin frame_2.mov_0086.jpg ke C:\\Users\\Nico Marvels\\belajar\\dataset\\images\\test\n",
      "Berhasil menyalin dan memperbarui frame_2.mov_0086.xml ke C:\\Users\\Nico Marvels\\belajar\\dataset\\labels\\test\n",
      "Berhasil menyalin frame_3.mov_0017.jpg ke C:\\Users\\Nico Marvels\\belajar\\dataset\\images\\test\n",
      "Berhasil menyalin dan memperbarui frame_3.mov_0017.xml ke C:\\Users\\Nico Marvels\\belajar\\dataset\\labels\\test\n",
      "Berhasil menyalin frame_2.mov_0057.jpg ke C:\\Users\\Nico Marvels\\belajar\\dataset\\images\\test\n",
      "Berhasil menyalin dan memperbarui frame_2.mov_0057.xml ke C:\\Users\\Nico Marvels\\belajar\\dataset\\labels\\test\n",
      "Berhasil menyalin frame_2.mov_0014.jpg ke C:\\Users\\Nico Marvels\\belajar\\dataset\\images\\test\n",
      "Berhasil menyalin dan memperbarui frame_2.mov_0014.xml ke C:\\Users\\Nico Marvels\\belajar\\dataset\\labels\\test\n",
      "Berhasil menyalin frame_2.mov_0088.jpg ke C:\\Users\\Nico Marvels\\belajar\\dataset\\images\\test\n",
      "Berhasil menyalin dan memperbarui frame_2.mov_0088.xml ke C:\\Users\\Nico Marvels\\belajar\\dataset\\labels\\test\n",
      "Berhasil menyalin frame_3.mov_0020.jpg ke C:\\Users\\Nico Marvels\\belajar\\dataset\\images\\test\n",
      "Berhasil menyalin dan memperbarui frame_3.mov_0020.xml ke C:\\Users\\Nico Marvels\\belajar\\dataset\\labels\\test\n",
      "Berhasil menyalin frame_cam1.mp4_0052.jpg ke C:\\Users\\Nico Marvels\\belajar\\dataset\\images\\test\n",
      "Berhasil menyalin dan memperbarui frame_cam1.mp4_0052.xml ke C:\\Users\\Nico Marvels\\belajar\\dataset\\labels\\test\n",
      "Berhasil menyalin frame_2.mov_0074.jpg ke C:\\Users\\Nico Marvels\\belajar\\dataset\\images\\test\n",
      "Berhasil menyalin dan memperbarui frame_2.mov_0074.xml ke C:\\Users\\Nico Marvels\\belajar\\dataset\\labels\\test\n",
      "Berhasil menyalin frame_2.mov_0049.jpg ke C:\\Users\\Nico Marvels\\belajar\\dataset\\images\\test\n",
      "Berhasil menyalin dan memperbarui frame_2.mov_0049.xml ke C:\\Users\\Nico Marvels\\belajar\\dataset\\labels\\test\n",
      "Berhasil menyalin frame_3.mov_0006.jpg ke C:\\Users\\Nico Marvels\\belajar\\dataset\\images\\test\n",
      "Berhasil menyalin dan memperbarui frame_3.mov_0006.xml ke C:\\Users\\Nico Marvels\\belajar\\dataset\\labels\\test\n",
      "Berhasil menyalin frame_2.mov_0087.jpg ke C:\\Users\\Nico Marvels\\belajar\\dataset\\images\\test\n",
      "Berhasil menyalin dan memperbarui frame_2.mov_0087.xml ke C:\\Users\\Nico Marvels\\belajar\\dataset\\labels\\test\n",
      "Berhasil menyalin frame_2.mov_0051.jpg ke C:\\Users\\Nico Marvels\\belajar\\dataset\\images\\test\n",
      "Berhasil menyalin dan memperbarui frame_2.mov_0051.xml ke C:\\Users\\Nico Marvels\\belajar\\dataset\\labels\\test\n",
      "Berhasil menyalin frame_cam1.mp4_0066.jpg ke C:\\Users\\Nico Marvels\\belajar\\dataset\\images\\test\n",
      "Berhasil menyalin dan memperbarui frame_cam1.mp4_0066.xml ke C:\\Users\\Nico Marvels\\belajar\\dataset\\labels\\test\n",
      "Berhasil menyalin frame_2.mov_0023.jpg ke C:\\Users\\Nico Marvels\\belajar\\dataset\\images\\test\n",
      "Berhasil menyalin dan memperbarui frame_2.mov_0023.xml ke C:\\Users\\Nico Marvels\\belajar\\dataset\\labels\\test\n",
      "Berhasil menyalin frame_3.mov_0036.jpg ke C:\\Users\\Nico Marvels\\belajar\\dataset\\images\\test\n",
      "Berhasil menyalin dan memperbarui frame_3.mov_0036.xml ke C:\\Users\\Nico Marvels\\belajar\\dataset\\labels\\test\n",
      "Berhasil menyalin frame_3.mov_0035.jpg ke C:\\Users\\Nico Marvels\\belajar\\dataset\\images\\test\n",
      "Berhasil menyalin dan memperbarui frame_3.mov_0035.xml ke C:\\Users\\Nico Marvels\\belajar\\dataset\\labels\\test\n",
      "Berhasil menyalin frame_2.mov_0029.jpg ke C:\\Users\\Nico Marvels\\belajar\\dataset\\images\\test\n",
      "Berhasil menyalin dan memperbarui frame_2.mov_0029.xml ke C:\\Users\\Nico Marvels\\belajar\\dataset\\labels\\test\n",
      "Berhasil menyalin frame_2.mov_0040.jpg ke C:\\Users\\Nico Marvels\\belajar\\dataset\\images\\test\n",
      "Berhasil menyalin dan memperbarui frame_2.mov_0040.xml ke C:\\Users\\Nico Marvels\\belajar\\dataset\\labels\\test\n",
      "Berhasil menyalin frame_2.mov_0009.jpg ke C:\\Users\\Nico Marvels\\belajar\\dataset\\images\\test\n",
      "Berhasil menyalin dan memperbarui frame_2.mov_0009.xml ke C:\\Users\\Nico Marvels\\belajar\\dataset\\labels\\test\n",
      "Berhasil menyalin frame_2.mov_0085.jpg ke C:\\Users\\Nico Marvels\\belajar\\dataset\\images\\test\n",
      "Berhasil menyalin dan memperbarui frame_2.mov_0085.xml ke C:\\Users\\Nico Marvels\\belajar\\dataset\\labels\\test\n",
      "Berhasil menyalin frame_3.mov_0016.jpg ke C:\\Users\\Nico Marvels\\belajar\\dataset\\images\\test\n",
      "Berhasil menyalin dan memperbarui frame_3.mov_0016.xml ke C:\\Users\\Nico Marvels\\belajar\\dataset\\labels\\test\n",
      "Berhasil menyalin frame_2.mov_0093.jpg ke C:\\Users\\Nico Marvels\\belajar\\dataset\\images\\test\n",
      "Berhasil menyalin dan memperbarui frame_2.mov_0093.xml ke C:\\Users\\Nico Marvels\\belajar\\dataset\\labels\\test\n",
      "Berhasil menyalin frame_cam1.mp4_0006.jpg ke C:\\Users\\Nico Marvels\\belajar\\dataset\\images\\test\n",
      "Berhasil menyalin dan memperbarui frame_cam1.mp4_0006.xml ke C:\\Users\\Nico Marvels\\belajar\\dataset\\labels\\test\n",
      "Berhasil menyalin frame_2.mov_0067.jpg ke C:\\Users\\Nico Marvels\\belajar\\dataset\\images\\test\n",
      "Berhasil menyalin dan memperbarui frame_2.mov_0067.xml ke C:\\Users\\Nico Marvels\\belajar\\dataset\\labels\\test\n",
      "Berhasil menyalin frame_cam1.mp4_0048.jpg ke C:\\Users\\Nico Marvels\\belajar\\dataset\\images\\test\n",
      "Berhasil menyalin dan memperbarui frame_cam1.mp4_0048.xml ke C:\\Users\\Nico Marvels\\belajar\\dataset\\labels\\test\n",
      "Berhasil menyalin frame_3.mov_0013.jpg ke C:\\Users\\Nico Marvels\\belajar\\dataset\\images\\test\n",
      "Berhasil menyalin dan memperbarui frame_3.mov_0013.xml ke C:\\Users\\Nico Marvels\\belajar\\dataset\\labels\\test\n",
      "Berhasil menyalin frame_3.mov_0007.jpg ke C:\\Users\\Nico Marvels\\belajar\\dataset\\images\\test\n",
      "Berhasil menyalin dan memperbarui frame_3.mov_0007.xml ke C:\\Users\\Nico Marvels\\belajar\\dataset\\labels\\test\n",
      "Berhasil menyalin frame_3.mov_0003.jpg ke C:\\Users\\Nico Marvels\\belajar\\dataset\\images\\test\n",
      "Berhasil menyalin dan memperbarui frame_3.mov_0003.xml ke C:\\Users\\Nico Marvels\\belajar\\dataset\\labels\\test\n",
      "Berhasil menyalin frame_2.mov_0032.jpg ke C:\\Users\\Nico Marvels\\belajar\\dataset\\images\\test\n",
      "Berhasil menyalin dan memperbarui frame_2.mov_0032.xml ke C:\\Users\\Nico Marvels\\belajar\\dataset\\labels\\test\n",
      "Berhasil menyalin frame_2.mov_0035.jpg ke C:\\Users\\Nico Marvels\\belajar\\dataset\\images\\test\n",
      "Berhasil menyalin dan memperbarui frame_2.mov_0035.xml ke C:\\Users\\Nico Marvels\\belajar\\dataset\\labels\\test\n",
      "Berhasil menyalin frame_2.mov_0033.jpg ke C:\\Users\\Nico Marvels\\belajar\\dataset\\images\\test\n",
      "Berhasil menyalin dan memperbarui frame_2.mov_0033.xml ke C:\\Users\\Nico Marvels\\belajar\\dataset\\labels\\test\n",
      "Berhasil menyalin frame_cam1.mp4_0058.jpg ke C:\\Users\\Nico Marvels\\belajar\\dataset\\images\\test\n",
      "Berhasil menyalin dan memperbarui frame_cam1.mp4_0058.xml ke C:\\Users\\Nico Marvels\\belajar\\dataset\\labels\\test\n",
      "Berhasil menyalin frame_cam1.mp4_0003.jpg ke C:\\Users\\Nico Marvels\\belajar\\dataset\\images\\test\n",
      "Berhasil menyalin dan memperbarui frame_cam1.mp4_0003.xml ke C:\\Users\\Nico Marvels\\belajar\\dataset\\labels\\test\n",
      "Berhasil menyalin frame_2.mov_0061.jpg ke C:\\Users\\Nico Marvels\\belajar\\dataset\\images\\test\n",
      "Berhasil menyalin dan memperbarui frame_2.mov_0061.xml ke C:\\Users\\Nico Marvels\\belajar\\dataset\\labels\\test\n",
      "Berhasil menyalin frame_2.mov_0055.jpg ke C:\\Users\\Nico Marvels\\belajar\\dataset\\images\\test\n",
      "Berhasil menyalin dan memperbarui frame_2.mov_0055.xml ke C:\\Users\\Nico Marvels\\belajar\\dataset\\labels\\test\n",
      "Berhasil menyalin frame_cam1.mp4_0010.jpg ke C:\\Users\\Nico Marvels\\belajar\\dataset\\images\\test\n",
      "Berhasil menyalin dan memperbarui frame_cam1.mp4_0010.xml ke C:\\Users\\Nico Marvels\\belajar\\dataset\\labels\\test\n",
      "Berhasil menyalin frame_2.mov_0005.jpg ke C:\\Users\\Nico Marvels\\belajar\\dataset\\images\\test\n",
      "Berhasil menyalin dan memperbarui frame_2.mov_0005.xml ke C:\\Users\\Nico Marvels\\belajar\\dataset\\labels\\test\n",
      "Berhasil menyalin frame_cam1.mp4_0037.jpg ke C:\\Users\\Nico Marvels\\belajar\\dataset\\images\\test\n",
      "Berhasil menyalin dan memperbarui frame_cam1.mp4_0037.xml ke C:\\Users\\Nico Marvels\\belajar\\dataset\\labels\\test\n",
      "Berhasil menyalin frame_cam1.mp4_0013.jpg ke C:\\Users\\Nico Marvels\\belajar\\dataset\\images\\test\n",
      "Berhasil menyalin dan memperbarui frame_cam1.mp4_0013.xml ke C:\\Users\\Nico Marvels\\belajar\\dataset\\labels\\test\n",
      "Berhasil menyalin frame_cam1.mp4_0033.jpg ke C:\\Users\\Nico Marvels\\belajar\\dataset\\images\\test\n",
      "Berhasil menyalin dan memperbarui frame_cam1.mp4_0033.xml ke C:\\Users\\Nico Marvels\\belajar\\dataset\\labels\\test\n",
      "Berhasil menyalin frame_2.mov_0065.jpg ke C:\\Users\\Nico Marvels\\belajar\\dataset\\images\\test\n",
      "Berhasil menyalin dan memperbarui frame_2.mov_0065.xml ke C:\\Users\\Nico Marvels\\belajar\\dataset\\labels\\test\n",
      "Berhasil menyalin frame_2.mov_0039.jpg ke C:\\Users\\Nico Marvels\\belajar\\dataset\\images\\test\n",
      "Berhasil menyalin dan memperbarui frame_2.mov_0039.xml ke C:\\Users\\Nico Marvels\\belajar\\dataset\\labels\\test\n",
      "Berhasil menyalin frame_2.mov_0054.jpg ke C:\\Users\\Nico Marvels\\belajar\\dataset\\images\\test\n",
      "Berhasil menyalin dan memperbarui frame_2.mov_0054.xml ke C:\\Users\\Nico Marvels\\belajar\\dataset\\labels\\test\n",
      "Berhasil menyalin frame_2.mov_0050.jpg ke C:\\Users\\Nico Marvels\\belajar\\dataset\\images\\test\n",
      "Berhasil menyalin dan memperbarui frame_2.mov_0050.xml ke C:\\Users\\Nico Marvels\\belajar\\dataset\\labels\\test\n",
      "Berhasil menyalin frame_2.mov_0008.jpg ke C:\\Users\\Nico Marvels\\belajar\\dataset\\images\\test\n",
      "Berhasil menyalin dan memperbarui frame_2.mov_0008.xml ke C:\\Users\\Nico Marvels\\belajar\\dataset\\labels\\test\n",
      "Berhasil menyalin frame_2.mov_0010.jpg ke C:\\Users\\Nico Marvels\\belajar\\dataset\\images\\test\n",
      "Berhasil menyalin dan memperbarui frame_2.mov_0010.xml ke C:\\Users\\Nico Marvels\\belajar\\dataset\\labels\\test\n",
      "Berhasil menyalin frame_cam1.mp4_0050.jpg ke C:\\Users\\Nico Marvels\\belajar\\dataset\\images\\test\n",
      "Berhasil menyalin dan memperbarui frame_cam1.mp4_0050.xml ke C:\\Users\\Nico Marvels\\belajar\\dataset\\labels\\test\n",
      "Berhasil menyalin frame_3.mov_0004.jpg ke C:\\Users\\Nico Marvels\\belajar\\dataset\\images\\test\n",
      "Berhasil menyalin dan memperbarui frame_3.mov_0004.xml ke C:\\Users\\Nico Marvels\\belajar\\dataset\\labels\\test\n",
      "Berhasil menyalin frame_2.mov_0098.jpg ke C:\\Users\\Nico Marvels\\belajar\\dataset\\images\\test\n",
      "Berhasil menyalin dan memperbarui frame_2.mov_0098.xml ke C:\\Users\\Nico Marvels\\belajar\\dataset\\labels\\test\n",
      "Berhasil menyalin frame_3.mov_0034.jpg ke C:\\Users\\Nico Marvels\\belajar\\dataset\\images\\test\n",
      "Berhasil menyalin dan memperbarui frame_3.mov_0034.xml ke C:\\Users\\Nico Marvels\\belajar\\dataset\\labels\\test\n",
      "Berhasil menyalin frame_3.mov_0009.jpg ke C:\\Users\\Nico Marvels\\belajar\\dataset\\images\\test\n",
      "Berhasil menyalin dan memperbarui frame_3.mov_0009.xml ke C:\\Users\\Nico Marvels\\belajar\\dataset\\labels\\test\n",
      "Berhasil menyalin frame_cam1.mp4_0017.jpg ke C:\\Users\\Nico Marvels\\belajar\\dataset\\images\\test\n",
      "Berhasil menyalin dan memperbarui frame_cam1.mp4_0017.xml ke C:\\Users\\Nico Marvels\\belajar\\dataset\\labels\\test\n",
      "Berhasil menyalin frame_cam1.mp4_0068.jpg ke C:\\Users\\Nico Marvels\\belajar\\dataset\\images\\test\n",
      "Berhasil menyalin dan memperbarui frame_cam1.mp4_0068.xml ke C:\\Users\\Nico Marvels\\belajar\\dataset\\labels\\test\n",
      "Berhasil menyalin frame_cam1.mp4_0046.jpg ke C:\\Users\\Nico Marvels\\belajar\\dataset\\images\\test\n",
      "Berhasil menyalin dan memperbarui frame_cam1.mp4_0046.xml ke C:\\Users\\Nico Marvels\\belajar\\dataset\\labels\\test\n",
      "Berhasil menyalin frame_2.mov_0064.jpg ke C:\\Users\\Nico Marvels\\belajar\\dataset\\images\\test\n",
      "Berhasil menyalin dan memperbarui frame_2.mov_0064.xml ke C:\\Users\\Nico Marvels\\belajar\\dataset\\labels\\test\n",
      "Berhasil menyalin frame_3.mov_0022.jpg ke C:\\Users\\Nico Marvels\\belajar\\dataset\\images\\test\n",
      "Berhasil menyalin dan memperbarui frame_3.mov_0022.xml ke C:\\Users\\Nico Marvels\\belajar\\dataset\\labels\\test\n",
      "Berhasil menyalin frame_2.mov_0079.jpg ke C:\\Users\\Nico Marvels\\belajar\\dataset\\images\\test\n",
      "Berhasil menyalin dan memperbarui frame_2.mov_0079.xml ke C:\\Users\\Nico Marvels\\belajar\\dataset\\labels\\test\n",
      "Berhasil menyalin frame_1.mov_0006.jpg ke C:\\Users\\Nico Marvels\\belajar\\dataset\\images\\test\n",
      "Berhasil menyalin dan memperbarui frame_1.mov_0006.xml ke C:\\Users\\Nico Marvels\\belajar\\dataset\\labels\\test\n",
      "Berhasil menyalin frame_2.mov_0075.jpg ke C:\\Users\\Nico Marvels\\belajar\\dataset\\images\\test\n",
      "Berhasil menyalin dan memperbarui frame_2.mov_0075.xml ke C:\\Users\\Nico Marvels\\belajar\\dataset\\labels\\test\n",
      "Berhasil menyalin frame_2.mov_0092.jpg ke C:\\Users\\Nico Marvels\\belajar\\dataset\\images\\test\n",
      "Berhasil menyalin dan memperbarui frame_2.mov_0092.xml ke C:\\Users\\Nico Marvels\\belajar\\dataset\\labels\\test\n",
      "Berhasil menyalin frame_2.mov_0089.jpg ke C:\\Users\\Nico Marvels\\belajar\\dataset\\images\\test\n",
      "Berhasil menyalin dan memperbarui frame_2.mov_0089.xml ke C:\\Users\\Nico Marvels\\belajar\\dataset\\labels\\test\n",
      "Berhasil menyalin frame_cam1.mp4_0051.jpg ke C:\\Users\\Nico Marvels\\belajar\\dataset\\images\\test\n",
      "Berhasil menyalin dan memperbarui frame_cam1.mp4_0051.xml ke C:\\Users\\Nico Marvels\\belajar\\dataset\\labels\\test\n",
      "Berhasil menyalin frame_cam1.mp4_0001.jpg ke C:\\Users\\Nico Marvels\\belajar\\dataset\\images\\test\n",
      "Berhasil menyalin dan memperbarui frame_cam1.mp4_0001.xml ke C:\\Users\\Nico Marvels\\belajar\\dataset\\labels\\test\n",
      "Berhasil menyalin frame_2.mov_0060.jpg ke C:\\Users\\Nico Marvels\\belajar\\dataset\\images\\test\n",
      "Berhasil menyalin dan memperbarui frame_2.mov_0060.xml ke C:\\Users\\Nico Marvels\\belajar\\dataset\\labels\\test\n",
      "Berhasil menyalin frame_cam1.mp4_0031.jpg ke C:\\Users\\Nico Marvels\\belajar\\dataset\\images\\test\n",
      "Berhasil menyalin dan memperbarui frame_cam1.mp4_0031.xml ke C:\\Users\\Nico Marvels\\belajar\\dataset\\labels\\test\n",
      "Berhasil menyalin frame_cam1.mp4_0070.jpg ke C:\\Users\\Nico Marvels\\belajar\\dataset\\images\\test\n",
      "Berhasil menyalin dan memperbarui frame_cam1.mp4_0070.xml ke C:\\Users\\Nico Marvels\\belajar\\dataset\\labels\\test\n",
      "Berhasil menyalin frame_2.mov_0078.jpg ke C:\\Users\\Nico Marvels\\belajar\\dataset\\images\\test\n",
      "Berhasil menyalin dan memperbarui frame_2.mov_0078.xml ke C:\\Users\\Nico Marvels\\belajar\\dataset\\labels\\test\n",
      "Berhasil menyalin frame_cam1.mp4_0045.jpg ke C:\\Users\\Nico Marvels\\belajar\\dataset\\images\\test\n",
      "Berhasil menyalin dan memperbarui frame_cam1.mp4_0045.xml ke C:\\Users\\Nico Marvels\\belajar\\dataset\\labels\\test\n",
      "Berhasil menyalin frame_2.mov_0013.jpg ke C:\\Users\\Nico Marvels\\belajar\\dataset\\images\\test\n",
      "Berhasil menyalin dan memperbarui frame_2.mov_0013.xml ke C:\\Users\\Nico Marvels\\belajar\\dataset\\labels\\test\n",
      "Berhasil menyalin frame_2.mov_0058.jpg ke C:\\Users\\Nico Marvels\\belajar\\dataset\\images\\test\n",
      "Berhasil menyalin dan memperbarui frame_2.mov_0058.xml ke C:\\Users\\Nico Marvels\\belajar\\dataset\\labels\\test\n",
      "Berhasil menyalin frame_2.mov_0095.jpg ke C:\\Users\\Nico Marvels\\belajar\\dataset\\images\\test\n",
      "Berhasil menyalin dan memperbarui frame_2.mov_0095.xml ke C:\\Users\\Nico Marvels\\belajar\\dataset\\labels\\test\n",
      "Berhasil menyalin frame_2.mov_0053.jpg ke C:\\Users\\Nico Marvels\\belajar\\dataset\\images\\test\n",
      "Berhasil menyalin dan memperbarui frame_2.mov_0053.xml ke C:\\Users\\Nico Marvels\\belajar\\dataset\\labels\\test\n",
      "Berhasil menyalin frame_3.mov_0023.jpg ke C:\\Users\\Nico Marvels\\belajar\\dataset\\images\\test\n",
      "Berhasil menyalin dan memperbarui frame_3.mov_0023.xml ke C:\\Users\\Nico Marvels\\belajar\\dataset\\labels\\test\n",
      "Berhasil menyalin frame_cam1.mp4_0022.jpg ke C:\\Users\\Nico Marvels\\belajar\\dataset\\images\\test\n",
      "Berhasil menyalin dan memperbarui frame_cam1.mp4_0022.xml ke C:\\Users\\Nico Marvels\\belajar\\dataset\\labels\\test\n",
      "Berhasil menyalin frame_cam1.mp4_0029.jpg ke C:\\Users\\Nico Marvels\\belajar\\dataset\\images\\test\n",
      "Berhasil menyalin dan memperbarui frame_cam1.mp4_0029.xml ke C:\\Users\\Nico Marvels\\belajar\\dataset\\labels\\test\n",
      "Berhasil menyalin frame_3.mov_0030.jpg ke C:\\Users\\Nico Marvels\\belajar\\dataset\\images\\test\n",
      "Berhasil menyalin dan memperbarui frame_3.mov_0030.xml ke C:\\Users\\Nico Marvels\\belajar\\dataset\\labels\\test\n",
      "Berhasil menyalin frame_2.mov_0096.jpg ke C:\\Users\\Nico Marvels\\belajar\\dataset\\images\\test\n",
      "Berhasil menyalin dan memperbarui frame_2.mov_0096.xml ke C:\\Users\\Nico Marvels\\belajar\\dataset\\labels\\test\n",
      "Berhasil menyalin frame_2.mov_0028.jpg ke C:\\Users\\Nico Marvels\\belajar\\dataset\\images\\test\n",
      "Berhasil menyalin dan memperbarui frame_2.mov_0028.xml ke C:\\Users\\Nico Marvels\\belajar\\dataset\\labels\\test\n",
      "Berhasil menyalin frame_1.mov_0008.jpg ke C:\\Users\\Nico Marvels\\belajar\\dataset\\images\\test\n",
      "Berhasil menyalin dan memperbarui frame_1.mov_0008.xml ke C:\\Users\\Nico Marvels\\belajar\\dataset\\labels\\test\n",
      "Berhasil menyalin frame_cam1.mp4_0005.jpg ke C:\\Users\\Nico Marvels\\belajar\\dataset\\images\\test\n",
      "Berhasil menyalin dan memperbarui frame_cam1.mp4_0005.xml ke C:\\Users\\Nico Marvels\\belajar\\dataset\\labels\\test\n",
      "Berhasil menyalin frame_2.mov_0041.jpg ke C:\\Users\\Nico Marvels\\belajar\\dataset\\images\\test\n",
      "Berhasil menyalin dan memperbarui frame_2.mov_0041.xml ke C:\\Users\\Nico Marvels\\belajar\\dataset\\labels\\test\n",
      "Berhasil menyalin frame_2.mov_0090.jpg ke C:\\Users\\Nico Marvels\\belajar\\dataset\\images\\test\n",
      "Berhasil menyalin dan memperbarui frame_2.mov_0090.xml ke C:\\Users\\Nico Marvels\\belajar\\dataset\\labels\\test\n",
      "Berhasil menyalin frame_2.mov_0052.jpg ke C:\\Users\\Nico Marvels\\belajar\\dataset\\images\\test\n",
      "Berhasil menyalin dan memperbarui frame_2.mov_0052.xml ke C:\\Users\\Nico Marvels\\belajar\\dataset\\labels\\test\n",
      "Berhasil menyalin frame_cam1.mp4_0069.jpg ke C:\\Users\\Nico Marvels\\belajar\\dataset\\images\\test\n",
      "Berhasil menyalin dan memperbarui frame_cam1.mp4_0069.xml ke C:\\Users\\Nico Marvels\\belajar\\dataset\\labels\\test\n",
      "Berhasil menyalin frame_3.mov_0021.jpg ke C:\\Users\\Nico Marvels\\belajar\\dataset\\images\\test\n",
      "Berhasil menyalin dan memperbarui frame_3.mov_0021.xml ke C:\\Users\\Nico Marvels\\belajar\\dataset\\labels\\test\n",
      "Berhasil menyalin frame_cam1.mp4_0041.jpg ke C:\\Users\\Nico Marvels\\belajar\\dataset\\images\\test\n",
      "Berhasil menyalin dan memperbarui frame_cam1.mp4_0041.xml ke C:\\Users\\Nico Marvels\\belajar\\dataset\\labels\\test\n",
      "Berhasil menyalin frame_2.mov_0007.jpg ke C:\\Users\\Nico Marvels\\belajar\\dataset\\images\\test\n",
      "Berhasil menyalin dan memperbarui frame_2.mov_0007.xml ke C:\\Users\\Nico Marvels\\belajar\\dataset\\labels\\test\n",
      "Berhasil menyalin frame_3.mov_0026.jpg ke C:\\Users\\Nico Marvels\\belajar\\dataset\\images\\test\n",
      "Berhasil menyalin dan memperbarui frame_3.mov_0026.xml ke C:\\Users\\Nico Marvels\\belajar\\dataset\\labels\\test\n",
      "Berhasil menyalin frame_cam1.mp4_0057.jpg ke C:\\Users\\Nico Marvels\\belajar\\dataset\\images\\test\n",
      "Berhasil menyalin dan memperbarui frame_cam1.mp4_0057.xml ke C:\\Users\\Nico Marvels\\belajar\\dataset\\labels\\test\n",
      "Berhasil menyalin frame_2.mov_0015.jpg ke C:\\Users\\Nico Marvels\\belajar\\dataset\\images\\test\n",
      "Berhasil menyalin dan memperbarui frame_2.mov_0015.xml ke C:\\Users\\Nico Marvels\\belajar\\dataset\\labels\\test\n",
      "Berhasil menyalin frame_cam1.mp4_0038.jpg ke C:\\Users\\Nico Marvels\\belajar\\dataset\\images\\test\n",
      "Berhasil menyalin dan memperbarui frame_cam1.mp4_0038.xml ke C:\\Users\\Nico Marvels\\belajar\\dataset\\labels\\test\n",
      "Berhasil menyalin frame_2.mov_0011.jpg ke C:\\Users\\Nico Marvels\\belajar\\dataset\\images\\test\n",
      "Berhasil menyalin dan memperbarui frame_2.mov_0011.xml ke C:\\Users\\Nico Marvels\\belajar\\dataset\\labels\\test\n",
      "Berhasil menyalin frame_2.mov_0063.jpg ke C:\\Users\\Nico Marvels\\belajar\\dataset\\images\\test\n",
      "Berhasil menyalin dan memperbarui frame_2.mov_0063.xml ke C:\\Users\\Nico Marvels\\belajar\\dataset\\labels\\test\n",
      "Berhasil menyalin frame_2.mov_0083.jpg ke C:\\Users\\Nico Marvels\\belajar\\dataset\\images\\test\n",
      "Berhasil menyalin dan memperbarui frame_2.mov_0083.xml ke C:\\Users\\Nico Marvels\\belajar\\dataset\\labels\\test\n",
      "Proses penyalinan dan pembaruan selesai.\n"
     ]
    }
   ],
   "source": [
    "import os\n",
    "import shutil\n",
    "import random\n",
    "import xml.etree.ElementTree as ET\n",
    "\n",
    "# Path ke folder sumber dan tujuan\n",
    "source_folder = r\"C:\\Users\\Nico Marvels\\belajar\\dataset\"\n",
    "train_img_folder = r\"C:\\Users\\Nico Marvels\\belajar\\dataset\\images\\train\"\n",
    "val_img_folder = r\"C:\\Users\\Nico Marvels\\belajar\\dataset\\images\\val\"\n",
    "test_img_folder = r\"C:\\Users\\Nico Marvels\\belajar\\dataset\\images\\test\"\n",
    "train_xml_folder = r\"C:\\Users\\Nico Marvels\\belajar\\dataset\\annotasi\\train\"\n",
    "val_xml_folder = r\"C:\\Users\\Nico Marvels\\belajar\\dataset\\annotasi\\val\"\n",
    "test_xml_folder = r\"C:\\Users\\Nico Marvels\\belajar\\dataset\\annotasi\\test\"\n",
    "\n",
    "# Pastikan folder sumber ada\n",
    "if not os.path.exists(source_folder):\n",
    "    print(f\"Error: Folder {source_folder} tidak ditemukan.\")\n",
    "    exit()\n",
    "\n",
    "# Buat folder tujuan jika belum ada\n",
    "for folder in [train_img_folder, val_img_folder, test_img_folder, train_xml_folder, val_xml_folder, test_xml_folder]:\n",
    "    os.makedirs(folder, exist_ok=True)\n",
    "\n",
    "# Dapatkan daftar file di folder sumber\n",
    "files = os.listdir(source_folder)\n",
    "jpg_files = [f for f in files if f.lower().endswith('.jpg')]\n",
    "xml_files = [f for f in files if f.lower().endswith('.xml')]\n",
    "\n",
    "# Dapatkan nama file tanpa ekstensi yang berpasangan\n",
    "jpg_basenames = {os.path.splitext(f)[0] for f in jpg_files}\n",
    "xml_basenames = {os.path.splitext(f)[0] for f in xml_files}\n",
    "paired_basenames = jpg_basenames.intersection(xml_basenames)  # Hanya file yang berpasangan\n",
    "\n",
    "# Konversi ke list dan acak untuk pembagian\n",
    "paired_files = list(paired_basenames)\n",
    "random.shuffle(paired_files)\n",
    "\n",
    "# Hitung jumlah file untuk train (80%) dan val (20%)\n",
    "total_files = len(paired_files)\n",
    "train_count = int(total_files * 0.8)\n",
    "val_count = total_files - train_count  # Sisanya untuk val\n",
    "\n",
    "# Bagi file menjadi train dan val\n",
    "train_files = paired_files[:train_count]\n",
    "val_files = paired_files[train_count:]\n",
    "\n",
    "# Fungsi untuk mengubah path dalam file XML\n",
    "def update_xml_path(xml_file, new_img_path):\n",
    "    try:\n",
    "        tree = ET.parse(xml_file)\n",
    "        root = tree.getroot()\n",
    "        path_element = root.find('path')\n",
    "        if path_element is not None:\n",
    "            path_element.text = new_img_path\n",
    "        tree.write(xml_file)\n",
    "    except Exception as e:\n",
    "        print(f\"Gagal memproses XML {xml_file}: {e}\")\n",
    "\n",
    "# Salin file dan perbarui XML\n",
    "def copy_files(file_list, img_dest_folder, xml_dest_folder, source_folder):\n",
    "    for basename in file_list:\n",
    "        jpg_file = f\"{basename}.jpg\"\n",
    "        xml_file = f\"{basename}.xml\"\n",
    "        src_jpg_path = os.path.join(source_folder, jpg_file)\n",
    "        src_xml_path = os.path.join(source_folder, xml_file)\n",
    "        dest_jpg_path = os.path.join(img_dest_folder, jpg_file)\n",
    "        dest_xml_path = os.path.join(xml_dest_folder, xml_file)\n",
    "\n",
    "        # Salin file JPG\n",
    "        try:\n",
    "            shutil.copy2(src_jpg_path, dest_jpg_path)\n",
    "            print(f\"Berhasil menyalin {jpg_file} ke {img_dest_folder}\")\n",
    "        except Exception as e:\n",
    "            print(f\"Gagal menyalin {jpg_file}: {e}\")\n",
    "\n",
    "        # Salin file XML dan perbarui path\n",
    "        try:\n",
    "            shutil.copy2(src_xml_path, dest_xml_path)\n",
    "            update_xml_path(dest_xml_path, dest_jpg_path)\n",
    "            print(f\"Berhasil menyalin dan memperbarui {xml_file} ke {xml_dest_folder}\")\n",
    "        except Exception as e:\n",
    "            print(f\"Gagal menyalin atau memperbarui {xml_file}: {e}\")\n",
    "\n",
    "# Salin 80% ke train\n",
    "copy_files(train_files, train_img_folder, train_xml_folder, source_folder)\n",
    "\n",
    "# Salin 20% ke val\n",
    "copy_files(val_files, val_img_folder, val_xml_folder, source_folder)\n",
    "\n",
    "# Salin 100% ke test\n",
    "copy_files(paired_files, test_img_folder, test_xml_folder, source_folder)\n",
    "\n",
    "print(\"Proses penyalinan dan pembaruan selesai.\")"
   ]
  },
  {
   "cell_type": "code",
   "execution_count": 21,
   "id": "901f88d7-c2a0-4a21-9384-66223742e3fa",
   "metadata": {},
   "outputs": [
    {
     "name": "stdout",
     "output_type": "stream",
     "text": [
      "[INFO] Total kelas ditemukan: 0\n",
      "[INFO] Daftar kelas: []\n",
      "[INFO] Selesai konversi untuk split 'train', hasil di C:\\Users\\EagleEyes\\belajar\\dataset\\labels\\train\n",
      "[INFO] Selesai konversi untuk split 'val', hasil di C:\\Users\\EagleEyes\\belajar\\dataset\\labels\\val\n",
      "[INFO] Selesai konversi untuk split 'test', hasil di C:\\Users\\EagleEyes\\belajar\\dataset\\labels\\test\n",
      "[DONE] Semua XML selesai diproses.\n"
     ]
    }
   ],
   "source": [
    "import os\n",
    "import xml.etree.ElementTree as ET\n",
    "\n",
    "# Base path untuk dataset\n",
    "BASE = r\"C:\\Users\\Nico Marvels\\belajar\\dataset\"\n",
    "IMAGES_DIR = os.path.join(BASE, \"images\")\n",
    "LABELS_DIR = os.path.join(BASE, \"labels\")\n",
    "\n",
    "# Split dataset\n",
    "SPLITS = [\"train\", \"val\", \"test\"]\n",
    "\n",
    "# 1) Cari semua kelas dari XML\n",
    "classes = set()\n",
    "for split in SPLITS:\n",
    "    xml_folder = os.path.join(IMAGES_DIR, split)\n",
    "    if not os.path.isdir(xml_folder):\n",
    "        print(f\"[WARNING] Folder tidak ada: {xml_folder}\")\n",
    "        continue\n",
    "\n",
    "    for fname in os.listdir(xml_folder):\n",
    "        if not fname.lower().endswith(\".xml\"):\n",
    "            continue\n",
    "\n",
    "        print(f\"[DEBUG] Cek XML: {fname}\")  # cek file XML terdeteksi\n",
    "        xml_path = os.path.join(xml_folder, fname)\n",
    "\n",
    "        try:\n",
    "            tree = ET.parse(xml_path)\n",
    "            root = tree.getroot()\n",
    "\n",
    "            for obj in root.findall(\"object\"):\n",
    "                name = obj.find(\"name\")\n",
    "                if name is not None and name.text is not None:\n",
    "                    cls = name.text.strip()\n",
    "                    print(f\"   -> ketemu kelas: {cls}\")\n",
    "                    classes.add(cls)\n",
    "\n",
    "        except ET.ParseError:\n",
    "            print(f\"[WARNING] Gagal parse XML: {xml_path}\")\n",
    "\n",
    "# Urutkan kelas\n",
    "classes = sorted(classes)\n",
    "class2idx = {c: i for i, c in enumerate(classes)}\n",
    "\n",
    "# Simpan classes.txt\n",
    "with open(os.path.join(LABELS_DIR, \"classes.txt\"), \"w\", encoding=\"utf-8\") as f:\n",
    "    for cls in classes:\n",
    "        f.write(f\"{cls}\\n\")\n",
    "\n",
    "print(f\"[INFO] Total kelas ditemukan: {len(classes)}\")\n",
    "print(f\"[INFO] Daftar kelas: {classes}\")\n",
    "\n",
    "# Buat folder labels/* kalau belum ada\n",
    "for split in SPLITS:\n",
    "    out_dir = os.path.join(LABELS_DIR, split)\n",
    "    os.makedirs(out_dir, exist_ok=True)\n",
    "\n",
    "# 2) Konversi XML → YOLO TXT\n",
    "for split in SPLITS:\n",
    "    xml_folder = os.path.join(IMAGES_DIR, split)\n",
    "    if not os.path.isdir(xml_folder):\n",
    "        continue\n",
    "\n",
    "    out_label_folder = os.path.join(LABELS_DIR, split)\n",
    "    for fname in os.listdir(xml_folder):\n",
    "        if not fname.lower().endswith(\".xml\"):\n",
    "            continue\n",
    "\n",
    "        xml_path = os.path.join(xml_folder, fname)\n",
    "        tree = ET.parse(xml_path)\n",
    "        root = tree.getroot()\n",
    "\n",
    "        size = root.find(\"size\")\n",
    "        if size is None:\n",
    "            print(f\"[WARNING] Tidak ada <size> di {xml_path}\")\n",
    "            continue\n",
    "\n",
    "        img_w = float(size.find(\"width\").text)\n",
    "        img_h = float(size.find(\"height\").text)\n",
    "\n",
    "        txt_lines = []\n",
    "        for obj in root.findall(\"object\"):\n",
    "            cls_name = obj.find(\"name\").text.strip()\n",
    "            if cls_name not in class2idx:\n",
    "                continue\n",
    "            cls_id = class2idx[cls_name]\n",
    "\n",
    "            bndbox = obj.find(\"bndbox\")\n",
    "            xmin = float(bndbox.find(\"xmin\").text)\n",
    "            ymin = float(bndbox.find(\"ymin\").text)\n",
    "            xmax = float(bndbox.find(\"xmax\").text)\n",
    "            ymax = float(bndbox.find(\"ymax\").text)\n",
    "\n",
    "            x_center = (xmin + xmax) / 2.0 / img_w\n",
    "            y_center = (ymin + ymax) / 2.0 / img_h\n",
    "            bw = (xmax - xmin) / img_w\n",
    "            bh = (ymax - ymin) / img_h\n",
    "\n",
    "            txt_lines.append(f\"{cls_id} {x_center:.6f} {y_center:.6f} {bw:.6f} {bh:.6f}\")\n",
    "\n",
    "        base_name = os.path.splitext(fname)[0]\n",
    "        txt_path = os.path.join(out_label_folder, base_name + \".txt\")\n",
    "        with open(txt_path, \"w\", encoding=\"utf-8\") as f:\n",
    "            f.write(\"\\n\".join(txt_lines))\n",
    "\n",
    "    print(f\"[INFO] Selesai konversi untuk split '{split}', hasil di {out_label_folder}\")\n",
    "\n",
    "print(\"[DONE] Semua XML selesai diproses.\")\n"
   ]
  },
  {
   "cell_type": "code",
   "execution_count": 25,
   "id": "dfbc7057-b6fe-478d-b9ad-9acfebf6f677",
   "metadata": {},
   "outputs": [
    {
     "name": "stdout",
     "output_type": "stream",
     "text": [
      "[INFO] Total kelas ditemukan: 0\n",
      "[INFO] Daftar kelas: []\n",
      "[INFO] Selesai konversi untuk split 'train', hasil di C:\\Users\\EagleEyes\\belajar\\dataset\\labels\\train\n",
      "[INFO] Selesai konversi untuk split 'val', hasil di C:\\Users\\EagleEyes\\belajar\\dataset\\labels\\val\n",
      "[INFO] Selesai konversi untuk split 'test', hasil di C:\\Users\\EagleEyes\\belajar\\dataset\\labels\\test\n",
      "[DONE] Semua XML selesai diproses.\n"
     ]
    }
   ],
   "source": [
    "import os\n",
    "import xml.etree.ElementTree as ET\n",
    "\n",
    "# Base path dataset\n",
    "BASE = r\"C:\\Users\\Nico Marvels\\belajar\\dataset\"\n",
    "IMAGES_DIR = os.path.join(BASE, \"images\")\n",
    "LABELS_DIR = os.path.join(BASE, \"labels\")\n",
    "\n",
    "# Split dataset\n",
    "SPLITS = [\"train\", \"val\", \"test\"]\n",
    "\n",
    "# 1) Kumpulkan semua kelas dari XML\n",
    "classes = set()\n",
    "for split in SPLITS:\n",
    "    xml_folder = os.path.join(IMAGES_DIR, split)\n",
    "    if not os.path.isdir(xml_folder):\n",
    "        print(f\"[WARNING] Folder tidak ada: {xml_folder}\")\n",
    "        continue\n",
    "\n",
    "    for fname in os.listdir(xml_folder):\n",
    "        if not fname.lower().endswith(\".xml\"):\n",
    "            continue\n",
    "\n",
    "        xml_path = os.path.join(xml_folder, fname)\n",
    "\n",
    "        try:\n",
    "            tree = ET.parse(xml_path)\n",
    "            root = tree.getroot()\n",
    "\n",
    "            # ambil semua nama kelas\n",
    "            for obj in root.findall(\"object\"):\n",
    "                name_tag = obj.find(\"name\")\n",
    "                if name_tag is not None and name_tag.text:\n",
    "                    cls = name_tag.text.strip()\n",
    "                    classes.add(cls)\n",
    "\n",
    "        except ET.ParseError:\n",
    "            print(f\"[WARNING] Gagal parse XML: {xml_path}\")\n",
    "\n",
    "# Urutkan kelas supaya konsisten\n",
    "classes = sorted(classes)\n",
    "class2idx = {c: i for i, c in enumerate(classes)}\n",
    "\n",
    "# Simpan daftar kelas\n",
    "with open(os.path.join(LABELS_DIR, \"classes.txt\"), \"w\", encoding=\"utf-8\") as f:\n",
    "    for cls in classes:\n",
    "        f.write(f\"{cls}\\n\")\n",
    "\n",
    "print(f\"[INFO] Total kelas ditemukan: {len(classes)}\")\n",
    "print(f\"[INFO] Daftar kelas: {classes}\")\n",
    "\n",
    "# Buat folder labels/* kalau belum ada\n",
    "for split in SPLITS:\n",
    "    os.makedirs(os.path.join(LABELS_DIR, split), exist_ok=True)\n",
    "\n",
    "# 2) Konversi XML → YOLO TXT\n",
    "for split in SPLITS:\n",
    "    xml_folder = os.path.join(IMAGES_DIR, split)\n",
    "    if not os.path.isdir(xml_folder):\n",
    "        continue\n",
    "\n",
    "    out_label_folder = os.path.join(LABELS_DIR, split)\n",
    "    for fname in os.listdir(xml_folder):\n",
    "        if not fname.lower().endswith(\".xml\"):\n",
    "            continue\n",
    "\n",
    "        xml_path = os.path.join(xml_folder, fname)\n",
    "        tree = ET.parse(xml_path)\n",
    "        root = tree.getroot()\n",
    "\n",
    "        size = root.find(\"size\")\n",
    "        if size is None:\n",
    "            print(f\"[WARNING] Tidak ada <size> di {xml_path}\")\n",
    "            continue\n",
    "\n",
    "        img_w = float(size.find(\"width\").text)\n",
    "        img_h = float(size.find(\"height\").text)\n",
    "\n",
    "        txt_lines = []\n",
    "        for obj in root.findall(\"object\"):\n",
    "            cls_name = obj.find(\"name\").text.strip()\n",
    "            if cls_name not in class2idx:\n",
    "                continue\n",
    "            cls_id = class2idx[cls_name]\n",
    "\n",
    "            bndbox = obj.find(\"bndbox\")\n",
    "            xmin = float(bndbox.find(\"xmin\").text)\n",
    "            ymin = float(bndbox.find(\"ymin\").text)\n",
    "            xmax = float(bndbox.find(\"xmax\").text)\n",
    "            ymax = float(bndbox.find(\"ymax\").text)\n",
    "\n",
    "            # Konversi ke format YOLO (x_center, y_center, w, h) normalisasi\n",
    "            x_center = (xmin + xmax) / 2.0 / img_w\n",
    "            y_center = (ymin + ymax) / 2.0 / img_h\n",
    "            bw = (xmax - xmin) / img_w\n",
    "            bh = (ymax - ymin) / img_h\n",
    "\n",
    "            txt_lines.append(f\"{cls_id} {x_center:.6f} {y_center:.6f} {bw:.6f} {bh:.6f}\")\n",
    "\n",
    "        # Simpan .txt dengan nama sama\n",
    "        base_name = os.path.splitext(fname)[0]\n",
    "        txt_path = os.path.join(out_label_folder, base_name + \".txt\")\n",
    "        with open(txt_path, \"w\", encoding=\"utf-8\") as f:\n",
    "            f.write(\"\\n\".join(txt_lines))\n",
    "\n",
    "    print(f\"[INFO] Selesai konversi untuk split '{split}', hasil di {out_label_folder}\")\n",
    "\n",
    "print(\"[DONE] Semua XML selesai diproses.\")\n"
   ]
  },
  {
   "cell_type": "code",
   "execution_count": 27,
   "id": "7ebe79b7-a6a5-4235-952d-bb8ce70aefcd",
   "metadata": {},
   "outputs": [
    {
     "name": "stdout",
     "output_type": "stream",
     "text": [
      "[DEBUG] File: frame_cam1.mp4_0071.jpg, Jumlah object: 5\n"
     ]
    }
   ],
   "source": [
    "print(f\"[DEBUG] File: {fname}, Jumlah object: {len(root.findall('.//object'))}\")"
   ]
  },
  {
   "cell_type": "code",
   "execution_count": 30,
   "id": "ca7500b0-4537-4215-9134-369afe70e4fc",
   "metadata": {},
   "outputs": [
    {
     "name": "stdout",
     "output_type": "stream",
     "text": [
      "[INFO] Total kelas ditemukan: 0\n",
      "[INFO] Daftar kelas: []\n",
      "[INFO] Selesai konversi untuk split 'train', hasil di C:\\Users\\EagleEyes\\data windu\\video\\frame - Original\\yolo_dataset\\labels\\train\n",
      "[INFO] Selesai konversi untuk split 'val', hasil di C:\\Users\\EagleEyes\\data windu\\video\\frame - Original\\yolo_dataset\\labels\\val\n",
      "[INFO] Selesai konversi untuk split 'test', hasil di C:\\Users\\EagleEyes\\data windu\\video\\frame - Original\\yolo_dataset\\labels\\test\n",
      "[DONE] Semua XML selesai diproses.\n"
     ]
    }
   ],
   "source": [
    "import os\n",
    "import xml.etree.ElementTree as ET\n",
    "\n",
    "# Base path dataset\n",
    "BASE = r\"C:\\Users\\Nico Marvels\\belajar\\video\\frame - Original\\yolo_dataset\"\n",
    "IMAGES_DIR = os.path.join(BASE, \"images\")\n",
    "LABELS_DIR = os.path.join(BASE, \"labels\")\n",
    "\n",
    "# Split dataset\n",
    "SPLITS = [\"train\", \"val\", \"test\"]\n",
    "\n",
    "# 1) Kumpulkan semua kelas dari XML\n",
    "classes = set()\n",
    "for split in SPLITS:\n",
    "    xml_folder = os.path.join(IMAGES_DIR, split)\n",
    "    if not os.path.isdir(xml_folder):\n",
    "        print(f\"[WARNING] Folder tidak ada: {xml_folder}\")\n",
    "        continue\n",
    "\n",
    "    for fname in os.listdir(xml_folder):\n",
    "        if not fname.lower().endswith(\".xml\"):\n",
    "            continue\n",
    "\n",
    "        xml_path = os.path.join(xml_folder, fname)\n",
    "\n",
    "        try:\n",
    "            tree = ET.parse(xml_path)\n",
    "            root = tree.getroot()\n",
    "\n",
    "            # ambil semua nama kelas (pakai .// supaya lebih aman)\n",
    "            for obj in root.findall(\".//object\"):\n",
    "                name_tag = obj.find(\"name\")\n",
    "                if name_tag is not None and name_tag.text:\n",
    "                    cls = name_tag.text.strip()\n",
    "                    classes.add(cls)\n",
    "\n",
    "        except ET.ParseError:\n",
    "            print(f\"[WARNING] Gagal parse XML: {xml_path}\")\n",
    "\n",
    "# Urutkan kelas supaya konsisten\n",
    "classes = sorted(classes)\n",
    "class2idx = {c: i for i, c in enumerate(classes)}\n",
    "\n",
    "# Simpan daftar kelas\n",
    "os.makedirs(LABELS_DIR, exist_ok=True)\n",
    "with open(os.path.join(LABELS_DIR, \"classes.txt\"), \"w\", encoding=\"utf-8\") as f:\n",
    "    for cls in classes:\n",
    "        f.write(f\"{cls}\\n\")\n",
    "\n",
    "print(f\"[INFO] Total kelas ditemukan: {len(classes)}\")\n",
    "print(f\"[INFO] Daftar kelas: {classes}\")\n",
    "\n",
    "# Buat folder labels/* kalau belum ada\n",
    "for split in SPLITS:\n",
    "    os.makedirs(os.path.join(LABELS_DIR, split), exist_ok=True)\n",
    "\n",
    "# 2) Konversi XML → YOLO TXT\n",
    "for split in SPLITS:\n",
    "    xml_folder = os.path.join(IMAGES_DIR, split)\n",
    "    if not os.path.isdir(xml_folder):\n",
    "        continue\n",
    "\n",
    "    out_label_folder = os.path.join(LABELS_DIR, split)\n",
    "    for fname in os.listdir(xml_folder):\n",
    "        if not fname.lower().endswith(\".xml\"):\n",
    "            continue\n",
    "\n",
    "        xml_path = os.path.join(xml_folder, fname)\n",
    "        try:\n",
    "            tree = ET.parse(xml_path)\n",
    "            root = tree.getroot()\n",
    "        except ET.ParseError:\n",
    "            print(f\"[WARNING] Gagal parse XML: {xml_path}\")\n",
    "            continue\n",
    "\n",
    "        size = root.find(\"size\")\n",
    "        if size is None:\n",
    "            print(f\"[WARNING] Tidak ada <size> di {xml_path}\")\n",
    "            continue\n",
    "\n",
    "        img_w = float(size.find(\"width\").text)\n",
    "        img_h = float(size.find(\"height\").text)\n",
    "\n",
    "        txt_lines = []\n",
    "        for obj in root.findall(\".//object\"):\n",
    "            cls_name = obj.find(\"name\").text.strip()\n",
    "            if cls_name not in class2idx:\n",
    "                continue\n",
    "            cls_id = class2idx[cls_name]\n",
    "\n",
    "            bndbox = obj.find(\"bndbox\")\n",
    "            xmin = float(bndbox.find(\"xmin\").text)\n",
    "            ymin = float(bndbox.find(\"ymin\").text)\n",
    "            xmax = float(bndbox.find(\"xmax\").text)\n",
    "            ymax = float(bndbox.find(\"ymax\").text)\n",
    "\n",
    "            # Konversi ke format YOLO (x_center, y_center, w, h) normalisasi\n",
    "            x_center = (xmin + xmax) / 2.0 / img_w\n",
    "            y_center = (ymin + ymax) / 2.0 / img_h\n",
    "            bw = (xmax - xmin) / img_w\n",
    "            bh = (ymax - ymin) / img_h\n",
    "\n",
    "            txt_lines.append(\n",
    "                f\"{cls_id} {x_center:.6f} {y_center:.6f} {bw:.6f} {bh:.6f}\"\n",
    "            )\n",
    "\n",
    "        # Simpan .txt dengan nama sama\n",
    "        base_name = os.path.splitext(fname)[0]\n",
    "        txt_path = os.path.join(out_label_folder, base_name + \".txt\")\n",
    "        with open(txt_path, \"w\", encoding=\"utf-8\") as f:\n",
    "            f.write(\"\\n\".join(txt_lines))\n",
    "\n",
    "    print(f\"[INFO] Selesai konversi untuk split '{split}', hasil di {out_label_folder}\")\n",
    "\n",
    "print(\"[DONE] Semua XML selesai diproses.\")\n"
   ]
  },
  {
   "cell_type": "code",
   "execution_count": 34,
   "id": "3f5e6ce1-0d5d-4245-bc96-8b9a46a1073a",
   "metadata": {},
   "outputs": [
    {
     "name": "stderr",
     "output_type": "stream",
     "text": [
      "usage: ipykernel_launcher.py [-h] [--annotations_path ANNOTATIONS_PATH]\n",
      "                             [--labels_path LABELS_PATH] [--classes CLASSES]\n",
      "ipykernel_launcher.py: error: unrecognized arguments: -f C:\\Users\\EagleEyes\\AppData\\Roaming\\jupyter\\runtime\\kernel-56752adf-029c-4e8c-a5a3-325aa8088d44.json\n"
     ]
    },
    {
     "ename": "SystemExit",
     "evalue": "2",
     "output_type": "error",
     "traceback": [
      "An exception has occurred, use %tb to see the full traceback.\n",
      "\u001b[1;31mSystemExit\u001b[0m\u001b[1;31m:\u001b[0m 2\n"
     ]
    },
    {
     "name": "stderr",
     "output_type": "stream",
     "text": [
      "C:\\Users\\EagleEyes\\anaconda3\\envs\\flaskenv\\lib\\site-packages\\IPython\\core\\interactiveshell.py:3516: UserWarning: To exit: use 'exit', 'quit', or Ctrl-D.\n",
      "  warn(\"To exit: use 'exit', 'quit', or Ctrl-D.\", stacklevel=1)\n"
     ]
    }
   ],
   "source": [
    "import argparse\n",
    "import os\n",
    "from defusedxml import ElementTree as ET\n",
    "from typing import Dict\n",
    "from tqdm import tqdm\n",
    "\n",
    "class XMLToTXTConverter:\n",
    "    \"\"\"\n",
    "    A class to convert XML annotations to a TXT format suitable for object detection models.\n",
    "\n",
    "    Attributes:\n",
    "        annotations_path (str): Directory path where the XML files are stored.\n",
    "        labels_path (str): Output directory path where the TXT files will be saved.\n",
    "        classes (Dict[str, int]): A dictionary mapping class names to class IDs.\n",
    "    \"\"\"\n",
    "\n",
    "    def __init__(self, annotations_path: str, labels_path: str, classes: Dict[str, int]):\n",
    "        \"\"\"\n",
    "        Initializes the XMLToTXTConverter object with paths and class mappings.\n",
    "\n",
    "        Args:\n",
    "            annotations_path (str): Directory path where the XML files are stored.\n",
    "            labels_path (str): Output directory path where the TXT files will be saved.\n",
    "            classes (Dict[str, int]): Dictionary mapping class names to their corresponding IDs.\n",
    "        \"\"\"\n",
    "        self.annotations_path: str = annotations_path\n",
    "        self.labels_path: str = labels_path\n",
    "        self.classes: Dict[str, int] = classes\n",
    "\n",
    "    def convert_annotation(self, annotation_file: str) -> None:\n",
    "        \"\"\"\n",
    "        Converts a single XML annotation file to a TXT format.\n",
    "        Args:\n",
    "            annotation_file (str): The path to the XML annotation file to be converted.\n",
    "        \"\"\"\n",
    "        tree = ET.parse(annotation_file)\n",
    "        root = tree.getroot()\n",
    "\n",
    "        filename: str = root.find('filename').text.replace('.jpg', '.txt')\n",
    "        image_size = root.find('size')\n",
    "        image_width: int = int(image_size.find('width').text)\n",
    "        image_height: int = int(image_size.find('height').text)\n",
    "\n",
    "        label_file: str = os.path.join(self.labels_path, filename)\n",
    "\n",
    "        with open(label_file, 'w') as file:\n",
    "            for obj in root.iter('object'):\n",
    "                class_name: str = obj.find('name').text\n",
    "                if class_name not in self.classes:\n",
    "                    continue  # Skip if class not in provided class mapping\n",
    "                class_id: int = self.classes[class_name]\n",
    "                bndbox = obj.find('bndbox')\n",
    "                xmin: int = int(bndbox.find('xmin').text)\n",
    "                ymin: int = int(bndbox.find('ymin').text)\n",
    "                xmax: int = int(bndbox.find('xmax').text)\n",
    "                ymax: int = int(bndbox.find('ymax').text)\n",
    "\n",
    "                x_center_norm: float = (xmin + xmax) / (2 * image_width)\n",
    "                y_center_norm: float = (ymin + ymax) / (2 * image_height)\n",
    "                width_norm: float = (xmax - xmin) / image_width\n",
    "                height_norm: float = (ymax - ymin) / image_height\n",
    "\n",
    "                file.write(f\"{class_id} {x_center_norm} {y_center_norm} {width_norm} {height_norm}\\n\")\n",
    "\n",
    "    def convert_all(self) -> None:\n",
    "        \"\"\"\n",
    "        Converts all XML annotation files found in the annotations_path to TXT format.\n",
    "        \"\"\"\n",
    "        self.create_directory(self.labels_path)\n",
    "       \n",
    "        annotation_files = os.listdir(self.annotations_path)\n",
    "        for annotation in tqdm(annotation_files, desc=\"Converting XML to TXT\"):\n",
    "            annotation_file: str = os.path.join(self.annotations_path, annotation)\n",
    "            self.convert_annotation(annotation_file)\n",
    "\n",
    "    @staticmethod\n",
    "    def create_directory(directory_path: str) -> None:\n",
    "        \"\"\"\n",
    "        Creates a directory if it does not already exist.\n",
    "\n",
    "        Args:\n",
    "            directory_path (str): The path to the directory to be created.\n",
    "        \"\"\"\n",
    "        if not os.path.exists(directory_path):\n",
    "            os.makedirs(directory_path)\n",
    "\n",
    "def parse_classes(classes_str: str) -> Dict[str, int]:\n",
    "    \"\"\"\n",
    "    Parses the class string into a dictionary.\n",
    "\n",
    "    Args:\n",
    "        classes_str (str): A string containing class mappings in the 'class1=id1,class2=id2,...' format.\n",
    "\n",
    "    Returns:\n",
    "        Dict[str, int]: A dictionary mapping class names to their corresponding IDs.\n",
    "    \"\"\"\n",
    "    class_pairs = classes_str.split(',')\n",
    "    return {pair.split('=')[0].strip(): int(pair.split('=')[1].strip()) for pair in class_pairs}\n",
    "\n",
    "if __name__ == '__main__':\n",
    "    parser = argparse.ArgumentParser(description='Convert XML annotations to TXT format for object detection models.')\n",
    "\n",
    "    parser.add_argument('--annotations_path', type=str, default='dataset/label', help='Directory path where the XML files are stored.')\n",
    "    parser.add_argument('--labels_path', type=str, default='dataset_mentah/labels', help='Output directory path where the TXT files will be saved.')\n",
    "    parser.add_argument('--classes', type=str, default='car=0,driver_buckled=1,driver_unbuckled=2,driver_unknown=3,kaca=4,motor_1_helmet=5,motor_1_nohelmet=6,motor_2_helmet=7,motor_2_helmet=8,motor_2_nohelmet=9,motor_more_2=10,passanger_buckled=11,passanger_unbuckled=12,passanger_unknown=13,plat_nomor=14', help='Comma-separated list of class mappings in the format \"class1=id1,class2=id2,...\".')\n",
    "\n",
    "    args = parser.parse_args()\n",
    "\n",
    "    classes: Dict[str, int] = parse_classes(args.classes)\n",
    "\n",
    "    # Create an instance of the converter and convert all XML files to TXT format\n",
    "    converter = XMLToTXTConverter(args.annotations_path, args.labels_path, classes)\n",
    "    converter.convert_all()\n"
   ]
  },
  {
   "cell_type": "code",
   "execution_count": 37,
   "id": "073abc9b-782f-495e-8824-b89bee3c72e9",
   "metadata": {},
   "outputs": [
    {
     "ename": "SyntaxError",
     "evalue": "invalid syntax (3630960291.py, line 1)",
     "output_type": "error",
     "traceback": [
      "\u001b[1;36m  Cell \u001b[1;32mIn[37], line 1\u001b[1;36m\u001b[0m\n\u001b[1;33m    python xml2txt.py --annotations_path dataset/labels --labels_path dataset/label_baru --classes \"car=0,driver_buckled=1,driver_unbuckled=2,driver_unknown=3,kaca=4,motor_1_helmet=5,motor_1_nohelmet=6,motor_2_helmet=7,motor_2_helmet=8,motor_2_nohelmet=9,motor_more_2=10,passanger_buckled=11,passanger_unbuckled=12,passanger_unknown=13,plat_nomor=14\"\u001b[0m\n\u001b[1;37m           ^\u001b[0m\n\u001b[1;31mSyntaxError\u001b[0m\u001b[1;31m:\u001b[0m invalid syntax\n"
     ]
    }
   ],
   "source": [
    "python xml2txt.py --annotations_path dataset/labels --labels_path dataset/label_baru --classes \"car=0,driver_buckled=1,driver_unbuckled=2,driver_unknown=3,kaca=4,motor_1_helmet=5,motor_1_nohelmet=6,motor_2_helmet=7,motor_2_helmet=8,motor_2_nohelmet=9,motor_more_2=10,passanger_buckled=11,passanger_unbuckled=12,passanger_unknown=13,plat_nomor=14\""
   ]
  },
  {
   "cell_type": "code",
   "execution_count": 39,
   "id": "d6835873-8e61-468f-8d8a-f7422a3ac176",
   "metadata": {},
   "outputs": [
    {
     "name": "stdout",
     "output_type": "stream",
     "text": [
      "[INFO] classes.txt berhasil dibuat di dataset/labels\\classes.txt\n",
      "[OK] train/frame_1.mov_0001.xml -> labels/train/frame_1.mov_0001.txt\n",
      "[OK] train/frame_1.mov_0002.xml -> labels/train/frame_1.mov_0002.txt\n",
      "[OK] train/frame_1.mov_0003.xml -> labels/train/frame_1.mov_0003.txt\n",
      "[OK] train/frame_1.mov_0004.xml -> labels/train/frame_1.mov_0004.txt\n",
      "[OK] train/frame_1.mov_0006.xml -> labels/train/frame_1.mov_0006.txt\n",
      "[OK] train/frame_1.mov_0007.xml -> labels/train/frame_1.mov_0007.txt\n",
      "[OK] train/frame_1.mov_0008.xml -> labels/train/frame_1.mov_0008.txt\n",
      "[OK] train/frame_1.mov_0009.xml -> labels/train/frame_1.mov_0009.txt\n",
      "[OK] train/frame_2.mov_0001.xml -> labels/train/frame_2.mov_0001.txt\n",
      "[OK] train/frame_2.mov_0002.xml -> labels/train/frame_2.mov_0002.txt\n",
      "[OK] train/frame_2.mov_0005.xml -> labels/train/frame_2.mov_0005.txt\n",
      "[OK] train/frame_2.mov_0007.xml -> labels/train/frame_2.mov_0007.txt\n",
      "[OK] train/frame_2.mov_0008.xml -> labels/train/frame_2.mov_0008.txt\n",
      "[OK] train/frame_2.mov_0010.xml -> labels/train/frame_2.mov_0010.txt\n",
      "[OK] train/frame_2.mov_0011.xml -> labels/train/frame_2.mov_0011.txt\n",
      "[OK] train/frame_2.mov_0012.xml -> labels/train/frame_2.mov_0012.txt\n",
      "[OK] train/frame_2.mov_0013.xml -> labels/train/frame_2.mov_0013.txt\n",
      "[OK] train/frame_2.mov_0014.xml -> labels/train/frame_2.mov_0014.txt\n",
      "[OK] train/frame_2.mov_0017.xml -> labels/train/frame_2.mov_0017.txt\n",
      "[OK] train/frame_2.mov_0018.xml -> labels/train/frame_2.mov_0018.txt\n",
      "[OK] train/frame_2.mov_0019.xml -> labels/train/frame_2.mov_0019.txt\n",
      "[OK] train/frame_2.mov_0022.xml -> labels/train/frame_2.mov_0022.txt\n",
      "[OK] train/frame_2.mov_0023.xml -> labels/train/frame_2.mov_0023.txt\n",
      "[OK] train/frame_2.mov_0024.xml -> labels/train/frame_2.mov_0024.txt\n",
      "[OK] train/frame_2.mov_0025.xml -> labels/train/frame_2.mov_0025.txt\n",
      "[OK] train/frame_2.mov_0026.xml -> labels/train/frame_2.mov_0026.txt\n",
      "[OK] train/frame_2.mov_0029.xml -> labels/train/frame_2.mov_0029.txt\n",
      "[OK] train/frame_2.mov_0031.xml -> labels/train/frame_2.mov_0031.txt\n",
      "[OK] train/frame_2.mov_0032.xml -> labels/train/frame_2.mov_0032.txt\n",
      "[OK] train/frame_2.mov_0035.xml -> labels/train/frame_2.mov_0035.txt\n",
      "[OK] train/frame_2.mov_0036.xml -> labels/train/frame_2.mov_0036.txt\n",
      "[OK] train/frame_2.mov_0039.xml -> labels/train/frame_2.mov_0039.txt\n",
      "[OK] train/frame_2.mov_0041.xml -> labels/train/frame_2.mov_0041.txt\n",
      "[OK] train/frame_2.mov_0047.xml -> labels/train/frame_2.mov_0047.txt\n",
      "[OK] train/frame_2.mov_0049.xml -> labels/train/frame_2.mov_0049.txt\n",
      "[OK] train/frame_2.mov_0050.xml -> labels/train/frame_2.mov_0050.txt\n",
      "[OK] train/frame_2.mov_0051.xml -> labels/train/frame_2.mov_0051.txt\n",
      "[OK] train/frame_2.mov_0052.xml -> labels/train/frame_2.mov_0052.txt\n",
      "[OK] train/frame_2.mov_0054.xml -> labels/train/frame_2.mov_0054.txt\n",
      "[OK] train/frame_2.mov_0055.xml -> labels/train/frame_2.mov_0055.txt\n",
      "[OK] train/frame_2.mov_0056.xml -> labels/train/frame_2.mov_0056.txt\n",
      "[OK] train/frame_2.mov_0057.xml -> labels/train/frame_2.mov_0057.txt\n",
      "[OK] train/frame_2.mov_0058.xml -> labels/train/frame_2.mov_0058.txt\n",
      "[OK] train/frame_2.mov_0059.xml -> labels/train/frame_2.mov_0059.txt\n",
      "[OK] train/frame_2.mov_0060.xml -> labels/train/frame_2.mov_0060.txt\n",
      "[OK] train/frame_2.mov_0061.xml -> labels/train/frame_2.mov_0061.txt\n",
      "[OK] train/frame_2.mov_0062.xml -> labels/train/frame_2.mov_0062.txt\n",
      "[OK] train/frame_2.mov_0063.xml -> labels/train/frame_2.mov_0063.txt\n",
      "[OK] train/frame_2.mov_0064.xml -> labels/train/frame_2.mov_0064.txt\n",
      "[OK] train/frame_2.mov_0065.xml -> labels/train/frame_2.mov_0065.txt\n",
      "[OK] train/frame_2.mov_0066.xml -> labels/train/frame_2.mov_0066.txt\n",
      "[OK] train/frame_2.mov_0069.xml -> labels/train/frame_2.mov_0069.txt\n",
      "[OK] train/frame_2.mov_0074.xml -> labels/train/frame_2.mov_0074.txt\n",
      "[OK] train/frame_2.mov_0075.xml -> labels/train/frame_2.mov_0075.txt\n",
      "[OK] train/frame_2.mov_0077.xml -> labels/train/frame_2.mov_0077.txt\n",
      "[OK] train/frame_2.mov_0078.xml -> labels/train/frame_2.mov_0078.txt\n",
      "[OK] train/frame_2.mov_0079.xml -> labels/train/frame_2.mov_0079.txt\n",
      "[OK] train/frame_2.mov_0081.xml -> labels/train/frame_2.mov_0081.txt\n",
      "[OK] train/frame_2.mov_0082.xml -> labels/train/frame_2.mov_0082.txt\n",
      "[OK] train/frame_2.mov_0084.xml -> labels/train/frame_2.mov_0084.txt\n",
      "[OK] train/frame_2.mov_0085.xml -> labels/train/frame_2.mov_0085.txt\n",
      "[OK] train/frame_2.mov_0087.xml -> labels/train/frame_2.mov_0087.txt\n",
      "[OK] train/frame_2.mov_0088.xml -> labels/train/frame_2.mov_0088.txt\n",
      "[OK] train/frame_2.mov_0089.xml -> labels/train/frame_2.mov_0089.txt\n",
      "[OK] train/frame_2.mov_0090.xml -> labels/train/frame_2.mov_0090.txt\n",
      "[OK] train/frame_2.mov_0092.xml -> labels/train/frame_2.mov_0092.txt\n",
      "[OK] train/frame_2.mov_0093.xml -> labels/train/frame_2.mov_0093.txt\n",
      "[OK] train/frame_2.mov_0095.xml -> labels/train/frame_2.mov_0095.txt\n",
      "[OK] train/frame_2.mov_0096.xml -> labels/train/frame_2.mov_0096.txt\n",
      "[OK] train/frame_2.mov_0098.xml -> labels/train/frame_2.mov_0098.txt\n",
      "[OK] train/frame_2.mov_0099.xml -> labels/train/frame_2.mov_0099.txt\n",
      "[OK] train/frame_3.mov_0001.xml -> labels/train/frame_3.mov_0001.txt\n",
      "[OK] train/frame_3.mov_0002.xml -> labels/train/frame_3.mov_0002.txt\n",
      "[OK] train/frame_3.mov_0004.xml -> labels/train/frame_3.mov_0004.txt\n",
      "[OK] train/frame_3.mov_0005.xml -> labels/train/frame_3.mov_0005.txt\n",
      "[OK] train/frame_3.mov_0007.xml -> labels/train/frame_3.mov_0007.txt\n",
      "[OK] train/frame_3.mov_0009.xml -> labels/train/frame_3.mov_0009.txt\n",
      "[OK] train/frame_3.mov_0010.xml -> labels/train/frame_3.mov_0010.txt\n",
      "[OK] train/frame_3.mov_0012.xml -> labels/train/frame_3.mov_0012.txt\n",
      "[OK] train/frame_3.mov_0013.xml -> labels/train/frame_3.mov_0013.txt\n",
      "[OK] train/frame_3.mov_0016.xml -> labels/train/frame_3.mov_0016.txt\n",
      "[OK] train/frame_3.mov_0017.xml -> labels/train/frame_3.mov_0017.txt\n",
      "[OK] train/frame_3.mov_0018.xml -> labels/train/frame_3.mov_0018.txt\n",
      "[OK] train/frame_3.mov_0020.xml -> labels/train/frame_3.mov_0020.txt\n",
      "[OK] train/frame_3.mov_0021.xml -> labels/train/frame_3.mov_0021.txt\n",
      "[OK] train/frame_3.mov_0022.xml -> labels/train/frame_3.mov_0022.txt\n",
      "[OK] train/frame_3.mov_0023.xml -> labels/train/frame_3.mov_0023.txt\n",
      "[OK] train/frame_3.mov_0024.xml -> labels/train/frame_3.mov_0024.txt\n",
      "[OK] train/frame_3.mov_0025.xml -> labels/train/frame_3.mov_0025.txt\n",
      "[OK] train/frame_3.mov_0027.xml -> labels/train/frame_3.mov_0027.txt\n",
      "[OK] train/frame_3.mov_0030.xml -> labels/train/frame_3.mov_0030.txt\n",
      "[OK] train/frame_3.mov_0032.xml -> labels/train/frame_3.mov_0032.txt\n",
      "[OK] train/frame_3.mov_0034.xml -> labels/train/frame_3.mov_0034.txt\n",
      "[OK] train/frame_3.mov_0035.xml -> labels/train/frame_3.mov_0035.txt\n",
      "[OK] train/frame_3.mov_0036.xml -> labels/train/frame_3.mov_0036.txt\n",
      "[OK] train/frame_cam1.mp4_0001.xml -> labels/train/frame_cam1.mp4_0001.txt\n",
      "[OK] train/frame_cam1.mp4_0003.xml -> labels/train/frame_cam1.mp4_0003.txt\n",
      "[OK] train/frame_cam1.mp4_0005.xml -> labels/train/frame_cam1.mp4_0005.txt\n",
      "[OK] train/frame_cam1.mp4_0006.xml -> labels/train/frame_cam1.mp4_0006.txt\n",
      "[OK] train/frame_cam1.mp4_0007.xml -> labels/train/frame_cam1.mp4_0007.txt\n",
      "[OK] train/frame_cam1.mp4_0010.xml -> labels/train/frame_cam1.mp4_0010.txt\n",
      "[OK] train/frame_cam1.mp4_0016.xml -> labels/train/frame_cam1.mp4_0016.txt\n",
      "[OK] train/frame_cam1.mp4_0017.xml -> labels/train/frame_cam1.mp4_0017.txt\n",
      "[OK] train/frame_cam1.mp4_0022.xml -> labels/train/frame_cam1.mp4_0022.txt\n",
      "[OK] train/frame_cam1.mp4_0024.xml -> labels/train/frame_cam1.mp4_0024.txt\n",
      "[OK] train/frame_cam1.mp4_0027.xml -> labels/train/frame_cam1.mp4_0027.txt\n",
      "[OK] train/frame_cam1.mp4_0028.xml -> labels/train/frame_cam1.mp4_0028.txt\n",
      "[OK] train/frame_cam1.mp4_0029.xml -> labels/train/frame_cam1.mp4_0029.txt\n",
      "[OK] train/frame_cam1.mp4_0030.xml -> labels/train/frame_cam1.mp4_0030.txt\n",
      "[OK] train/frame_cam1.mp4_0031.xml -> labels/train/frame_cam1.mp4_0031.txt\n",
      "[OK] train/frame_cam1.mp4_0033.xml -> labels/train/frame_cam1.mp4_0033.txt\n",
      "[OK] train/frame_cam1.mp4_0035.xml -> labels/train/frame_cam1.mp4_0035.txt\n",
      "[OK] train/frame_cam1.mp4_0036.xml -> labels/train/frame_cam1.mp4_0036.txt\n",
      "[OK] train/frame_cam1.mp4_0037.xml -> labels/train/frame_cam1.mp4_0037.txt\n",
      "[OK] train/frame_cam1.mp4_0038.xml -> labels/train/frame_cam1.mp4_0038.txt\n",
      "[OK] train/frame_cam1.mp4_0040.xml -> labels/train/frame_cam1.mp4_0040.txt\n",
      "[OK] train/frame_cam1.mp4_0041.xml -> labels/train/frame_cam1.mp4_0041.txt\n",
      "[OK] train/frame_cam1.mp4_0043.xml -> labels/train/frame_cam1.mp4_0043.txt\n",
      "[OK] train/frame_cam1.mp4_0044.xml -> labels/train/frame_cam1.mp4_0044.txt\n",
      "[OK] train/frame_cam1.mp4_0045.xml -> labels/train/frame_cam1.mp4_0045.txt\n",
      "[OK] train/frame_cam1.mp4_0046.xml -> labels/train/frame_cam1.mp4_0046.txt\n",
      "[OK] train/frame_cam1.mp4_0048.xml -> labels/train/frame_cam1.mp4_0048.txt\n",
      "[OK] train/frame_cam1.mp4_0050.xml -> labels/train/frame_cam1.mp4_0050.txt\n",
      "[OK] train/frame_cam1.mp4_0051.xml -> labels/train/frame_cam1.mp4_0051.txt\n",
      "[OK] train/frame_cam1.mp4_0052.xml -> labels/train/frame_cam1.mp4_0052.txt\n",
      "[OK] train/frame_cam1.mp4_0054.xml -> labels/train/frame_cam1.mp4_0054.txt\n",
      "[OK] train/frame_cam1.mp4_0057.xml -> labels/train/frame_cam1.mp4_0057.txt\n",
      "[OK] train/frame_cam1.mp4_0058.xml -> labels/train/frame_cam1.mp4_0058.txt\n",
      "[OK] train/frame_cam1.mp4_0059.xml -> labels/train/frame_cam1.mp4_0059.txt\n",
      "[OK] train/frame_cam1.mp4_0060.xml -> labels/train/frame_cam1.mp4_0060.txt\n",
      "[OK] train/frame_cam1.mp4_0061.xml -> labels/train/frame_cam1.mp4_0061.txt\n",
      "[OK] train/frame_cam1.mp4_0062.xml -> labels/train/frame_cam1.mp4_0062.txt\n",
      "[OK] train/frame_cam1.mp4_0063.xml -> labels/train/frame_cam1.mp4_0063.txt\n",
      "[OK] train/frame_cam1.mp4_0064.xml -> labels/train/frame_cam1.mp4_0064.txt\n",
      "[OK] train/frame_cam1.mp4_0066.xml -> labels/train/frame_cam1.mp4_0066.txt\n",
      "[OK] train/frame_cam1.mp4_0067.xml -> labels/train/frame_cam1.mp4_0067.txt\n",
      "[OK] train/frame_cam1.mp4_0068.xml -> labels/train/frame_cam1.mp4_0068.txt\n",
      "[OK] train/frame_cam1.mp4_0069.xml -> labels/train/frame_cam1.mp4_0069.txt\n",
      "[OK] train/frame_cam1.mp4_0070.xml -> labels/train/frame_cam1.mp4_0070.txt\n",
      "[OK] train/frame_cam1.mp4_0071.xml -> labels/train/frame_cam1.mp4_0071.txt\n",
      "[OK] val/frame_1.mov_0005.xml -> labels/val/frame_1.mov_0005.txt\n",
      "[OK] val/frame_2.mov_0009.xml -> labels/val/frame_2.mov_0009.txt\n",
      "[OK] val/frame_2.mov_0015.xml -> labels/val/frame_2.mov_0015.txt\n",
      "[OK] val/frame_2.mov_0020.xml -> labels/val/frame_2.mov_0020.txt\n",
      "[OK] val/frame_2.mov_0027.xml -> labels/val/frame_2.mov_0027.txt\n",
      "[OK] val/frame_2.mov_0028.xml -> labels/val/frame_2.mov_0028.txt\n",
      "[OK] val/frame_2.mov_0033.xml -> labels/val/frame_2.mov_0033.txt\n",
      "[OK] val/frame_2.mov_0034.xml -> labels/val/frame_2.mov_0034.txt\n",
      "[OK] val/frame_2.mov_0040.xml -> labels/val/frame_2.mov_0040.txt\n",
      "[OK] val/frame_2.mov_0042.xml -> labels/val/frame_2.mov_0042.txt\n",
      "[OK] val/frame_2.mov_0045.xml -> labels/val/frame_2.mov_0045.txt\n",
      "[OK] val/frame_2.mov_0053.xml -> labels/val/frame_2.mov_0053.txt\n",
      "[OK] val/frame_2.mov_0067.xml -> labels/val/frame_2.mov_0067.txt\n",
      "[OK] val/frame_2.mov_0070.xml -> labels/val/frame_2.mov_0070.txt\n",
      "[OK] val/frame_2.mov_0071.xml -> labels/val/frame_2.mov_0071.txt\n",
      "[OK] val/frame_2.mov_0080.xml -> labels/val/frame_2.mov_0080.txt\n",
      "[OK] val/frame_2.mov_0083.xml -> labels/val/frame_2.mov_0083.txt\n",
      "[OK] val/frame_2.mov_0086.xml -> labels/val/frame_2.mov_0086.txt\n",
      "[OK] val/frame_2.mov_0091.xml -> labels/val/frame_2.mov_0091.txt\n",
      "[OK] val/frame_3.mov_0003.xml -> labels/val/frame_3.mov_0003.txt\n",
      "[OK] val/frame_3.mov_0006.xml -> labels/val/frame_3.mov_0006.txt\n",
      "[OK] val/frame_3.mov_0008.xml -> labels/val/frame_3.mov_0008.txt\n",
      "[OK] val/frame_3.mov_0011.xml -> labels/val/frame_3.mov_0011.txt\n",
      "[OK] val/frame_3.mov_0014.xml -> labels/val/frame_3.mov_0014.txt\n",
      "[OK] val/frame_3.mov_0019.xml -> labels/val/frame_3.mov_0019.txt\n",
      "[OK] val/frame_3.mov_0026.xml -> labels/val/frame_3.mov_0026.txt\n",
      "[OK] val/frame_3.mov_0029.xml -> labels/val/frame_3.mov_0029.txt\n",
      "[OK] val/frame_3.mov_0031.xml -> labels/val/frame_3.mov_0031.txt\n",
      "[OK] val/frame_3.mov_0033.xml -> labels/val/frame_3.mov_0033.txt\n",
      "[OK] val/frame_cam1.mp4_0002.xml -> labels/val/frame_cam1.mp4_0002.txt\n",
      "[OK] val/frame_cam1.mp4_0008.xml -> labels/val/frame_cam1.mp4_0008.txt\n",
      "[OK] val/frame_cam1.mp4_0013.xml -> labels/val/frame_cam1.mp4_0013.txt\n",
      "[OK] val/frame_cam1.mp4_0023.xml -> labels/val/frame_cam1.mp4_0023.txt\n",
      "[OK] val/frame_cam1.mp4_0049.xml -> labels/val/frame_cam1.mp4_0049.txt\n",
      "[OK] val/frame_cam1.mp4_0056.xml -> labels/val/frame_cam1.mp4_0056.txt\n",
      "[OK] val/frame_cam1.mp4_0065.xml -> labels/val/frame_cam1.mp4_0065.txt\n",
      "[OK] test/frame_1.mov_0001.xml -> labels/test/frame_1.mov_0001.txt\n",
      "[OK] test/frame_1.mov_0002.xml -> labels/test/frame_1.mov_0002.txt\n",
      "[OK] test/frame_1.mov_0003.xml -> labels/test/frame_1.mov_0003.txt\n",
      "[OK] test/frame_1.mov_0004.xml -> labels/test/frame_1.mov_0004.txt\n",
      "[OK] test/frame_1.mov_0005.xml -> labels/test/frame_1.mov_0005.txt\n",
      "[OK] test/frame_1.mov_0006.xml -> labels/test/frame_1.mov_0006.txt\n",
      "[OK] test/frame_1.mov_0007.xml -> labels/test/frame_1.mov_0007.txt\n",
      "[OK] test/frame_1.mov_0008.xml -> labels/test/frame_1.mov_0008.txt\n",
      "[OK] test/frame_1.mov_0009.xml -> labels/test/frame_1.mov_0009.txt\n",
      "[OK] test/frame_2.mov_0001.xml -> labels/test/frame_2.mov_0001.txt\n",
      "[OK] test/frame_2.mov_0002.xml -> labels/test/frame_2.mov_0002.txt\n",
      "[OK] test/frame_2.mov_0005.xml -> labels/test/frame_2.mov_0005.txt\n",
      "[OK] test/frame_2.mov_0007.xml -> labels/test/frame_2.mov_0007.txt\n",
      "[OK] test/frame_2.mov_0008.xml -> labels/test/frame_2.mov_0008.txt\n",
      "[OK] test/frame_2.mov_0009.xml -> labels/test/frame_2.mov_0009.txt\n",
      "[OK] test/frame_2.mov_0010.xml -> labels/test/frame_2.mov_0010.txt\n",
      "[OK] test/frame_2.mov_0011.xml -> labels/test/frame_2.mov_0011.txt\n",
      "[OK] test/frame_2.mov_0012.xml -> labels/test/frame_2.mov_0012.txt\n",
      "[OK] test/frame_2.mov_0013.xml -> labels/test/frame_2.mov_0013.txt\n",
      "[OK] test/frame_2.mov_0014.xml -> labels/test/frame_2.mov_0014.txt\n",
      "[OK] test/frame_2.mov_0015.xml -> labels/test/frame_2.mov_0015.txt\n",
      "[OK] test/frame_2.mov_0017.xml -> labels/test/frame_2.mov_0017.txt\n",
      "[OK] test/frame_2.mov_0018.xml -> labels/test/frame_2.mov_0018.txt\n",
      "[OK] test/frame_2.mov_0019.xml -> labels/test/frame_2.mov_0019.txt\n",
      "[OK] test/frame_2.mov_0020.xml -> labels/test/frame_2.mov_0020.txt\n",
      "[OK] test/frame_2.mov_0022.xml -> labels/test/frame_2.mov_0022.txt\n",
      "[OK] test/frame_2.mov_0023.xml -> labels/test/frame_2.mov_0023.txt\n",
      "[OK] test/frame_2.mov_0024.xml -> labels/test/frame_2.mov_0024.txt\n",
      "[OK] test/frame_2.mov_0025.xml -> labels/test/frame_2.mov_0025.txt\n",
      "[OK] test/frame_2.mov_0026.xml -> labels/test/frame_2.mov_0026.txt\n",
      "[OK] test/frame_2.mov_0027.xml -> labels/test/frame_2.mov_0027.txt\n",
      "[OK] test/frame_2.mov_0028.xml -> labels/test/frame_2.mov_0028.txt\n",
      "[OK] test/frame_2.mov_0029.xml -> labels/test/frame_2.mov_0029.txt\n",
      "[OK] test/frame_2.mov_0031.xml -> labels/test/frame_2.mov_0031.txt\n",
      "[OK] test/frame_2.mov_0032.xml -> labels/test/frame_2.mov_0032.txt\n",
      "[OK] test/frame_2.mov_0033.xml -> labels/test/frame_2.mov_0033.txt\n",
      "[OK] test/frame_2.mov_0034.xml -> labels/test/frame_2.mov_0034.txt\n",
      "[OK] test/frame_2.mov_0035.xml -> labels/test/frame_2.mov_0035.txt\n",
      "[OK] test/frame_2.mov_0036.xml -> labels/test/frame_2.mov_0036.txt\n",
      "[OK] test/frame_2.mov_0039.xml -> labels/test/frame_2.mov_0039.txt\n",
      "[OK] test/frame_2.mov_0040.xml -> labels/test/frame_2.mov_0040.txt\n",
      "[OK] test/frame_2.mov_0041.xml -> labels/test/frame_2.mov_0041.txt\n",
      "[OK] test/frame_2.mov_0042.xml -> labels/test/frame_2.mov_0042.txt\n",
      "[OK] test/frame_2.mov_0045.xml -> labels/test/frame_2.mov_0045.txt\n",
      "[OK] test/frame_2.mov_0047.xml -> labels/test/frame_2.mov_0047.txt\n",
      "[OK] test/frame_2.mov_0049.xml -> labels/test/frame_2.mov_0049.txt\n",
      "[OK] test/frame_2.mov_0050.xml -> labels/test/frame_2.mov_0050.txt\n",
      "[OK] test/frame_2.mov_0051.xml -> labels/test/frame_2.mov_0051.txt\n",
      "[OK] test/frame_2.mov_0052.xml -> labels/test/frame_2.mov_0052.txt\n",
      "[OK] test/frame_2.mov_0053.xml -> labels/test/frame_2.mov_0053.txt\n",
      "[OK] test/frame_2.mov_0054.xml -> labels/test/frame_2.mov_0054.txt\n",
      "[OK] test/frame_2.mov_0055.xml -> labels/test/frame_2.mov_0055.txt\n",
      "[OK] test/frame_2.mov_0056.xml -> labels/test/frame_2.mov_0056.txt\n",
      "[OK] test/frame_2.mov_0057.xml -> labels/test/frame_2.mov_0057.txt\n",
      "[OK] test/frame_2.mov_0058.xml -> labels/test/frame_2.mov_0058.txt\n",
      "[OK] test/frame_2.mov_0059.xml -> labels/test/frame_2.mov_0059.txt\n",
      "[OK] test/frame_2.mov_0060.xml -> labels/test/frame_2.mov_0060.txt\n",
      "[OK] test/frame_2.mov_0061.xml -> labels/test/frame_2.mov_0061.txt\n",
      "[OK] test/frame_2.mov_0062.xml -> labels/test/frame_2.mov_0062.txt\n",
      "[OK] test/frame_2.mov_0063.xml -> labels/test/frame_2.mov_0063.txt\n",
      "[OK] test/frame_2.mov_0064.xml -> labels/test/frame_2.mov_0064.txt\n",
      "[OK] test/frame_2.mov_0065.xml -> labels/test/frame_2.mov_0065.txt\n",
      "[OK] test/frame_2.mov_0066.xml -> labels/test/frame_2.mov_0066.txt\n",
      "[OK] test/frame_2.mov_0067.xml -> labels/test/frame_2.mov_0067.txt\n",
      "[OK] test/frame_2.mov_0069.xml -> labels/test/frame_2.mov_0069.txt\n",
      "[OK] test/frame_2.mov_0070.xml -> labels/test/frame_2.mov_0070.txt\n",
      "[OK] test/frame_2.mov_0071.xml -> labels/test/frame_2.mov_0071.txt\n",
      "[OK] test/frame_2.mov_0074.xml -> labels/test/frame_2.mov_0074.txt\n",
      "[OK] test/frame_2.mov_0075.xml -> labels/test/frame_2.mov_0075.txt\n",
      "[OK] test/frame_2.mov_0077.xml -> labels/test/frame_2.mov_0077.txt\n",
      "[OK] test/frame_2.mov_0078.xml -> labels/test/frame_2.mov_0078.txt\n",
      "[OK] test/frame_2.mov_0079.xml -> labels/test/frame_2.mov_0079.txt\n",
      "[OK] test/frame_2.mov_0080.xml -> labels/test/frame_2.mov_0080.txt\n",
      "[OK] test/frame_2.mov_0081.xml -> labels/test/frame_2.mov_0081.txt\n",
      "[OK] test/frame_2.mov_0082.xml -> labels/test/frame_2.mov_0082.txt\n",
      "[OK] test/frame_2.mov_0083.xml -> labels/test/frame_2.mov_0083.txt\n",
      "[OK] test/frame_2.mov_0084.xml -> labels/test/frame_2.mov_0084.txt\n",
      "[OK] test/frame_2.mov_0085.xml -> labels/test/frame_2.mov_0085.txt\n",
      "[OK] test/frame_2.mov_0086.xml -> labels/test/frame_2.mov_0086.txt\n",
      "[OK] test/frame_2.mov_0087.xml -> labels/test/frame_2.mov_0087.txt\n",
      "[OK] test/frame_2.mov_0088.xml -> labels/test/frame_2.mov_0088.txt\n",
      "[OK] test/frame_2.mov_0089.xml -> labels/test/frame_2.mov_0089.txt\n",
      "[OK] test/frame_2.mov_0090.xml -> labels/test/frame_2.mov_0090.txt\n",
      "[OK] test/frame_2.mov_0091.xml -> labels/test/frame_2.mov_0091.txt\n",
      "[OK] test/frame_2.mov_0092.xml -> labels/test/frame_2.mov_0092.txt\n",
      "[OK] test/frame_2.mov_0093.xml -> labels/test/frame_2.mov_0093.txt\n",
      "[OK] test/frame_2.mov_0095.xml -> labels/test/frame_2.mov_0095.txt\n",
      "[OK] test/frame_2.mov_0096.xml -> labels/test/frame_2.mov_0096.txt\n",
      "[OK] test/frame_2.mov_0098.xml -> labels/test/frame_2.mov_0098.txt\n",
      "[OK] test/frame_2.mov_0099.xml -> labels/test/frame_2.mov_0099.txt\n",
      "[OK] test/frame_3.mov_0001.xml -> labels/test/frame_3.mov_0001.txt\n",
      "[OK] test/frame_3.mov_0002.xml -> labels/test/frame_3.mov_0002.txt\n",
      "[OK] test/frame_3.mov_0003.xml -> labels/test/frame_3.mov_0003.txt\n",
      "[OK] test/frame_3.mov_0004.xml -> labels/test/frame_3.mov_0004.txt\n",
      "[OK] test/frame_3.mov_0005.xml -> labels/test/frame_3.mov_0005.txt\n",
      "[OK] test/frame_3.mov_0006.xml -> labels/test/frame_3.mov_0006.txt\n",
      "[OK] test/frame_3.mov_0007.xml -> labels/test/frame_3.mov_0007.txt\n",
      "[OK] test/frame_3.mov_0008.xml -> labels/test/frame_3.mov_0008.txt\n",
      "[OK] test/frame_3.mov_0009.xml -> labels/test/frame_3.mov_0009.txt\n",
      "[OK] test/frame_3.mov_0010.xml -> labels/test/frame_3.mov_0010.txt\n",
      "[OK] test/frame_3.mov_0011.xml -> labels/test/frame_3.mov_0011.txt\n",
      "[OK] test/frame_3.mov_0012.xml -> labels/test/frame_3.mov_0012.txt\n",
      "[OK] test/frame_3.mov_0013.xml -> labels/test/frame_3.mov_0013.txt\n",
      "[OK] test/frame_3.mov_0014.xml -> labels/test/frame_3.mov_0014.txt\n",
      "[OK] test/frame_3.mov_0016.xml -> labels/test/frame_3.mov_0016.txt\n",
      "[OK] test/frame_3.mov_0017.xml -> labels/test/frame_3.mov_0017.txt\n",
      "[OK] test/frame_3.mov_0018.xml -> labels/test/frame_3.mov_0018.txt\n",
      "[OK] test/frame_3.mov_0019.xml -> labels/test/frame_3.mov_0019.txt\n",
      "[OK] test/frame_3.mov_0020.xml -> labels/test/frame_3.mov_0020.txt\n",
      "[OK] test/frame_3.mov_0021.xml -> labels/test/frame_3.mov_0021.txt\n",
      "[OK] test/frame_3.mov_0022.xml -> labels/test/frame_3.mov_0022.txt\n",
      "[OK] test/frame_3.mov_0023.xml -> labels/test/frame_3.mov_0023.txt\n",
      "[OK] test/frame_3.mov_0024.xml -> labels/test/frame_3.mov_0024.txt\n",
      "[OK] test/frame_3.mov_0025.xml -> labels/test/frame_3.mov_0025.txt\n",
      "[OK] test/frame_3.mov_0026.xml -> labels/test/frame_3.mov_0026.txt\n",
      "[OK] test/frame_3.mov_0027.xml -> labels/test/frame_3.mov_0027.txt\n",
      "[OK] test/frame_3.mov_0029.xml -> labels/test/frame_3.mov_0029.txt\n",
      "[OK] test/frame_3.mov_0030.xml -> labels/test/frame_3.mov_0030.txt\n",
      "[OK] test/frame_3.mov_0031.xml -> labels/test/frame_3.mov_0031.txt\n",
      "[OK] test/frame_3.mov_0032.xml -> labels/test/frame_3.mov_0032.txt\n",
      "[OK] test/frame_3.mov_0033.xml -> labels/test/frame_3.mov_0033.txt\n",
      "[OK] test/frame_3.mov_0034.xml -> labels/test/frame_3.mov_0034.txt\n",
      "[OK] test/frame_3.mov_0035.xml -> labels/test/frame_3.mov_0035.txt\n",
      "[OK] test/frame_3.mov_0036.xml -> labels/test/frame_3.mov_0036.txt\n",
      "[OK] test/frame_cam1.mp4_0001.xml -> labels/test/frame_cam1.mp4_0001.txt\n",
      "[OK] test/frame_cam1.mp4_0002.xml -> labels/test/frame_cam1.mp4_0002.txt\n",
      "[OK] test/frame_cam1.mp4_0003.xml -> labels/test/frame_cam1.mp4_0003.txt\n",
      "[OK] test/frame_cam1.mp4_0005.xml -> labels/test/frame_cam1.mp4_0005.txt\n",
      "[OK] test/frame_cam1.mp4_0006.xml -> labels/test/frame_cam1.mp4_0006.txt\n",
      "[OK] test/frame_cam1.mp4_0007.xml -> labels/test/frame_cam1.mp4_0007.txt\n",
      "[OK] test/frame_cam1.mp4_0008.xml -> labels/test/frame_cam1.mp4_0008.txt\n",
      "[OK] test/frame_cam1.mp4_0010.xml -> labels/test/frame_cam1.mp4_0010.txt\n",
      "[OK] test/frame_cam1.mp4_0013.xml -> labels/test/frame_cam1.mp4_0013.txt\n",
      "[OK] test/frame_cam1.mp4_0016.xml -> labels/test/frame_cam1.mp4_0016.txt\n",
      "[OK] test/frame_cam1.mp4_0017.xml -> labels/test/frame_cam1.mp4_0017.txt\n",
      "[OK] test/frame_cam1.mp4_0022.xml -> labels/test/frame_cam1.mp4_0022.txt\n",
      "[OK] test/frame_cam1.mp4_0023.xml -> labels/test/frame_cam1.mp4_0023.txt\n",
      "[OK] test/frame_cam1.mp4_0024.xml -> labels/test/frame_cam1.mp4_0024.txt\n",
      "[OK] test/frame_cam1.mp4_0027.xml -> labels/test/frame_cam1.mp4_0027.txt\n",
      "[OK] test/frame_cam1.mp4_0028.xml -> labels/test/frame_cam1.mp4_0028.txt\n",
      "[OK] test/frame_cam1.mp4_0029.xml -> labels/test/frame_cam1.mp4_0029.txt\n",
      "[OK] test/frame_cam1.mp4_0030.xml -> labels/test/frame_cam1.mp4_0030.txt\n",
      "[OK] test/frame_cam1.mp4_0031.xml -> labels/test/frame_cam1.mp4_0031.txt\n",
      "[OK] test/frame_cam1.mp4_0033.xml -> labels/test/frame_cam1.mp4_0033.txt\n",
      "[OK] test/frame_cam1.mp4_0035.xml -> labels/test/frame_cam1.mp4_0035.txt\n",
      "[OK] test/frame_cam1.mp4_0036.xml -> labels/test/frame_cam1.mp4_0036.txt\n",
      "[OK] test/frame_cam1.mp4_0037.xml -> labels/test/frame_cam1.mp4_0037.txt\n",
      "[OK] test/frame_cam1.mp4_0038.xml -> labels/test/frame_cam1.mp4_0038.txt\n",
      "[OK] test/frame_cam1.mp4_0040.xml -> labels/test/frame_cam1.mp4_0040.txt\n",
      "[OK] test/frame_cam1.mp4_0041.xml -> labels/test/frame_cam1.mp4_0041.txt\n",
      "[OK] test/frame_cam1.mp4_0043.xml -> labels/test/frame_cam1.mp4_0043.txt\n",
      "[OK] test/frame_cam1.mp4_0044.xml -> labels/test/frame_cam1.mp4_0044.txt\n",
      "[OK] test/frame_cam1.mp4_0045.xml -> labels/test/frame_cam1.mp4_0045.txt\n",
      "[OK] test/frame_cam1.mp4_0046.xml -> labels/test/frame_cam1.mp4_0046.txt\n",
      "[OK] test/frame_cam1.mp4_0048.xml -> labels/test/frame_cam1.mp4_0048.txt\n",
      "[OK] test/frame_cam1.mp4_0049.xml -> labels/test/frame_cam1.mp4_0049.txt\n",
      "[OK] test/frame_cam1.mp4_0050.xml -> labels/test/frame_cam1.mp4_0050.txt\n",
      "[OK] test/frame_cam1.mp4_0051.xml -> labels/test/frame_cam1.mp4_0051.txt\n",
      "[OK] test/frame_cam1.mp4_0052.xml -> labels/test/frame_cam1.mp4_0052.txt\n",
      "[OK] test/frame_cam1.mp4_0054.xml -> labels/test/frame_cam1.mp4_0054.txt\n",
      "[OK] test/frame_cam1.mp4_0056.xml -> labels/test/frame_cam1.mp4_0056.txt\n",
      "[OK] test/frame_cam1.mp4_0057.xml -> labels/test/frame_cam1.mp4_0057.txt\n",
      "[OK] test/frame_cam1.mp4_0058.xml -> labels/test/frame_cam1.mp4_0058.txt\n",
      "[OK] test/frame_cam1.mp4_0059.xml -> labels/test/frame_cam1.mp4_0059.txt\n",
      "[OK] test/frame_cam1.mp4_0060.xml -> labels/test/frame_cam1.mp4_0060.txt\n",
      "[OK] test/frame_cam1.mp4_0061.xml -> labels/test/frame_cam1.mp4_0061.txt\n",
      "[OK] test/frame_cam1.mp4_0062.xml -> labels/test/frame_cam1.mp4_0062.txt\n",
      "[OK] test/frame_cam1.mp4_0063.xml -> labels/test/frame_cam1.mp4_0063.txt\n",
      "[OK] test/frame_cam1.mp4_0064.xml -> labels/test/frame_cam1.mp4_0064.txt\n",
      "[OK] test/frame_cam1.mp4_0065.xml -> labels/test/frame_cam1.mp4_0065.txt\n",
      "[OK] test/frame_cam1.mp4_0066.xml -> labels/test/frame_cam1.mp4_0066.txt\n",
      "[OK] test/frame_cam1.mp4_0067.xml -> labels/test/frame_cam1.mp4_0067.txt\n",
      "[OK] test/frame_cam1.mp4_0068.xml -> labels/test/frame_cam1.mp4_0068.txt\n",
      "[OK] test/frame_cam1.mp4_0069.xml -> labels/test/frame_cam1.mp4_0069.txt\n",
      "[OK] test/frame_cam1.mp4_0070.xml -> labels/test/frame_cam1.mp4_0070.txt\n",
      "[OK] test/frame_cam1.mp4_0071.xml -> labels/test/frame_cam1.mp4_0071.txt\n",
      "[DONE] Semua XML berhasil dikonversi sesuai struktur dataset/\n"
     ]
    }
   ],
   "source": [
    "import os\n",
    "import xml.etree.ElementTree as ET\n",
    "\n",
    "# === SETTING ===\n",
    "dataset_dir = \"dataset/labels\"  # folder utama\n",
    "splits = [\"train\", \"val\", \"test\"]\n",
    "\n",
    "# mapping kelas\n",
    "class_mapping = {\n",
    "    \"car\": 0,\n",
    "    \"driver_buckled\": 1,\n",
    "    \"driver_unbuckled\": 2,\n",
    "    \"driver_unknown\": 3,\n",
    "    \"kaca\": 4,\n",
    "    \"motor_1_helmet\": 5,\n",
    "    \"motor_1_nohelmet\": 6,\n",
    "    \"motor_2_helmet\": 7,\n",
    "    \"motor_2_nohelmet\": 8,\n",
    "    \"motor_more_2\": 9,\n",
    "    \"passanger_buckled\": 10,\n",
    "    \"passanger_unbuckled\": 11,\n",
    "    \"passanger_unknown\": 12,\n",
    "    \"plat_nomor\": 13\n",
    "}\n",
    "\n",
    "# simpan daftar kelas ke file classes.txt\n",
    "classes_file = os.path.join(dataset_dir, \"classes.txt\")\n",
    "with open(classes_file, \"w\", encoding=\"utf-8\") as f:\n",
    "    for cls in class_mapping.keys():\n",
    "        f.write(cls + \"\\n\")\n",
    "print(f\"[INFO] classes.txt berhasil dibuat di {classes_file}\")\n",
    "\n",
    "def convert_voc_to_yolo(xml_file, label_file, class_mapping):\n",
    "    tree = ET.parse(xml_file)\n",
    "    root = tree.getroot()\n",
    "\n",
    "    size = root.find(\"size\")\n",
    "    if size is None:\n",
    "        return\n",
    "\n",
    "    img_w = float(size.find(\"width\").text)\n",
    "    img_h = float(size.find(\"height\").text)\n",
    "\n",
    "    lines = []\n",
    "    for obj in root.findall(\".//object\"):\n",
    "        cls_name = obj.find(\"name\").text.strip()\n",
    "        if cls_name not in class_mapping:\n",
    "            continue\n",
    "\n",
    "        cls_id = class_mapping[cls_name]\n",
    "        bndbox = obj.find(\"bndbox\")\n",
    "        xmin = float(bndbox.find(\"xmin\").text)\n",
    "        ymin = float(bndbox.find(\"ymin\").text)\n",
    "        xmax = float(bndbox.find(\"xmax\").text)\n",
    "        ymax = float(bndbox.find(\"ymax\").text)\n",
    "\n",
    "        # YOLO format\n",
    "        x_center = (xmin + xmax) / 2.0 / img_w\n",
    "        y_center = (ymin + ymax) / 2.0 / img_h\n",
    "        bw = (xmax - xmin) / img_w\n",
    "        bh = (ymax - ymin) / img_h\n",
    "\n",
    "        lines.append(f\"{cls_id} {x_center:.6f} {y_center:.6f} {bw:.6f} {bh:.6f}\")\n",
    "\n",
    "    if lines:\n",
    "        with open(label_file, \"w\", encoding=\"utf-8\") as f:\n",
    "            f.write(\"\\n\".join(lines))\n",
    "\n",
    "# === PROSES SEMUA SPLIT ===\n",
    "for split in splits:\n",
    "    ann_dir = os.path.join(dataset_dir, split)   # xml ada di sini\n",
    "    label_dir = os.path.join(dataset_dir, \"labels_baru\", split)\n",
    "    os.makedirs(label_dir, exist_ok=True)\n",
    "\n",
    "    for fname in os.listdir(ann_dir):\n",
    "        if not fname.lower().endswith(\".xml\"):\n",
    "            continue\n",
    "\n",
    "        xml_file = os.path.join(ann_dir, fname)\n",
    "        txt_file = os.path.join(label_dir, os.path.splitext(fname)[0] + \".txt\")\n",
    "\n",
    "        try:\n",
    "            convert_voc_to_yolo(xml_file, txt_file, class_mapping)\n",
    "            print(f\"[OK] {split}/{fname} -> labels/{split}/{os.path.basename(txt_file)}\")\n",
    "        except Exception as e:\n",
    "            print(f\"[WARNING] Gagal proses {fname}: {e}\")\n",
    "\n",
    "print(\"[DONE] Semua XML berhasil dikonversi sesuai struktur dataset/\")\n"
   ]
  },
  {
   "cell_type": "code",
   "execution_count": 4,
   "id": "78323839-02ec-45bc-82b7-1992c83e4595",
   "metadata": {},
   "outputs": [
    {
     "name": "stdout",
     "output_type": "stream",
     "text": [
      "New https://pypi.org/project/ultralytics/8.3.186 available  Update with 'pip install -U ultralytics'\n",
      "Ultralytics 8.3.177  Python-3.8.20 torch-2.4.1+cpu CPU (Intel Core(TM) i5-7200U 2.50GHz)\n",
      "\u001b[34m\u001b[1mengine\\trainer: \u001b[0magnostic_nms=False, amp=True, augment=False, auto_augment=randaugment, batch=16, bgr=0.0, box=7.5, cache=False, cfg=None, classes=None, close_mosaic=10, cls=0.5, conf=None, copy_paste=0.0, copy_paste_mode=flip, cos_lr=False, cutmix=0.0, data=C:\\Users\\Nico Marvels\\belajar\\data.yaml, degrees=0.0, deterministic=True, device=cpu, dfl=1.5, dnn=False, dropout=0.0, dynamic=False, embed=None, epochs=100, erasing=0.4, exist_ok=False, fliplr=0.5, flipud=0.0, format=torchscript, fraction=1.0, freeze=None, half=False, hsv_h=0.015, hsv_s=0.7, hsv_v=0.4, imgsz=640, int8=False, iou=0.7, keras=False, kobj=1.0, line_width=None, lr0=0.01, lrf=0.01, mask_ratio=4, max_det=300, mixup=0.0, mode=train, model=yolov8n.pt, momentum=0.937, mosaic=1.0, multi_scale=False, name=train, nbs=64, nms=False, opset=None, optimize=False, optimizer=auto, overlap_mask=True, patience=100, perspective=0.0, plots=True, pose=12.0, pretrained=True, profile=False, project=C:\\Users\\Nico Marvels\\belajar\\runs, rect=False, resume=False, retina_masks=False, save=True, save_conf=False, save_crop=False, save_dir=C:\\Users\\Nico Marvels\\belajar\\runs\\train, save_frames=False, save_json=False, save_period=-1, save_txt=False, scale=0.5, seed=0, shear=0.0, show=False, show_boxes=True, show_conf=True, show_labels=True, simplify=True, single_cls=False, source=None, split=val, stream_buffer=False, task=detect, time=None, tracker=botsort.yaml, translate=0.1, val=True, verbose=True, vid_stride=1, visualize=False, warmup_bias_lr=0.1, warmup_epochs=3.0, warmup_momentum=0.8, weight_decay=0.0005, workers=8, workspace=None\n",
      "Overriding model.yaml nc=80 with nc=14\n",
      "\n",
      "                   from  n    params  module                                       arguments                     \n",
      "  0                  -1  1       464  ultralytics.nn.modules.conv.Conv             [3, 16, 3, 2]                 \n",
      "  1                  -1  1      4672  ultralytics.nn.modules.conv.Conv             [16, 32, 3, 2]                \n",
      "  2                  -1  1      7360  ultralytics.nn.modules.block.C2f             [32, 32, 1, True]             \n",
      "  3                  -1  1     18560  ultralytics.nn.modules.conv.Conv             [32, 64, 3, 2]                \n",
      "  4                  -1  2     49664  ultralytics.nn.modules.block.C2f             [64, 64, 2, True]             \n",
      "  5                  -1  1     73984  ultralytics.nn.modules.conv.Conv             [64, 128, 3, 2]               \n",
      "  6                  -1  2    197632  ultralytics.nn.modules.block.C2f             [128, 128, 2, True]           \n",
      "  7                  -1  1    295424  ultralytics.nn.modules.conv.Conv             [128, 256, 3, 2]              \n",
      "  8                  -1  1    460288  ultralytics.nn.modules.block.C2f             [256, 256, 1, True]           \n",
      "  9                  -1  1    164608  ultralytics.nn.modules.block.SPPF            [256, 256, 5]                 \n",
      " 10                  -1  1         0  torch.nn.modules.upsampling.Upsample         [None, 2, 'nearest']          \n",
      " 11             [-1, 6]  1         0  ultralytics.nn.modules.conv.Concat           [1]                           \n",
      " 12                  -1  1    148224  ultralytics.nn.modules.block.C2f             [384, 128, 1]                 \n",
      " 13                  -1  1         0  torch.nn.modules.upsampling.Upsample         [None, 2, 'nearest']          \n",
      " 14             [-1, 4]  1         0  ultralytics.nn.modules.conv.Concat           [1]                           \n",
      " 15                  -1  1     37248  ultralytics.nn.modules.block.C2f             [192, 64, 1]                  \n",
      " 16                  -1  1     36992  ultralytics.nn.modules.conv.Conv             [64, 64, 3, 2]                \n",
      " 17            [-1, 12]  1         0  ultralytics.nn.modules.conv.Concat           [1]                           \n",
      " 18                  -1  1    123648  ultralytics.nn.modules.block.C2f             [192, 128, 1]                 \n",
      " 19                  -1  1    147712  ultralytics.nn.modules.conv.Conv             [128, 128, 3, 2]              \n",
      " 20             [-1, 9]  1         0  ultralytics.nn.modules.conv.Concat           [1]                           \n",
      " 21                  -1  1    493056  ultralytics.nn.modules.block.C2f             [384, 256, 1]                 \n",
      " 22        [15, 18, 21]  1    754042  ultralytics.nn.modules.head.Detect           [14, [64, 128, 256]]          \n",
      "Model summary: 129 layers, 3,013,578 parameters, 3,013,562 gradients, 8.2 GFLOPs\n",
      "\n",
      "Transferred 319/355 items from pretrained weights\n",
      "Freezing layer 'model.22.dfl.conv.weight'\n",
      "\u001b[34m\u001b[1mtrain: \u001b[0mFast image access  (ping: 0.10.0 ms, read: 1067.4515.7 MB/s, size: 2120.3 KB)\n"
     ]
    },
    {
     "name": "stderr",
     "output_type": "stream",
     "text": [
      "\u001b[34m\u001b[1mtrain: \u001b[0mScanning C:\\Users\\Nico Marvels\\belajar\\dataset\\labels\\train.cache... 140 images, 31 backgrounds, 0 corrupt: 100%|██████████| 171/171 [00:00<?, ?it/s]"
     ]
    },
    {
     "name": "stdout",
     "output_type": "stream",
     "text": [
      "\u001b[34m\u001b[1mval: \u001b[0mFast image access  (ping: 0.10.0 ms, read: 1060.3394.5 MB/s, size: 1154.1 KB)\n"
     ]
    },
    {
     "name": "stderr",
     "output_type": "stream",
     "text": [
      "\n",
      "\u001b[34m\u001b[1mval: \u001b[0mScanning C:\\Users\\Nico Marvels\\belajar\\dataset\\labels\\val.cache... 35 images, 32 backgrounds, 0 corrupt: 100%|██████████| 67/67 [00:00<?, ?it/s]"
     ]
    },
    {
     "name": "stdout",
     "output_type": "stream",
     "text": [
      "Plotting labels to C:\\Users\\Nico Marvels\\belajar\\runs\\train\\labels.jpg... \n"
     ]
    },
    {
     "name": "stderr",
     "output_type": "stream",
     "text": [
      "\n"
     ]
    },
    {
     "name": "stdout",
     "output_type": "stream",
     "text": [
      "\u001b[34m\u001b[1moptimizer:\u001b[0m 'optimizer=auto' found, ignoring 'lr0=0.01' and 'momentum=0.937' and determining best 'optimizer', 'lr0' and 'momentum' automatically... \n",
      "\u001b[34m\u001b[1moptimizer:\u001b[0m AdamW(lr=0.000556, momentum=0.9) with parameter groups 57 weight(decay=0.0), 64 weight(decay=0.0005), 63 bias(decay=0.0)\n",
      "Image sizes 640 train, 640 val\n",
      "Using 0 dataloader workers\n",
      "Logging results to \u001b[1mC:\\Users\\Nico Marvels\\belajar\\runs\\train\u001b[0m\n",
      "Starting training for 100 epochs...\n",
      "\n",
      "      Epoch    GPU_mem   box_loss   cls_loss   dfl_loss  Instances       Size\n"
     ]
    },
    {
     "name": "stderr",
     "output_type": "stream",
     "text": [
      "      1/100         0G      1.468      4.933      1.175         65        640: 100%|██████████| 11/11 [02:13<00:00, 12.15s/it]\n",
      "                 Class     Images  Instances      Box(P          R      mAP50  mAP50-95): 100%|██████████| 3/3 [00:12<00:00,  4.11s/it]"
     ]
    },
    {
     "name": "stdout",
     "output_type": "stream",
     "text": [
      "                   all         67        174          0          0          0          0\n"
     ]
    },
    {
     "name": "stderr",
     "output_type": "stream",
     "text": [
      "\n"
     ]
    },
    {
     "name": "stdout",
     "output_type": "stream",
     "text": [
      "\n",
      "      Epoch    GPU_mem   box_loss   cls_loss   dfl_loss  Instances       Size\n"
     ]
    },
    {
     "name": "stderr",
     "output_type": "stream",
     "text": [
      "      2/100         0G      1.379      4.407      1.093         54        640: 100%|██████████| 11/11 [01:58<00:00, 10.74s/it]\n",
      "                 Class     Images  Instances      Box(P          R      mAP50  mAP50-95): 100%|██████████| 3/3 [00:12<00:00,  4.06s/it]"
     ]
    },
    {
     "name": "stdout",
     "output_type": "stream",
     "text": [
      "                   all         67        174    0.00836      0.164     0.0255     0.0181\n"
     ]
    },
    {
     "name": "stderr",
     "output_type": "stream",
     "text": [
      "\n"
     ]
    },
    {
     "name": "stdout",
     "output_type": "stream",
     "text": [
      "\n",
      "      Epoch    GPU_mem   box_loss   cls_loss   dfl_loss  Instances       Size\n"
     ]
    },
    {
     "name": "stderr",
     "output_type": "stream",
     "text": [
      "      3/100         0G      1.454      3.773      1.072         88        640: 100%|██████████| 11/11 [01:58<00:00, 10.82s/it]\n",
      "                 Class     Images  Instances      Box(P          R      mAP50  mAP50-95): 100%|██████████| 3/3 [00:13<00:00,  4.58s/it]"
     ]
    },
    {
     "name": "stdout",
     "output_type": "stream",
     "text": [
      "                   all         67        174     0.0025      0.244     0.0485     0.0328\n"
     ]
    },
    {
     "name": "stderr",
     "output_type": "stream",
     "text": [
      "\n"
     ]
    },
    {
     "name": "stdout",
     "output_type": "stream",
     "text": [
      "\n",
      "      Epoch    GPU_mem   box_loss   cls_loss   dfl_loss  Instances       Size\n"
     ]
    },
    {
     "name": "stderr",
     "output_type": "stream",
     "text": [
      "      4/100         0G      1.402      3.112      1.033        100        640: 100%|██████████| 11/11 [02:30<00:00, 13.67s/it]\n",
      "                 Class     Images  Instances      Box(P          R      mAP50  mAP50-95): 100%|██████████| 3/3 [00:17<00:00,  5.77s/it]"
     ]
    },
    {
     "name": "stdout",
     "output_type": "stream",
     "text": [
      "                   all         67        174    0.00256      0.378     0.0493     0.0333\n"
     ]
    },
    {
     "name": "stderr",
     "output_type": "stream",
     "text": [
      "\n"
     ]
    },
    {
     "name": "stdout",
     "output_type": "stream",
     "text": [
      "\n",
      "      Epoch    GPU_mem   box_loss   cls_loss   dfl_loss  Instances       Size\n"
     ]
    },
    {
     "name": "stderr",
     "output_type": "stream",
     "text": [
      "      5/100         0G      1.392      2.954      1.006         82        640: 100%|██████████| 11/11 [02:27<00:00, 13.45s/it]\n",
      "                 Class     Images  Instances      Box(P          R      mAP50  mAP50-95): 100%|██████████| 3/3 [00:17<00:00,  5.75s/it]"
     ]
    },
    {
     "name": "stdout",
     "output_type": "stream",
     "text": [
      "                   all         67        174      0.956     0.0588     0.0579     0.0412\n"
     ]
    },
    {
     "name": "stderr",
     "output_type": "stream",
     "text": [
      "\n"
     ]
    },
    {
     "name": "stdout",
     "output_type": "stream",
     "text": [
      "\n",
      "      Epoch    GPU_mem   box_loss   cls_loss   dfl_loss  Instances       Size\n"
     ]
    },
    {
     "name": "stderr",
     "output_type": "stream",
     "text": [
      "      6/100         0G      1.321      2.644      1.016         61        640: 100%|██████████| 11/11 [02:25<00:00, 13.26s/it]\n",
      "                 Class     Images  Instances      Box(P          R      mAP50  mAP50-95): 100%|██████████| 3/3 [00:16<00:00,  5.66s/it]"
     ]
    },
    {
     "name": "stdout",
     "output_type": "stream",
     "text": [
      "                   all         67        174      0.561      0.128     0.0434     0.0297\n"
     ]
    },
    {
     "name": "stderr",
     "output_type": "stream",
     "text": [
      "\n"
     ]
    },
    {
     "name": "stdout",
     "output_type": "stream",
     "text": [
      "\n",
      "      Epoch    GPU_mem   box_loss   cls_loss   dfl_loss  Instances       Size\n"
     ]
    },
    {
     "name": "stderr",
     "output_type": "stream",
     "text": [
      "      7/100         0G      1.323      2.548      1.019        115        640: 100%|██████████| 11/11 [02:27<00:00, 13.41s/it]\n",
      "                 Class     Images  Instances      Box(P          R      mAP50  mAP50-95): 100%|██████████| 3/3 [00:16<00:00,  5.66s/it]"
     ]
    },
    {
     "name": "stdout",
     "output_type": "stream",
     "text": [
      "                   all         67        174      0.909      0.053     0.0878     0.0496\n"
     ]
    },
    {
     "name": "stderr",
     "output_type": "stream",
     "text": [
      "\n"
     ]
    },
    {
     "name": "stdout",
     "output_type": "stream",
     "text": [
      "\n",
      "      Epoch    GPU_mem   box_loss   cls_loss   dfl_loss  Instances       Size\n"
     ]
    },
    {
     "name": "stderr",
     "output_type": "stream",
     "text": [
      "      8/100         0G      1.295      2.336     0.9973         86        640: 100%|██████████| 11/11 [02:27<00:00, 13.38s/it]\n",
      "                 Class     Images  Instances      Box(P          R      mAP50  mAP50-95): 100%|██████████| 3/3 [00:17<00:00,  5.76s/it]"
     ]
    },
    {
     "name": "stdout",
     "output_type": "stream",
     "text": [
      "                   all         67        174      0.966     0.0466      0.128     0.0813\n"
     ]
    },
    {
     "name": "stderr",
     "output_type": "stream",
     "text": [
      "\n"
     ]
    },
    {
     "name": "stdout",
     "output_type": "stream",
     "text": [
      "\n",
      "      Epoch    GPU_mem   box_loss   cls_loss   dfl_loss  Instances       Size\n"
     ]
    },
    {
     "name": "stderr",
     "output_type": "stream",
     "text": [
      "      9/100         0G      1.279      2.252      1.005         67        640: 100%|██████████| 11/11 [02:29<00:00, 13.59s/it]\n",
      "                 Class     Images  Instances      Box(P          R      mAP50  mAP50-95): 100%|██████████| 3/3 [00:17<00:00,  5.76s/it]"
     ]
    },
    {
     "name": "stdout",
     "output_type": "stream",
     "text": [
      "                   all         67        174      0.899     0.0531      0.109     0.0699\n"
     ]
    },
    {
     "name": "stderr",
     "output_type": "stream",
     "text": [
      "\n"
     ]
    },
    {
     "name": "stdout",
     "output_type": "stream",
     "text": [
      "\n",
      "      Epoch    GPU_mem   box_loss   cls_loss   dfl_loss  Instances       Size\n"
     ]
    },
    {
     "name": "stderr",
     "output_type": "stream",
     "text": [
      "     10/100         0G      1.341      2.335      1.008         90        640: 100%|██████████| 11/11 [02:04<00:00, 11.35s/it]\n",
      "                 Class     Images  Instances      Box(P          R      mAP50  mAP50-95): 100%|██████████| 3/3 [00:12<00:00,  4.23s/it]"
     ]
    },
    {
     "name": "stdout",
     "output_type": "stream",
     "text": [
      "                   all         67        174      0.012      0.501      0.129      0.083\n"
     ]
    },
    {
     "name": "stderr",
     "output_type": "stream",
     "text": [
      "\n"
     ]
    },
    {
     "name": "stdout",
     "output_type": "stream",
     "text": [
      "\n",
      "      Epoch    GPU_mem   box_loss   cls_loss   dfl_loss  Instances       Size\n"
     ]
    },
    {
     "name": "stderr",
     "output_type": "stream",
     "text": [
      "     11/100         0G      1.292      2.239     0.9764         54        640: 100%|██████████| 11/11 [02:04<00:00, 11.28s/it]\n",
      "                 Class     Images  Instances      Box(P          R      mAP50  mAP50-95): 100%|██████████| 3/3 [00:13<00:00,  4.56s/it]"
     ]
    },
    {
     "name": "stdout",
     "output_type": "stream",
     "text": [
      "                   all         67        174      0.766     0.0809      0.132     0.0821\n"
     ]
    },
    {
     "name": "stderr",
     "output_type": "stream",
     "text": [
      "\n"
     ]
    },
    {
     "name": "stdout",
     "output_type": "stream",
     "text": [
      "\n",
      "      Epoch    GPU_mem   box_loss   cls_loss   dfl_loss  Instances       Size\n"
     ]
    },
    {
     "name": "stderr",
     "output_type": "stream",
     "text": [
      "     12/100         0G       1.25      2.249     0.9667         84        640: 100%|██████████| 11/11 [02:01<00:00, 11.04s/it]\n",
      "                 Class     Images  Instances      Box(P          R      mAP50  mAP50-95): 100%|██████████| 3/3 [00:13<00:00,  4.46s/it]"
     ]
    },
    {
     "name": "stdout",
     "output_type": "stream",
     "text": [
      "                   all         67        174      0.625      0.173      0.127     0.0802\n"
     ]
    },
    {
     "name": "stderr",
     "output_type": "stream",
     "text": [
      "\n"
     ]
    },
    {
     "name": "stdout",
     "output_type": "stream",
     "text": [
      "\n",
      "      Epoch    GPU_mem   box_loss   cls_loss   dfl_loss  Instances       Size\n"
     ]
    },
    {
     "name": "stderr",
     "output_type": "stream",
     "text": [
      "     13/100         0G      1.234      2.072      0.985         59        640: 100%|██████████| 11/11 [02:04<00:00, 11.32s/it]\n",
      "                 Class     Images  Instances      Box(P          R      mAP50  mAP50-95): 100%|██████████| 3/3 [00:12<00:00,  4.16s/it]"
     ]
    },
    {
     "name": "stdout",
     "output_type": "stream",
     "text": [
      "                   all         67        174      0.605      0.216       0.12     0.0774\n"
     ]
    },
    {
     "name": "stderr",
     "output_type": "stream",
     "text": [
      "\n"
     ]
    },
    {
     "name": "stdout",
     "output_type": "stream",
     "text": [
      "\n",
      "      Epoch    GPU_mem   box_loss   cls_loss   dfl_loss  Instances       Size\n"
     ]
    },
    {
     "name": "stderr",
     "output_type": "stream",
     "text": [
      "     14/100         0G      1.183      1.921     0.9493         83        640: 100%|██████████| 11/11 [01:59<00:00, 10.86s/it]\n",
      "                 Class     Images  Instances      Box(P          R      mAP50  mAP50-95): 100%|██████████| 3/3 [00:12<00:00,  4.01s/it]"
     ]
    },
    {
     "name": "stdout",
     "output_type": "stream",
     "text": [
      "                   all         67        174       0.53     0.0877     0.0802     0.0512\n"
     ]
    },
    {
     "name": "stderr",
     "output_type": "stream",
     "text": [
      "\n"
     ]
    },
    {
     "name": "stdout",
     "output_type": "stream",
     "text": [
      "\n",
      "      Epoch    GPU_mem   box_loss   cls_loss   dfl_loss  Instances       Size\n"
     ]
    },
    {
     "name": "stderr",
     "output_type": "stream",
     "text": [
      "     15/100         0G       1.16      1.909     0.9338         81        640: 100%|██████████| 11/11 [01:58<00:00, 10.80s/it]\n",
      "                 Class     Images  Instances      Box(P          R      mAP50  mAP50-95): 100%|██████████| 3/3 [00:12<00:00,  4.11s/it]"
     ]
    },
    {
     "name": "stdout",
     "output_type": "stream",
     "text": [
      "                   all         67        174      0.577      0.144     0.0902     0.0548\n"
     ]
    },
    {
     "name": "stderr",
     "output_type": "stream",
     "text": [
      "\n"
     ]
    },
    {
     "name": "stdout",
     "output_type": "stream",
     "text": [
      "\n",
      "      Epoch    GPU_mem   box_loss   cls_loss   dfl_loss  Instances       Size\n"
     ]
    },
    {
     "name": "stderr",
     "output_type": "stream",
     "text": [
      "     16/100         0G      1.193      1.992     0.9741         58        640: 100%|██████████| 11/11 [01:58<00:00, 10.80s/it]\n",
      "                 Class     Images  Instances      Box(P          R      mAP50  mAP50-95): 100%|██████████| 3/3 [00:13<00:00,  4.41s/it]"
     ]
    },
    {
     "name": "stdout",
     "output_type": "stream",
     "text": [
      "                   all         67        174      0.571      0.177      0.107     0.0654\n"
     ]
    },
    {
     "name": "stderr",
     "output_type": "stream",
     "text": [
      "\n"
     ]
    },
    {
     "name": "stdout",
     "output_type": "stream",
     "text": [
      "\n",
      "      Epoch    GPU_mem   box_loss   cls_loss   dfl_loss  Instances       Size\n"
     ]
    },
    {
     "name": "stderr",
     "output_type": "stream",
     "text": [
      "     17/100         0G      1.168      1.865     0.9517         71        640: 100%|██████████| 11/11 [01:55<00:00, 10.47s/it]\n",
      "                 Class     Images  Instances      Box(P          R      mAP50  mAP50-95): 100%|██████████| 3/3 [00:12<00:00,  4.16s/it]"
     ]
    },
    {
     "name": "stdout",
     "output_type": "stream",
     "text": [
      "                   all         67        174      0.565      0.119      0.121     0.0765\n"
     ]
    },
    {
     "name": "stderr",
     "output_type": "stream",
     "text": [
      "\n"
     ]
    },
    {
     "name": "stdout",
     "output_type": "stream",
     "text": [
      "\n",
      "      Epoch    GPU_mem   box_loss   cls_loss   dfl_loss  Instances       Size\n"
     ]
    },
    {
     "name": "stderr",
     "output_type": "stream",
     "text": [
      "     18/100         0G      1.196      2.039     0.9593         44        640: 100%|██████████| 11/11 [01:57<00:00, 10.64s/it]\n",
      "                 Class     Images  Instances      Box(P          R      mAP50  mAP50-95): 100%|██████████| 3/3 [00:12<00:00,  4.18s/it]"
     ]
    },
    {
     "name": "stdout",
     "output_type": "stream",
     "text": [
      "                   all         67        174      0.561      0.164      0.144     0.0915\n"
     ]
    },
    {
     "name": "stderr",
     "output_type": "stream",
     "text": [
      "\n"
     ]
    },
    {
     "name": "stdout",
     "output_type": "stream",
     "text": [
      "\n",
      "      Epoch    GPU_mem   box_loss   cls_loss   dfl_loss  Instances       Size\n"
     ]
    },
    {
     "name": "stderr",
     "output_type": "stream",
     "text": [
      "     19/100         0G      1.166      1.879     0.9603         91        640: 100%|██████████| 11/11 [02:04<00:00, 11.33s/it]\n",
      "                 Class     Images  Instances      Box(P          R      mAP50  mAP50-95): 100%|██████████| 3/3 [00:12<00:00,  4.30s/it]"
     ]
    },
    {
     "name": "stdout",
     "output_type": "stream",
     "text": [
      "                   all         67        174      0.377      0.233     0.0932     0.0602\n"
     ]
    },
    {
     "name": "stderr",
     "output_type": "stream",
     "text": [
      "\n"
     ]
    },
    {
     "name": "stdout",
     "output_type": "stream",
     "text": [
      "\n",
      "      Epoch    GPU_mem   box_loss   cls_loss   dfl_loss  Instances       Size\n"
     ]
    },
    {
     "name": "stderr",
     "output_type": "stream",
     "text": [
      "     20/100         0G      1.145       1.84      0.956         48        640: 100%|██████████| 11/11 [01:57<00:00, 10.72s/it]\n",
      "                 Class     Images  Instances      Box(P          R      mAP50  mAP50-95): 100%|██████████| 3/3 [00:13<00:00,  4.48s/it]"
     ]
    },
    {
     "name": "stdout",
     "output_type": "stream",
     "text": [
      "                   all         67        174      0.309       0.25       0.11     0.0684\n"
     ]
    },
    {
     "name": "stderr",
     "output_type": "stream",
     "text": [
      "\n"
     ]
    },
    {
     "name": "stdout",
     "output_type": "stream",
     "text": [
      "\n",
      "      Epoch    GPU_mem   box_loss   cls_loss   dfl_loss  Instances       Size\n"
     ]
    },
    {
     "name": "stderr",
     "output_type": "stream",
     "text": [
      "     21/100         0G      1.186      1.856     0.9424         75        640: 100%|██████████| 11/11 [02:31<00:00, 13.74s/it]\n",
      "                 Class     Images  Instances      Box(P          R      mAP50  mAP50-95): 100%|██████████| 3/3 [00:12<00:00,  4.31s/it]"
     ]
    },
    {
     "name": "stdout",
     "output_type": "stream",
     "text": [
      "                   all         67        174      0.486      0.281      0.116     0.0702\n"
     ]
    },
    {
     "name": "stderr",
     "output_type": "stream",
     "text": [
      "\n"
     ]
    },
    {
     "name": "stdout",
     "output_type": "stream",
     "text": [
      "\n",
      "      Epoch    GPU_mem   box_loss   cls_loss   dfl_loss  Instances       Size\n"
     ]
    },
    {
     "name": "stderr",
     "output_type": "stream",
     "text": [
      "     22/100         0G      1.173      1.904     0.9456         57        640: 100%|██████████| 11/11 [02:43<00:00, 14.91s/it]\n",
      "                 Class     Images  Instances      Box(P          R      mAP50  mAP50-95): 100%|██████████| 3/3 [00:13<00:00,  4.36s/it]"
     ]
    },
    {
     "name": "stdout",
     "output_type": "stream",
     "text": [
      "                   all         67        174      0.318      0.266      0.109     0.0667\n"
     ]
    },
    {
     "name": "stderr",
     "output_type": "stream",
     "text": [
      "\n"
     ]
    },
    {
     "name": "stdout",
     "output_type": "stream",
     "text": [
      "\n",
      "      Epoch    GPU_mem   box_loss   cls_loss   dfl_loss  Instances       Size\n"
     ]
    },
    {
     "name": "stderr",
     "output_type": "stream",
     "text": [
      "     23/100         0G      1.154      1.695     0.9381         79        640: 100%|██████████| 11/11 [02:18<00:00, 12.63s/it]\n",
      "                 Class     Images  Instances      Box(P          R      mAP50  mAP50-95): 100%|██████████| 3/3 [00:14<00:00,  4.85s/it]"
     ]
    },
    {
     "name": "stdout",
     "output_type": "stream",
     "text": [
      "                   all         67        174      0.561      0.237      0.119     0.0724\n"
     ]
    },
    {
     "name": "stderr",
     "output_type": "stream",
     "text": [
      "\n"
     ]
    },
    {
     "name": "stdout",
     "output_type": "stream",
     "text": [
      "\n",
      "      Epoch    GPU_mem   box_loss   cls_loss   dfl_loss  Instances       Size\n"
     ]
    },
    {
     "name": "stderr",
     "output_type": "stream",
     "text": [
      "     24/100         0G      1.147      1.737     0.9359         57        640: 100%|██████████| 11/11 [02:20<00:00, 12.75s/it]\n",
      "                 Class     Images  Instances      Box(P          R      mAP50  mAP50-95): 100%|██████████| 3/3 [00:15<00:00,  5.07s/it]"
     ]
    },
    {
     "name": "stdout",
     "output_type": "stream",
     "text": [
      "                   all         67        174      0.398      0.246     0.0914     0.0565\n"
     ]
    },
    {
     "name": "stderr",
     "output_type": "stream",
     "text": [
      "\n"
     ]
    },
    {
     "name": "stdout",
     "output_type": "stream",
     "text": [
      "\n",
      "      Epoch    GPU_mem   box_loss   cls_loss   dfl_loss  Instances       Size\n"
     ]
    },
    {
     "name": "stderr",
     "output_type": "stream",
     "text": [
      "     25/100         0G       1.12      1.715     0.9385         71        640: 100%|██████████| 11/11 [02:31<00:00, 13.80s/it]\n",
      "                 Class     Images  Instances      Box(P          R      mAP50  mAP50-95): 100%|██████████| 3/3 [00:12<00:00,  4.26s/it]"
     ]
    },
    {
     "name": "stdout",
     "output_type": "stream",
     "text": [
      "                   all         67        174      0.414      0.225      0.113     0.0677\n"
     ]
    },
    {
     "name": "stderr",
     "output_type": "stream",
     "text": [
      "\n"
     ]
    },
    {
     "name": "stdout",
     "output_type": "stream",
     "text": [
      "\n",
      "      Epoch    GPU_mem   box_loss   cls_loss   dfl_loss  Instances       Size\n"
     ]
    },
    {
     "name": "stderr",
     "output_type": "stream",
     "text": [
      "     26/100         0G      1.149      1.582     0.9416         85        640: 100%|██████████| 11/11 [02:06<00:00, 11.52s/it]\n",
      "                 Class     Images  Instances      Box(P          R      mAP50  mAP50-95): 100%|██████████| 3/3 [00:16<00:00,  5.40s/it]"
     ]
    },
    {
     "name": "stdout",
     "output_type": "stream",
     "text": [
      "                   all         67        174      0.519      0.143      0.119     0.0712\n"
     ]
    },
    {
     "name": "stderr",
     "output_type": "stream",
     "text": [
      "\n"
     ]
    },
    {
     "name": "stdout",
     "output_type": "stream",
     "text": [
      "\n",
      "      Epoch    GPU_mem   box_loss   cls_loss   dfl_loss  Instances       Size\n"
     ]
    },
    {
     "name": "stderr",
     "output_type": "stream",
     "text": [
      "     27/100         0G      1.154      1.612      0.976         94        640: 100%|██████████| 11/11 [02:08<00:00, 11.64s/it]\n",
      "                 Class     Images  Instances      Box(P          R      mAP50  mAP50-95): 100%|██████████| 3/3 [00:12<00:00,  4.21s/it]"
     ]
    },
    {
     "name": "stdout",
     "output_type": "stream",
     "text": [
      "                   all         67        174      0.127      0.504     0.0833     0.0505\n"
     ]
    },
    {
     "name": "stderr",
     "output_type": "stream",
     "text": [
      "\n"
     ]
    },
    {
     "name": "stdout",
     "output_type": "stream",
     "text": [
      "\n",
      "      Epoch    GPU_mem   box_loss   cls_loss   dfl_loss  Instances       Size\n"
     ]
    },
    {
     "name": "stderr",
     "output_type": "stream",
     "text": [
      "     28/100         0G      1.117      1.705     0.9358         61        640: 100%|██████████| 11/11 [02:01<00:00, 11.05s/it]\n",
      "                 Class     Images  Instances      Box(P          R      mAP50  mAP50-95): 100%|██████████| 3/3 [00:12<00:00,  4.17s/it]"
     ]
    },
    {
     "name": "stdout",
     "output_type": "stream",
     "text": [
      "                   all         67        174      0.367     0.0778     0.0601     0.0374\n"
     ]
    },
    {
     "name": "stderr",
     "output_type": "stream",
     "text": [
      "\n"
     ]
    },
    {
     "name": "stdout",
     "output_type": "stream",
     "text": [
      "\n",
      "      Epoch    GPU_mem   box_loss   cls_loss   dfl_loss  Instances       Size\n"
     ]
    },
    {
     "name": "stderr",
     "output_type": "stream",
     "text": [
      "     29/100         0G      1.089       1.63     0.9337         88        640: 100%|██████████| 11/11 [02:01<00:00, 11.08s/it]\n",
      "                 Class     Images  Instances      Box(P          R      mAP50  mAP50-95): 100%|██████████| 3/3 [00:12<00:00,  4.21s/it]"
     ]
    },
    {
     "name": "stdout",
     "output_type": "stream",
     "text": [
      "                   all         67        174      0.165      0.166     0.0769     0.0473\n"
     ]
    },
    {
     "name": "stderr",
     "output_type": "stream",
     "text": [
      "\n"
     ]
    },
    {
     "name": "stdout",
     "output_type": "stream",
     "text": [
      "\n",
      "      Epoch    GPU_mem   box_loss   cls_loss   dfl_loss  Instances       Size\n"
     ]
    },
    {
     "name": "stderr",
     "output_type": "stream",
     "text": [
      "     30/100         0G      1.063      1.589     0.9209         66        640: 100%|██████████| 11/11 [02:12<00:00, 12.05s/it]\n",
      "                 Class     Images  Instances      Box(P          R      mAP50  mAP50-95): 100%|██████████| 3/3 [00:13<00:00,  4.57s/it]"
     ]
    },
    {
     "name": "stdout",
     "output_type": "stream",
     "text": [
      "                   all         67        174      0.315      0.161     0.0765      0.047\n"
     ]
    },
    {
     "name": "stderr",
     "output_type": "stream",
     "text": [
      "\n"
     ]
    },
    {
     "name": "stdout",
     "output_type": "stream",
     "text": [
      "\n",
      "      Epoch    GPU_mem   box_loss   cls_loss   dfl_loss  Instances       Size\n"
     ]
    },
    {
     "name": "stderr",
     "output_type": "stream",
     "text": [
      "     31/100         0G      1.071      1.523     0.9308         63        640: 100%|██████████| 11/11 [02:09<00:00, 11.78s/it]\n",
      "                 Class     Images  Instances      Box(P          R      mAP50  mAP50-95): 100%|██████████| 3/3 [00:16<00:00,  5.46s/it]"
     ]
    },
    {
     "name": "stdout",
     "output_type": "stream",
     "text": [
      "                   all         67        174      0.192      0.209      0.117     0.0735\n"
     ]
    },
    {
     "name": "stderr",
     "output_type": "stream",
     "text": [
      "\n"
     ]
    },
    {
     "name": "stdout",
     "output_type": "stream",
     "text": [
      "\n",
      "      Epoch    GPU_mem   box_loss   cls_loss   dfl_loss  Instances       Size\n"
     ]
    },
    {
     "name": "stderr",
     "output_type": "stream",
     "text": [
      "     32/100         0G      1.066      1.573      0.915         51        640: 100%|██████████| 11/11 [02:17<00:00, 12.48s/it]\n",
      "                 Class     Images  Instances      Box(P          R      mAP50  mAP50-95): 100%|██████████| 3/3 [00:14<00:00,  4.89s/it]"
     ]
    },
    {
     "name": "stdout",
     "output_type": "stream",
     "text": [
      "                   all         67        174      0.254      0.227      0.104     0.0658\n"
     ]
    },
    {
     "name": "stderr",
     "output_type": "stream",
     "text": [
      "\n"
     ]
    },
    {
     "name": "stdout",
     "output_type": "stream",
     "text": [
      "\n",
      "      Epoch    GPU_mem   box_loss   cls_loss   dfl_loss  Instances       Size\n"
     ]
    },
    {
     "name": "stderr",
     "output_type": "stream",
     "text": [
      "     33/100         0G      1.084      1.622     0.9129         99        640: 100%|██████████| 11/11 [02:20<00:00, 12.78s/it]\n",
      "                 Class     Images  Instances      Box(P          R      mAP50  mAP50-95): 100%|██████████| 3/3 [00:16<00:00,  5.43s/it]"
     ]
    },
    {
     "name": "stdout",
     "output_type": "stream",
     "text": [
      "                   all         67        174      0.254      0.322      0.119     0.0755\n"
     ]
    },
    {
     "name": "stderr",
     "output_type": "stream",
     "text": [
      "\n"
     ]
    },
    {
     "name": "stdout",
     "output_type": "stream",
     "text": [
      "\n",
      "      Epoch    GPU_mem   box_loss   cls_loss   dfl_loss  Instances       Size\n"
     ]
    },
    {
     "name": "stderr",
     "output_type": "stream",
     "text": [
      "     34/100         0G      1.061      1.461     0.9196         70        640: 100%|██████████| 11/11 [02:23<00:00, 13.00s/it]\n",
      "                 Class     Images  Instances      Box(P          R      mAP50  mAP50-95): 100%|██████████| 3/3 [00:13<00:00,  4.50s/it]"
     ]
    },
    {
     "name": "stdout",
     "output_type": "stream",
     "text": [
      "                   all         67        174      0.283      0.342      0.139     0.0948\n"
     ]
    },
    {
     "name": "stderr",
     "output_type": "stream",
     "text": [
      "\n"
     ]
    },
    {
     "name": "stdout",
     "output_type": "stream",
     "text": [
      "\n",
      "      Epoch    GPU_mem   box_loss   cls_loss   dfl_loss  Instances       Size\n"
     ]
    },
    {
     "name": "stderr",
     "output_type": "stream",
     "text": [
      "     35/100         0G      1.058      1.498      0.928         51        640: 100%|██████████| 11/11 [02:01<00:00, 11.02s/it]\n",
      "                 Class     Images  Instances      Box(P          R      mAP50  mAP50-95): 100%|██████████| 3/3 [00:12<00:00,  4.18s/it]"
     ]
    },
    {
     "name": "stdout",
     "output_type": "stream",
     "text": [
      "                   all         67        174      0.149      0.213     0.0761     0.0493\n"
     ]
    },
    {
     "name": "stderr",
     "output_type": "stream",
     "text": [
      "\n"
     ]
    },
    {
     "name": "stdout",
     "output_type": "stream",
     "text": [
      "\n",
      "      Epoch    GPU_mem   box_loss   cls_loss   dfl_loss  Instances       Size\n"
     ]
    },
    {
     "name": "stderr",
     "output_type": "stream",
     "text": [
      "     36/100         0G      1.077      1.468     0.9137         92        640: 100%|██████████| 11/11 [02:17<00:00, 12.47s/it]\n",
      "                 Class     Images  Instances      Box(P          R      mAP50  mAP50-95): 100%|██████████| 3/3 [00:18<00:00,  6.25s/it]"
     ]
    },
    {
     "name": "stdout",
     "output_type": "stream",
     "text": [
      "                   all         67        174     0.0835      0.133     0.0844     0.0541\n"
     ]
    },
    {
     "name": "stderr",
     "output_type": "stream",
     "text": [
      "\n"
     ]
    },
    {
     "name": "stdout",
     "output_type": "stream",
     "text": [
      "\n",
      "      Epoch    GPU_mem   box_loss   cls_loss   dfl_loss  Instances       Size\n"
     ]
    },
    {
     "name": "stderr",
     "output_type": "stream",
     "text": [
      "     37/100         0G      1.046      1.423     0.9118         90        640: 100%|██████████| 11/11 [02:16<00:00, 12.44s/it]\n",
      "                 Class     Images  Instances      Box(P          R      mAP50  mAP50-95): 100%|██████████| 3/3 [00:16<00:00,  5.42s/it]"
     ]
    },
    {
     "name": "stdout",
     "output_type": "stream",
     "text": [
      "                   all         67        174      0.163      0.203     0.0897     0.0546\n"
     ]
    },
    {
     "name": "stderr",
     "output_type": "stream",
     "text": [
      "\n"
     ]
    },
    {
     "name": "stdout",
     "output_type": "stream",
     "text": [
      "\n",
      "      Epoch    GPU_mem   box_loss   cls_loss   dfl_loss  Instances       Size\n"
     ]
    },
    {
     "name": "stderr",
     "output_type": "stream",
     "text": [
      "     38/100         0G      1.029      1.416     0.9114         80        640: 100%|██████████| 11/11 [02:23<00:00, 13.08s/it]\n",
      "                 Class     Images  Instances      Box(P          R      mAP50  mAP50-95): 100%|██████████| 3/3 [00:12<00:00,  4.23s/it]"
     ]
    },
    {
     "name": "stdout",
     "output_type": "stream",
     "text": [
      "                   all         67        174      0.151       0.25     0.0889     0.0569\n"
     ]
    },
    {
     "name": "stderr",
     "output_type": "stream",
     "text": [
      "\n"
     ]
    },
    {
     "name": "stdout",
     "output_type": "stream",
     "text": [
      "\n",
      "      Epoch    GPU_mem   box_loss   cls_loss   dfl_loss  Instances       Size\n"
     ]
    },
    {
     "name": "stderr",
     "output_type": "stream",
     "text": [
      "     39/100         0G      1.035      1.445     0.9232         56        640: 100%|██████████| 11/11 [02:18<00:00, 12.55s/it]\n",
      "                 Class     Images  Instances      Box(P          R      mAP50  mAP50-95): 100%|██████████| 3/3 [00:12<00:00,  4.18s/it]"
     ]
    },
    {
     "name": "stdout",
     "output_type": "stream",
     "text": [
      "                   all         67        174      0.075      0.171     0.0739     0.0481\n"
     ]
    },
    {
     "name": "stderr",
     "output_type": "stream",
     "text": [
      "\n"
     ]
    },
    {
     "name": "stdout",
     "output_type": "stream",
     "text": [
      "\n",
      "      Epoch    GPU_mem   box_loss   cls_loss   dfl_loss  Instances       Size\n"
     ]
    },
    {
     "name": "stderr",
     "output_type": "stream",
     "text": [
      "     40/100         0G      1.031       1.41     0.9065         54        640: 100%|██████████| 11/11 [02:02<00:00, 11.18s/it]\n",
      "                 Class     Images  Instances      Box(P          R      mAP50  mAP50-95): 100%|██████████| 3/3 [00:15<00:00,  5.10s/it]"
     ]
    },
    {
     "name": "stdout",
     "output_type": "stream",
     "text": [
      "                   all         67        174      0.102        0.2        0.1     0.0646\n"
     ]
    },
    {
     "name": "stderr",
     "output_type": "stream",
     "text": [
      "\n"
     ]
    },
    {
     "name": "stdout",
     "output_type": "stream",
     "text": [
      "\n",
      "      Epoch    GPU_mem   box_loss   cls_loss   dfl_loss  Instances       Size\n"
     ]
    },
    {
     "name": "stderr",
     "output_type": "stream",
     "text": [
      "     41/100         0G     0.9577      1.334     0.8836         79        640: 100%|██████████| 11/11 [02:25<00:00, 13.25s/it]\n",
      "                 Class     Images  Instances      Box(P          R      mAP50  mAP50-95): 100%|██████████| 3/3 [00:17<00:00,  5.78s/it]"
     ]
    },
    {
     "name": "stdout",
     "output_type": "stream",
     "text": [
      "                   all         67        174      0.107      0.156      0.101     0.0653\n"
     ]
    },
    {
     "name": "stderr",
     "output_type": "stream",
     "text": [
      "\n"
     ]
    },
    {
     "name": "stdout",
     "output_type": "stream",
     "text": [
      "\n",
      "      Epoch    GPU_mem   box_loss   cls_loss   dfl_loss  Instances       Size\n"
     ]
    },
    {
     "name": "stderr",
     "output_type": "stream",
     "text": [
      "     42/100         0G      1.011      1.394     0.8979        103        640: 100%|██████████| 11/11 [02:25<00:00, 13.23s/it]\n",
      "                 Class     Images  Instances      Box(P          R      mAP50  mAP50-95): 100%|██████████| 3/3 [00:17<00:00,  5.89s/it]"
     ]
    },
    {
     "name": "stdout",
     "output_type": "stream",
     "text": [
      "                   all         67        174     0.0818      0.505     0.0922     0.0608\n"
     ]
    },
    {
     "name": "stderr",
     "output_type": "stream",
     "text": [
      "\n"
     ]
    },
    {
     "name": "stdout",
     "output_type": "stream",
     "text": [
      "\n",
      "      Epoch    GPU_mem   box_loss   cls_loss   dfl_loss  Instances       Size\n"
     ]
    },
    {
     "name": "stderr",
     "output_type": "stream",
     "text": [
      "     43/100         0G      1.009      1.291     0.9016         92        640: 100%|██████████| 11/11 [02:27<00:00, 13.43s/it]\n",
      "                 Class     Images  Instances      Box(P          R      mAP50  mAP50-95): 100%|██████████| 3/3 [00:13<00:00,  4.42s/it]"
     ]
    },
    {
     "name": "stdout",
     "output_type": "stream",
     "text": [
      "                   all         67        174      0.108      0.355      0.123     0.0826\n"
     ]
    },
    {
     "name": "stderr",
     "output_type": "stream",
     "text": [
      "\n"
     ]
    },
    {
     "name": "stdout",
     "output_type": "stream",
     "text": [
      "\n",
      "      Epoch    GPU_mem   box_loss   cls_loss   dfl_loss  Instances       Size\n"
     ]
    },
    {
     "name": "stderr",
     "output_type": "stream",
     "text": [
      "     44/100         0G      1.005      1.343     0.8932         79        640: 100%|██████████| 11/11 [02:04<00:00, 11.35s/it]\n",
      "                 Class     Images  Instances      Box(P          R      mAP50  mAP50-95): 100%|██████████| 3/3 [00:13<00:00,  4.42s/it]"
     ]
    },
    {
     "name": "stdout",
     "output_type": "stream",
     "text": [
      "                   all         67        174     0.0469       0.66     0.0999     0.0678\n"
     ]
    },
    {
     "name": "stderr",
     "output_type": "stream",
     "text": [
      "\n"
     ]
    },
    {
     "name": "stdout",
     "output_type": "stream",
     "text": [
      "\n",
      "      Epoch    GPU_mem   box_loss   cls_loss   dfl_loss  Instances       Size\n"
     ]
    },
    {
     "name": "stderr",
     "output_type": "stream",
     "text": [
      "     45/100         0G      1.023      1.236     0.9094        121        640: 100%|██████████| 11/11 [02:01<00:00, 11.06s/it]\n",
      "                 Class     Images  Instances      Box(P          R      mAP50  mAP50-95): 100%|██████████| 3/3 [00:13<00:00,  4.40s/it]"
     ]
    },
    {
     "name": "stdout",
     "output_type": "stream",
     "text": [
      "                   all         67        174      0.045      0.654     0.0936     0.0614\n"
     ]
    },
    {
     "name": "stderr",
     "output_type": "stream",
     "text": [
      "\n"
     ]
    },
    {
     "name": "stdout",
     "output_type": "stream",
     "text": [
      "\n",
      "      Epoch    GPU_mem   box_loss   cls_loss   dfl_loss  Instances       Size\n"
     ]
    },
    {
     "name": "stderr",
     "output_type": "stream",
     "text": [
      "     46/100         0G     0.9872      1.229     0.8945         71        640: 100%|██████████| 11/11 [02:00<00:00, 10.95s/it]\n",
      "                 Class     Images  Instances      Box(P          R      mAP50  mAP50-95): 100%|██████████| 3/3 [00:12<00:00,  4.33s/it]"
     ]
    },
    {
     "name": "stdout",
     "output_type": "stream",
     "text": [
      "                   all         67        174     0.0977      0.206      0.103     0.0695\n"
     ]
    },
    {
     "name": "stderr",
     "output_type": "stream",
     "text": [
      "\n"
     ]
    },
    {
     "name": "stdout",
     "output_type": "stream",
     "text": [
      "\n",
      "      Epoch    GPU_mem   box_loss   cls_loss   dfl_loss  Instances       Size\n"
     ]
    },
    {
     "name": "stderr",
     "output_type": "stream",
     "text": [
      "     47/100         0G     0.9718      1.241     0.9061         82        640: 100%|██████████| 11/11 [01:54<00:00, 10.44s/it]\n",
      "                 Class     Images  Instances      Box(P          R      mAP50  mAP50-95): 100%|██████████| 3/3 [00:12<00:00,  4.18s/it]"
     ]
    },
    {
     "name": "stdout",
     "output_type": "stream",
     "text": [
      "                   all         67        174      0.141      0.202      0.108      0.071\n"
     ]
    },
    {
     "name": "stderr",
     "output_type": "stream",
     "text": [
      "\n"
     ]
    },
    {
     "name": "stdout",
     "output_type": "stream",
     "text": [
      "\n",
      "      Epoch    GPU_mem   box_loss   cls_loss   dfl_loss  Instances       Size\n"
     ]
    },
    {
     "name": "stderr",
     "output_type": "stream",
     "text": [
      "     48/100         0G      1.009      1.276     0.8981         91        640: 100%|██████████| 11/11 [01:52<00:00, 10.27s/it]\n",
      "                 Class     Images  Instances      Box(P          R      mAP50  mAP50-95): 100%|██████████| 3/3 [00:12<00:00,  4.04s/it]"
     ]
    },
    {
     "name": "stdout",
     "output_type": "stream",
     "text": [
      "                   all         67        174      0.041      0.659     0.0782     0.0507\n"
     ]
    },
    {
     "name": "stderr",
     "output_type": "stream",
     "text": [
      "\n"
     ]
    },
    {
     "name": "stdout",
     "output_type": "stream",
     "text": [
      "\n",
      "      Epoch    GPU_mem   box_loss   cls_loss   dfl_loss  Instances       Size\n"
     ]
    },
    {
     "name": "stderr",
     "output_type": "stream",
     "text": [
      "     49/100         0G      0.965      1.238     0.8837         64        640: 100%|██████████| 11/11 [01:57<00:00, 10.71s/it]\n",
      "                 Class     Images  Instances      Box(P          R      mAP50  mAP50-95): 100%|██████████| 3/3 [00:12<00:00,  4.31s/it]"
     ]
    },
    {
     "name": "stdout",
     "output_type": "stream",
     "text": [
      "                   all         67        174      0.158      0.236     0.0782     0.0515\n"
     ]
    },
    {
     "name": "stderr",
     "output_type": "stream",
     "text": [
      "\n"
     ]
    },
    {
     "name": "stdout",
     "output_type": "stream",
     "text": [
      "\n",
      "      Epoch    GPU_mem   box_loss   cls_loss   dfl_loss  Instances       Size\n"
     ]
    },
    {
     "name": "stderr",
     "output_type": "stream",
     "text": [
      "     50/100         0G     0.9733      1.187     0.8896         75        640: 100%|██████████| 11/11 [02:04<00:00, 11.31s/it]\n",
      "                 Class     Images  Instances      Box(P          R      mAP50  mAP50-95): 100%|██████████| 3/3 [00:12<00:00,  4.11s/it]"
     ]
    },
    {
     "name": "stdout",
     "output_type": "stream",
     "text": [
      "                   all         67        174     0.0694      0.272     0.0837     0.0534\n"
     ]
    },
    {
     "name": "stderr",
     "output_type": "stream",
     "text": [
      "\n"
     ]
    },
    {
     "name": "stdout",
     "output_type": "stream",
     "text": [
      "\n",
      "      Epoch    GPU_mem   box_loss   cls_loss   dfl_loss  Instances       Size\n"
     ]
    },
    {
     "name": "stderr",
     "output_type": "stream",
     "text": [
      "     51/100         0G      1.009      1.254     0.9098         53        640: 100%|██████████| 11/11 [01:54<00:00, 10.45s/it]\n",
      "                 Class     Images  Instances      Box(P          R      mAP50  mAP50-95): 100%|██████████| 3/3 [00:12<00:00,  4.13s/it]"
     ]
    },
    {
     "name": "stdout",
     "output_type": "stream",
     "text": [
      "                   all         67        174      0.151      0.111     0.0909     0.0586\n"
     ]
    },
    {
     "name": "stderr",
     "output_type": "stream",
     "text": [
      "\n"
     ]
    },
    {
     "name": "stdout",
     "output_type": "stream",
     "text": [
      "\n",
      "      Epoch    GPU_mem   box_loss   cls_loss   dfl_loss  Instances       Size\n"
     ]
    },
    {
     "name": "stderr",
     "output_type": "stream",
     "text": [
      "     52/100         0G     0.9834      1.202     0.9009         46        640: 100%|██████████| 11/11 [01:58<00:00, 10.76s/it]\n",
      "                 Class     Images  Instances      Box(P          R      mAP50  mAP50-95): 100%|██████████| 3/3 [00:12<00:00,  4.05s/it]"
     ]
    },
    {
     "name": "stdout",
     "output_type": "stream",
     "text": [
      "                   all         67        174      0.153      0.156     0.0868     0.0558\n"
     ]
    },
    {
     "name": "stderr",
     "output_type": "stream",
     "text": [
      "\n"
     ]
    },
    {
     "name": "stdout",
     "output_type": "stream",
     "text": [
      "\n",
      "      Epoch    GPU_mem   box_loss   cls_loss   dfl_loss  Instances       Size\n"
     ]
    },
    {
     "name": "stderr",
     "output_type": "stream",
     "text": [
      "     53/100         0G     0.9395      1.167     0.8827         46        640: 100%|██████████| 11/11 [01:55<00:00, 10.54s/it]\n",
      "                 Class     Images  Instances      Box(P          R      mAP50  mAP50-95): 100%|██████████| 3/3 [00:12<00:00,  4.07s/it]"
     ]
    },
    {
     "name": "stdout",
     "output_type": "stream",
     "text": [
      "                   all         67        174      0.137      0.139     0.0819     0.0536\n"
     ]
    },
    {
     "name": "stderr",
     "output_type": "stream",
     "text": [
      "\n"
     ]
    },
    {
     "name": "stdout",
     "output_type": "stream",
     "text": [
      "\n",
      "      Epoch    GPU_mem   box_loss   cls_loss   dfl_loss  Instances       Size\n"
     ]
    },
    {
     "name": "stderr",
     "output_type": "stream",
     "text": [
      "     54/100         0G      1.002      1.245     0.9097         63        640: 100%|██████████| 11/11 [02:23<00:00, 13.07s/it]\n",
      "                 Class     Images  Instances      Box(P          R      mAP50  mAP50-95): 100%|██████████| 3/3 [00:13<00:00,  4.58s/it]"
     ]
    },
    {
     "name": "stdout",
     "output_type": "stream",
     "text": [
      "                   all         67        174     0.0349      0.647     0.0801     0.0521\n"
     ]
    },
    {
     "name": "stderr",
     "output_type": "stream",
     "text": [
      "\n"
     ]
    },
    {
     "name": "stdout",
     "output_type": "stream",
     "text": [
      "\n",
      "      Epoch    GPU_mem   box_loss   cls_loss   dfl_loss  Instances       Size\n"
     ]
    },
    {
     "name": "stderr",
     "output_type": "stream",
     "text": [
      "     55/100         0G     0.9517      1.162     0.8907         90        640: 100%|██████████| 11/11 [01:55<00:00, 10.50s/it]\n",
      "                 Class     Images  Instances      Box(P          R      mAP50  mAP50-95): 100%|██████████| 3/3 [00:12<00:00,  4.03s/it]"
     ]
    },
    {
     "name": "stdout",
     "output_type": "stream",
     "text": [
      "                   all         67        174      0.151       0.11     0.0829     0.0539\n"
     ]
    },
    {
     "name": "stderr",
     "output_type": "stream",
     "text": [
      "\n"
     ]
    },
    {
     "name": "stdout",
     "output_type": "stream",
     "text": [
      "\n",
      "      Epoch    GPU_mem   box_loss   cls_loss   dfl_loss  Instances       Size\n"
     ]
    },
    {
     "name": "stderr",
     "output_type": "stream",
     "text": [
      "     56/100         0G     0.9057       1.11     0.8775         88        640: 100%|██████████| 11/11 [02:02<00:00, 11.15s/it]\n",
      "                 Class     Images  Instances      Box(P          R      mAP50  mAP50-95): 100%|██████████| 3/3 [00:12<00:00,  4.08s/it]"
     ]
    },
    {
     "name": "stdout",
     "output_type": "stream",
     "text": [
      "                   all         67        174      0.163        0.1     0.0747     0.0504\n"
     ]
    },
    {
     "name": "stderr",
     "output_type": "stream",
     "text": [
      "\n"
     ]
    },
    {
     "name": "stdout",
     "output_type": "stream",
     "text": [
      "\n",
      "      Epoch    GPU_mem   box_loss   cls_loss   dfl_loss  Instances       Size\n"
     ]
    },
    {
     "name": "stderr",
     "output_type": "stream",
     "text": [
      "     57/100         0G     0.9294       1.16     0.8829         47        640: 100%|██████████| 11/11 [02:03<00:00, 11.24s/it]\n",
      "                 Class     Images  Instances      Box(P          R      mAP50  mAP50-95): 100%|██████████| 3/3 [00:12<00:00,  4.10s/it]"
     ]
    },
    {
     "name": "stdout",
     "output_type": "stream",
     "text": [
      "                   all         67        174      0.201      0.128     0.0752     0.0508\n"
     ]
    },
    {
     "name": "stderr",
     "output_type": "stream",
     "text": [
      "\n"
     ]
    },
    {
     "name": "stdout",
     "output_type": "stream",
     "text": [
      "\n",
      "      Epoch    GPU_mem   box_loss   cls_loss   dfl_loss  Instances       Size\n"
     ]
    },
    {
     "name": "stderr",
     "output_type": "stream",
     "text": [
      "     58/100         0G     0.9144      1.108     0.8738         95        640: 100%|██████████| 11/11 [01:56<00:00, 10.59s/it]\n",
      "                 Class     Images  Instances      Box(P          R      mAP50  mAP50-95): 100%|██████████| 3/3 [00:12<00:00,  4.13s/it]"
     ]
    },
    {
     "name": "stdout",
     "output_type": "stream",
     "text": [
      "                   all         67        174      0.121      0.176       0.11     0.0726\n"
     ]
    },
    {
     "name": "stderr",
     "output_type": "stream",
     "text": [
      "\n"
     ]
    },
    {
     "name": "stdout",
     "output_type": "stream",
     "text": [
      "\n",
      "      Epoch    GPU_mem   box_loss   cls_loss   dfl_loss  Instances       Size\n"
     ]
    },
    {
     "name": "stderr",
     "output_type": "stream",
     "text": [
      "     59/100         0G     0.9071       1.13     0.8852         70        640: 100%|██████████| 11/11 [01:54<00:00, 10.43s/it]\n",
      "                 Class     Images  Instances      Box(P          R      mAP50  mAP50-95): 100%|██████████| 3/3 [00:12<00:00,  4.16s/it]"
     ]
    },
    {
     "name": "stdout",
     "output_type": "stream",
     "text": [
      "                   all         67        174      0.146      0.203      0.118     0.0753\n"
     ]
    },
    {
     "name": "stderr",
     "output_type": "stream",
     "text": [
      "\n"
     ]
    },
    {
     "name": "stdout",
     "output_type": "stream",
     "text": [
      "\n",
      "      Epoch    GPU_mem   box_loss   cls_loss   dfl_loss  Instances       Size\n"
     ]
    },
    {
     "name": "stderr",
     "output_type": "stream",
     "text": [
      "     60/100         0G     0.9596      1.162     0.8912         86        640: 100%|██████████| 11/11 [01:55<00:00, 10.51s/it]\n",
      "                 Class     Images  Instances      Box(P          R      mAP50  mAP50-95): 100%|██████████| 3/3 [00:12<00:00,  4.08s/it]"
     ]
    },
    {
     "name": "stdout",
     "output_type": "stream",
     "text": [
      "                   all         67        174     0.0807      0.333     0.0826     0.0535\n"
     ]
    },
    {
     "name": "stderr",
     "output_type": "stream",
     "text": [
      "\n"
     ]
    },
    {
     "name": "stdout",
     "output_type": "stream",
     "text": [
      "\n",
      "      Epoch    GPU_mem   box_loss   cls_loss   dfl_loss  Instances       Size\n"
     ]
    },
    {
     "name": "stderr",
     "output_type": "stream",
     "text": [
      "     61/100         0G     0.9419      1.098     0.8804         93        640: 100%|██████████| 11/11 [01:57<00:00, 10.71s/it]\n",
      "                 Class     Images  Instances      Box(P          R      mAP50  mAP50-95): 100%|██████████| 3/3 [00:12<00:00,  4.19s/it]"
     ]
    },
    {
     "name": "stdout",
     "output_type": "stream",
     "text": [
      "                   all         67        174      0.045      0.567     0.0765     0.0505\n"
     ]
    },
    {
     "name": "stderr",
     "output_type": "stream",
     "text": [
      "\n"
     ]
    },
    {
     "name": "stdout",
     "output_type": "stream",
     "text": [
      "\n",
      "      Epoch    GPU_mem   box_loss   cls_loss   dfl_loss  Instances       Size\n"
     ]
    },
    {
     "name": "stderr",
     "output_type": "stream",
     "text": [
      "     62/100         0G     0.9341      1.056     0.8963         53        640: 100%|██████████| 11/11 [01:55<00:00, 10.52s/it]\n",
      "                 Class     Images  Instances      Box(P          R      mAP50  mAP50-95): 100%|██████████| 3/3 [00:12<00:00,  4.15s/it]"
     ]
    },
    {
     "name": "stdout",
     "output_type": "stream",
     "text": [
      "                   all         67        174     0.0784      0.117     0.0696     0.0442\n"
     ]
    },
    {
     "name": "stderr",
     "output_type": "stream",
     "text": [
      "\n"
     ]
    },
    {
     "name": "stdout",
     "output_type": "stream",
     "text": [
      "\n",
      "      Epoch    GPU_mem   box_loss   cls_loss   dfl_loss  Instances       Size\n"
     ]
    },
    {
     "name": "stderr",
     "output_type": "stream",
     "text": [
      "     63/100         0G     0.8926      1.057     0.8737         87        640: 100%|██████████| 11/11 [02:16<00:00, 12.41s/it]\n",
      "                 Class     Images  Instances      Box(P          R      mAP50  mAP50-95): 100%|██████████| 3/3 [00:16<00:00,  5.44s/it]"
     ]
    },
    {
     "name": "stdout",
     "output_type": "stream",
     "text": [
      "                   all         67        174     0.0378      0.482     0.0536     0.0356\n"
     ]
    },
    {
     "name": "stderr",
     "output_type": "stream",
     "text": [
      "\n"
     ]
    },
    {
     "name": "stdout",
     "output_type": "stream",
     "text": [
      "\n",
      "      Epoch    GPU_mem   box_loss   cls_loss   dfl_loss  Instances       Size\n"
     ]
    },
    {
     "name": "stderr",
     "output_type": "stream",
     "text": [
      "     64/100         0G     0.8907      1.072     0.8874         64        640: 100%|██████████| 11/11 [01:56<00:00, 10.58s/it]\n",
      "                 Class     Images  Instances      Box(P          R      mAP50  mAP50-95): 100%|██████████| 3/3 [00:12<00:00,  4.29s/it]"
     ]
    },
    {
     "name": "stdout",
     "output_type": "stream",
     "text": [
      "                   all         67        174     0.0389      0.481     0.0514     0.0347\n"
     ]
    },
    {
     "name": "stderr",
     "output_type": "stream",
     "text": [
      "\n"
     ]
    },
    {
     "name": "stdout",
     "output_type": "stream",
     "text": [
      "\n",
      "      Epoch    GPU_mem   box_loss   cls_loss   dfl_loss  Instances       Size\n"
     ]
    },
    {
     "name": "stderr",
     "output_type": "stream",
     "text": [
      "     65/100         0G     0.8857      1.082     0.8757         67        640: 100%|██████████| 11/11 [01:57<00:00, 10.65s/it]\n",
      "                 Class     Images  Instances      Box(P          R      mAP50  mAP50-95): 100%|██████████| 3/3 [00:12<00:00,  4.18s/it]"
     ]
    },
    {
     "name": "stdout",
     "output_type": "stream",
     "text": [
      "                   all         67        174     0.0405      0.587     0.0769     0.0514\n"
     ]
    },
    {
     "name": "stderr",
     "output_type": "stream",
     "text": [
      "\n"
     ]
    },
    {
     "name": "stdout",
     "output_type": "stream",
     "text": [
      "\n",
      "      Epoch    GPU_mem   box_loss   cls_loss   dfl_loss  Instances       Size\n"
     ]
    },
    {
     "name": "stderr",
     "output_type": "stream",
     "text": [
      "     66/100         0G     0.8981       1.02     0.8752         82        640: 100%|██████████| 11/11 [01:56<00:00, 10.60s/it]\n",
      "                 Class     Images  Instances      Box(P          R      mAP50  mAP50-95): 100%|██████████| 3/3 [00:12<00:00,  4.14s/it]"
     ]
    },
    {
     "name": "stdout",
     "output_type": "stream",
     "text": [
      "                   all         67        174      0.092      0.191     0.0981     0.0658\n"
     ]
    },
    {
     "name": "stderr",
     "output_type": "stream",
     "text": [
      "\n"
     ]
    },
    {
     "name": "stdout",
     "output_type": "stream",
     "text": [
      "\n",
      "      Epoch    GPU_mem   box_loss   cls_loss   dfl_loss  Instances       Size\n"
     ]
    },
    {
     "name": "stderr",
     "output_type": "stream",
     "text": [
      "     67/100         0G     0.8911      1.022     0.8697        104        640: 100%|██████████| 11/11 [01:54<00:00, 10.45s/it]\n",
      "                 Class     Images  Instances      Box(P          R      mAP50  mAP50-95): 100%|██████████| 3/3 [00:11<00:00,  3.88s/it]"
     ]
    },
    {
     "name": "stdout",
     "output_type": "stream",
     "text": [
      "                   all         67        174     0.0996      0.167     0.0991     0.0675\n"
     ]
    },
    {
     "name": "stderr",
     "output_type": "stream",
     "text": [
      "\n"
     ]
    },
    {
     "name": "stdout",
     "output_type": "stream",
     "text": [
      "\n",
      "      Epoch    GPU_mem   box_loss   cls_loss   dfl_loss  Instances       Size\n"
     ]
    },
    {
     "name": "stderr",
     "output_type": "stream",
     "text": [
      "     68/100         0G     0.8816     0.9913     0.8687         65        640: 100%|██████████| 11/11 [01:49<00:00,  9.96s/it]\n",
      "                 Class     Images  Instances      Box(P          R      mAP50  mAP50-95): 100%|██████████| 3/3 [00:11<00:00,  3.83s/it]"
     ]
    },
    {
     "name": "stdout",
     "output_type": "stream",
     "text": [
      "                   all         67        174     0.0458      0.639     0.0876     0.0596\n"
     ]
    },
    {
     "name": "stderr",
     "output_type": "stream",
     "text": [
      "\n"
     ]
    },
    {
     "name": "stdout",
     "output_type": "stream",
     "text": [
      "\n",
      "      Epoch    GPU_mem   box_loss   cls_loss   dfl_loss  Instances       Size\n"
     ]
    },
    {
     "name": "stderr",
     "output_type": "stream",
     "text": [
      "     69/100         0G     0.8846     0.9818     0.8724         76        640: 100%|██████████| 11/11 [01:54<00:00, 10.36s/it]\n",
      "                 Class     Images  Instances      Box(P          R      mAP50  mAP50-95): 100%|██████████| 3/3 [00:12<00:00,  4.15s/it]"
     ]
    },
    {
     "name": "stdout",
     "output_type": "stream",
     "text": [
      "                   all         67        174     0.0462      0.486     0.0794     0.0555\n"
     ]
    },
    {
     "name": "stderr",
     "output_type": "stream",
     "text": [
      "\n"
     ]
    },
    {
     "name": "stdout",
     "output_type": "stream",
     "text": [
      "\n",
      "      Epoch    GPU_mem   box_loss   cls_loss   dfl_loss  Instances       Size\n"
     ]
    },
    {
     "name": "stderr",
     "output_type": "stream",
     "text": [
      "     70/100         0G     0.8853     0.9861     0.8733        115        640: 100%|██████████| 11/11 [01:59<00:00, 10.82s/it]\n",
      "                 Class     Images  Instances      Box(P          R      mAP50  mAP50-95): 100%|██████████| 3/3 [00:12<00:00,  4.07s/it]"
     ]
    },
    {
     "name": "stdout",
     "output_type": "stream",
     "text": [
      "                   all         67        174     0.0432       0.57     0.0777     0.0527\n"
     ]
    },
    {
     "name": "stderr",
     "output_type": "stream",
     "text": [
      "\n"
     ]
    },
    {
     "name": "stdout",
     "output_type": "stream",
     "text": [
      "\n",
      "      Epoch    GPU_mem   box_loss   cls_loss   dfl_loss  Instances       Size\n"
     ]
    },
    {
     "name": "stderr",
     "output_type": "stream",
     "text": [
      "     71/100         0G     0.8823     0.9995     0.8693         82        640: 100%|██████████| 11/11 [01:57<00:00, 10.69s/it]\n",
      "                 Class     Images  Instances      Box(P          R      mAP50  mAP50-95): 100%|██████████| 3/3 [00:12<00:00,  4.22s/it]"
     ]
    },
    {
     "name": "stdout",
     "output_type": "stream",
     "text": [
      "                   all         67        174     0.0505      0.269     0.0713     0.0491\n"
     ]
    },
    {
     "name": "stderr",
     "output_type": "stream",
     "text": [
      "\n"
     ]
    },
    {
     "name": "stdout",
     "output_type": "stream",
     "text": [
      "\n",
      "      Epoch    GPU_mem   box_loss   cls_loss   dfl_loss  Instances       Size\n"
     ]
    },
    {
     "name": "stderr",
     "output_type": "stream",
     "text": [
      "     72/100         0G     0.8465      1.003     0.8757         75        640: 100%|██████████| 11/11 [01:57<00:00, 10.66s/it]\n",
      "                 Class     Images  Instances      Box(P          R      mAP50  mAP50-95): 100%|██████████| 3/3 [02:38<00:00, 52.75s/it] "
     ]
    },
    {
     "name": "stdout",
     "output_type": "stream",
     "text": [
      "                   all         67        174     0.0377      0.444     0.0541     0.0361\n"
     ]
    },
    {
     "name": "stderr",
     "output_type": "stream",
     "text": [
      "\n"
     ]
    },
    {
     "name": "stdout",
     "output_type": "stream",
     "text": [
      "\n",
      "      Epoch    GPU_mem   box_loss   cls_loss   dfl_loss  Instances       Size\n"
     ]
    },
    {
     "name": "stderr",
     "output_type": "stream",
     "text": [
      "     73/100         0G     0.8778      1.033     0.8723         49        640: 100%|██████████| 11/11 [01:58<00:00, 10.77s/it]\n",
      "                 Class     Images  Instances      Box(P          R      mAP50  mAP50-95): 100%|██████████| 3/3 [00:12<00:00,  4.18s/it]"
     ]
    },
    {
     "name": "stdout",
     "output_type": "stream",
     "text": [
      "                   all         67        174     0.0403      0.459     0.0588     0.0383\n"
     ]
    },
    {
     "name": "stderr",
     "output_type": "stream",
     "text": [
      "\n"
     ]
    },
    {
     "name": "stdout",
     "output_type": "stream",
     "text": [
      "\n",
      "      Epoch    GPU_mem   box_loss   cls_loss   dfl_loss  Instances       Size\n"
     ]
    },
    {
     "name": "stderr",
     "output_type": "stream",
     "text": [
      "     74/100         0G     0.8486       1.02     0.8697         95        640: 100%|██████████| 11/11 [01:55<00:00, 10.50s/it]\n",
      "                 Class     Images  Instances      Box(P          R      mAP50  mAP50-95): 100%|██████████| 3/3 [00:12<00:00,  4.15s/it]"
     ]
    },
    {
     "name": "stdout",
     "output_type": "stream",
     "text": [
      "                   all         67        174     0.0383      0.619     0.0685      0.044\n"
     ]
    },
    {
     "name": "stderr",
     "output_type": "stream",
     "text": [
      "\n"
     ]
    },
    {
     "name": "stdout",
     "output_type": "stream",
     "text": [
      "\n",
      "      Epoch    GPU_mem   box_loss   cls_loss   dfl_loss  Instances       Size\n"
     ]
    },
    {
     "name": "stderr",
     "output_type": "stream",
     "text": [
      "     75/100         0G     0.8877     0.9917     0.8831         64        640: 100%|██████████| 11/11 [01:57<00:00, 10.68s/it]\n",
      "                 Class     Images  Instances      Box(P          R      mAP50  mAP50-95): 100%|██████████| 3/3 [00:12<00:00,  4.18s/it]"
     ]
    },
    {
     "name": "stdout",
     "output_type": "stream",
     "text": [
      "                   all         67        174     0.0681      0.119     0.0652      0.043\n"
     ]
    },
    {
     "name": "stderr",
     "output_type": "stream",
     "text": [
      "\n"
     ]
    },
    {
     "name": "stdout",
     "output_type": "stream",
     "text": [
      "\n",
      "      Epoch    GPU_mem   box_loss   cls_loss   dfl_loss  Instances       Size\n"
     ]
    },
    {
     "name": "stderr",
     "output_type": "stream",
     "text": [
      "     76/100         0G      0.815     0.9453     0.8591         86        640: 100%|██████████| 11/11 [01:57<00:00, 10.69s/it]\n",
      "                 Class     Images  Instances      Box(P          R      mAP50  mAP50-95): 100%|██████████| 3/3 [00:12<00:00,  4.07s/it]"
     ]
    },
    {
     "name": "stdout",
     "output_type": "stream",
     "text": [
      "                   all         67        174     0.0778      0.205     0.0573     0.0389\n"
     ]
    },
    {
     "name": "stderr",
     "output_type": "stream",
     "text": [
      "\n"
     ]
    },
    {
     "name": "stdout",
     "output_type": "stream",
     "text": [
      "\n",
      "      Epoch    GPU_mem   box_loss   cls_loss   dfl_loss  Instances       Size\n"
     ]
    },
    {
     "name": "stderr",
     "output_type": "stream",
     "text": [
      "     77/100         0G     0.8613     0.9583     0.8765         67        640: 100%|██████████| 11/11 [01:56<00:00, 10.62s/it]\n",
      "                 Class     Images  Instances      Box(P          R      mAP50  mAP50-95): 100%|██████████| 3/3 [00:12<00:00,  4.14s/it]"
     ]
    },
    {
     "name": "stdout",
     "output_type": "stream",
     "text": [
      "                   all         67        174     0.0751      0.137     0.0598     0.0395\n"
     ]
    },
    {
     "name": "stderr",
     "output_type": "stream",
     "text": [
      "\n"
     ]
    },
    {
     "name": "stdout",
     "output_type": "stream",
     "text": [
      "\n",
      "      Epoch    GPU_mem   box_loss   cls_loss   dfl_loss  Instances       Size\n"
     ]
    },
    {
     "name": "stderr",
     "output_type": "stream",
     "text": [
      "     78/100         0G     0.8754     0.9409     0.8736         99        640: 100%|██████████| 11/11 [01:56<00:00, 10.59s/it]\n",
      "                 Class     Images  Instances      Box(P          R      mAP50  mAP50-95): 100%|██████████| 3/3 [00:12<00:00,  4.15s/it]"
     ]
    },
    {
     "name": "stdout",
     "output_type": "stream",
     "text": [
      "                   all         67        174     0.0638      0.114     0.0554     0.0368\n"
     ]
    },
    {
     "name": "stderr",
     "output_type": "stream",
     "text": [
      "\n"
     ]
    },
    {
     "name": "stdout",
     "output_type": "stream",
     "text": [
      "\n",
      "      Epoch    GPU_mem   box_loss   cls_loss   dfl_loss  Instances       Size\n"
     ]
    },
    {
     "name": "stderr",
     "output_type": "stream",
     "text": [
      "     79/100         0G     0.8637     0.9642     0.8752         52        640: 100%|██████████| 11/11 [01:57<00:00, 10.65s/it]\n",
      "                 Class     Images  Instances      Box(P          R      mAP50  mAP50-95): 100%|██████████| 3/3 [00:12<00:00,  4.07s/it]"
     ]
    },
    {
     "name": "stdout",
     "output_type": "stream",
     "text": [
      "                   all         67        174     0.0323      0.446     0.0477     0.0327\n"
     ]
    },
    {
     "name": "stderr",
     "output_type": "stream",
     "text": [
      "\n"
     ]
    },
    {
     "name": "stdout",
     "output_type": "stream",
     "text": [
      "\n",
      "      Epoch    GPU_mem   box_loss   cls_loss   dfl_loss  Instances       Size\n"
     ]
    },
    {
     "name": "stderr",
     "output_type": "stream",
     "text": [
      "     80/100         0G     0.8489      0.948     0.8748         65        640: 100%|██████████| 11/11 [02:03<00:00, 11.21s/it]\n",
      "                 Class     Images  Instances      Box(P          R      mAP50  mAP50-95): 100%|██████████| 3/3 [00:13<00:00,  4.40s/it]"
     ]
    },
    {
     "name": "stdout",
     "output_type": "stream",
     "text": [
      "                   all         67        174     0.0321      0.496      0.047     0.0325\n"
     ]
    },
    {
     "name": "stderr",
     "output_type": "stream",
     "text": [
      "\n"
     ]
    },
    {
     "name": "stdout",
     "output_type": "stream",
     "text": [
      "\n",
      "      Epoch    GPU_mem   box_loss   cls_loss   dfl_loss  Instances       Size\n"
     ]
    },
    {
     "name": "stderr",
     "output_type": "stream",
     "text": [
      "     81/100         0G     0.8422     0.9146     0.8723        120        640: 100%|██████████| 11/11 [01:56<00:00, 10.63s/it]\n",
      "                 Class     Images  Instances      Box(P          R      mAP50  mAP50-95): 100%|██████████| 3/3 [00:12<00:00,  4.12s/it]"
     ]
    },
    {
     "name": "stdout",
     "output_type": "stream",
     "text": [
      "                   all         67        174     0.0324      0.474     0.0451     0.0307\n"
     ]
    },
    {
     "name": "stderr",
     "output_type": "stream",
     "text": [
      "\n"
     ]
    },
    {
     "name": "stdout",
     "output_type": "stream",
     "text": [
      "\n",
      "      Epoch    GPU_mem   box_loss   cls_loss   dfl_loss  Instances       Size\n"
     ]
    },
    {
     "name": "stderr",
     "output_type": "stream",
     "text": [
      "     82/100         0G     0.8513      0.972     0.8784        118        640: 100%|██████████| 11/11 [02:06<00:00, 11.55s/it]\n",
      "                 Class     Images  Instances      Box(P          R      mAP50  mAP50-95): 100%|██████████| 3/3 [00:13<00:00,  4.41s/it]"
     ]
    },
    {
     "name": "stdout",
     "output_type": "stream",
     "text": [
      "                   all         67        174     0.0387      0.479     0.0469     0.0313\n"
     ]
    },
    {
     "name": "stderr",
     "output_type": "stream",
     "text": [
      "\n"
     ]
    },
    {
     "name": "stdout",
     "output_type": "stream",
     "text": [
      "\n",
      "      Epoch    GPU_mem   box_loss   cls_loss   dfl_loss  Instances       Size\n"
     ]
    },
    {
     "name": "stderr",
     "output_type": "stream",
     "text": [
      "     83/100         0G     0.8165     0.9196     0.8637         63        640: 100%|██████████| 11/11 [02:15<00:00, 12.28s/it]\n",
      "                 Class     Images  Instances      Box(P          R      mAP50  mAP50-95): 100%|██████████| 3/3 [00:13<00:00,  4.51s/it]"
     ]
    },
    {
     "name": "stdout",
     "output_type": "stream",
     "text": [
      "                   all         67        174      0.042      0.517     0.0503     0.0332\n"
     ]
    },
    {
     "name": "stderr",
     "output_type": "stream",
     "text": [
      "\n"
     ]
    },
    {
     "name": "stdout",
     "output_type": "stream",
     "text": [
      "\n",
      "      Epoch    GPU_mem   box_loss   cls_loss   dfl_loss  Instances       Size\n"
     ]
    },
    {
     "name": "stderr",
     "output_type": "stream",
     "text": [
      "     84/100         0G     0.8058     0.9233     0.8671         47        640: 100%|██████████| 11/11 [02:17<00:00, 12.48s/it]\n",
      "                 Class     Images  Instances      Box(P          R      mAP50  mAP50-95): 100%|██████████| 3/3 [00:12<00:00,  4.04s/it]"
     ]
    },
    {
     "name": "stdout",
     "output_type": "stream",
     "text": [
      "                   all         67        174     0.0398      0.592     0.0592     0.0388\n"
     ]
    },
    {
     "name": "stderr",
     "output_type": "stream",
     "text": [
      "\n"
     ]
    },
    {
     "name": "stdout",
     "output_type": "stream",
     "text": [
      "\n",
      "      Epoch    GPU_mem   box_loss   cls_loss   dfl_loss  Instances       Size\n"
     ]
    },
    {
     "name": "stderr",
     "output_type": "stream",
     "text": [
      "     85/100         0G     0.7897     0.8686     0.8558         64        640: 100%|██████████| 11/11 [02:30<00:00, 13.72s/it]\n",
      "                 Class     Images  Instances      Box(P          R      mAP50  mAP50-95): 100%|██████████| 3/3 [00:13<00:00,  4.36s/it]"
     ]
    },
    {
     "name": "stdout",
     "output_type": "stream",
     "text": [
      "                   all         67        174     0.0392      0.602     0.0604     0.0393\n"
     ]
    },
    {
     "name": "stderr",
     "output_type": "stream",
     "text": [
      "\n"
     ]
    },
    {
     "name": "stdout",
     "output_type": "stream",
     "text": [
      "\n",
      "      Epoch    GPU_mem   box_loss   cls_loss   dfl_loss  Instances       Size\n"
     ]
    },
    {
     "name": "stderr",
     "output_type": "stream",
     "text": [
      "     86/100         0G     0.8267     0.8814     0.8625         72        640: 100%|██████████| 11/11 [01:57<00:00, 10.68s/it]\n",
      "                 Class     Images  Instances      Box(P          R      mAP50  mAP50-95): 100%|██████████| 3/3 [00:12<00:00,  4.20s/it]"
     ]
    },
    {
     "name": "stdout",
     "output_type": "stream",
     "text": [
      "                   all         67        174     0.0411      0.598     0.0653     0.0424\n"
     ]
    },
    {
     "name": "stderr",
     "output_type": "stream",
     "text": [
      "\n"
     ]
    },
    {
     "name": "stdout",
     "output_type": "stream",
     "text": [
      "\n",
      "      Epoch    GPU_mem   box_loss   cls_loss   dfl_loss  Instances       Size\n"
     ]
    },
    {
     "name": "stderr",
     "output_type": "stream",
     "text": [
      "     87/100         0G     0.8223     0.9206     0.8675         83        640: 100%|██████████| 11/11 [01:54<00:00, 10.42s/it]\n",
      "                 Class     Images  Instances      Box(P          R      mAP50  mAP50-95): 100%|██████████| 3/3 [00:12<00:00,  4.11s/it]"
     ]
    },
    {
     "name": "stdout",
     "output_type": "stream",
     "text": [
      "                   all         67        174     0.0438      0.576     0.0619     0.0405\n"
     ]
    },
    {
     "name": "stderr",
     "output_type": "stream",
     "text": [
      "\n"
     ]
    },
    {
     "name": "stdout",
     "output_type": "stream",
     "text": [
      "\n",
      "      Epoch    GPU_mem   box_loss   cls_loss   dfl_loss  Instances       Size\n"
     ]
    },
    {
     "name": "stderr",
     "output_type": "stream",
     "text": [
      "     88/100         0G     0.8013     0.9003     0.8526        117        640: 100%|██████████| 11/11 [01:54<00:00, 10.45s/it]\n",
      "                 Class     Images  Instances      Box(P          R      mAP50  mAP50-95): 100%|██████████| 3/3 [00:12<00:00,  4.07s/it]"
     ]
    },
    {
     "name": "stdout",
     "output_type": "stream",
     "text": [
      "                   all         67        174     0.0436      0.547     0.0566     0.0374\n"
     ]
    },
    {
     "name": "stderr",
     "output_type": "stream",
     "text": [
      "\n"
     ]
    },
    {
     "name": "stdout",
     "output_type": "stream",
     "text": [
      "\n",
      "      Epoch    GPU_mem   box_loss   cls_loss   dfl_loss  Instances       Size\n"
     ]
    },
    {
     "name": "stderr",
     "output_type": "stream",
     "text": [
      "     89/100         0G     0.7873     0.9159     0.8542         60        640: 100%|██████████| 11/11 [01:53<00:00, 10.36s/it]\n",
      "                 Class     Images  Instances      Box(P          R      mAP50  mAP50-95): 100%|██████████| 3/3 [00:12<00:00,  4.27s/it]"
     ]
    },
    {
     "name": "stdout",
     "output_type": "stream",
     "text": [
      "                   all         67        174     0.0416      0.586     0.0613     0.0399\n"
     ]
    },
    {
     "name": "stderr",
     "output_type": "stream",
     "text": [
      "\n"
     ]
    },
    {
     "name": "stdout",
     "output_type": "stream",
     "text": [
      "\n",
      "      Epoch    GPU_mem   box_loss   cls_loss   dfl_loss  Instances       Size\n"
     ]
    },
    {
     "name": "stderr",
     "output_type": "stream",
     "text": [
      "     90/100         0G     0.8044     0.8984     0.8642         66        640: 100%|██████████| 11/11 [02:02<00:00, 11.15s/it]\n",
      "                 Class     Images  Instances      Box(P          R      mAP50  mAP50-95): 100%|██████████| 3/3 [00:14<00:00,  4.70s/it]"
     ]
    },
    {
     "name": "stdout",
     "output_type": "stream",
     "text": [
      "                   all         67        174     0.0378      0.612     0.0633     0.0408\n"
     ]
    },
    {
     "name": "stderr",
     "output_type": "stream",
     "text": [
      "\n"
     ]
    },
    {
     "name": "stdout",
     "output_type": "stream",
     "text": [
      "Closing dataloader mosaic\n",
      "\n",
      "      Epoch    GPU_mem   box_loss   cls_loss   dfl_loss  Instances       Size\n"
     ]
    },
    {
     "name": "stderr",
     "output_type": "stream",
     "text": [
      "     91/100         0G     0.8591      1.059     0.8689         47        640: 100%|██████████| 11/11 [02:06<00:00, 11.49s/it]\n",
      "                 Class     Images  Instances      Box(P          R      mAP50  mAP50-95): 100%|██████████| 3/3 [00:13<00:00,  4.57s/it]"
     ]
    },
    {
     "name": "stdout",
     "output_type": "stream",
     "text": [
      "                   all         67        174     0.0323      0.598     0.0564     0.0364\n"
     ]
    },
    {
     "name": "stderr",
     "output_type": "stream",
     "text": [
      "\n"
     ]
    },
    {
     "name": "stdout",
     "output_type": "stream",
     "text": [
      "\n",
      "      Epoch    GPU_mem   box_loss   cls_loss   dfl_loss  Instances       Size\n"
     ]
    },
    {
     "name": "stderr",
     "output_type": "stream",
     "text": [
      "     92/100         0G     0.8525      1.079     0.8595         27        640: 100%|██████████| 11/11 [02:06<00:00, 11.49s/it]\n",
      "                 Class     Images  Instances      Box(P          R      mAP50  mAP50-95): 100%|██████████| 3/3 [00:13<00:00,  4.64s/it]"
     ]
    },
    {
     "name": "stdout",
     "output_type": "stream",
     "text": [
      "                   all         67        174     0.0267      0.587     0.0472     0.0309\n"
     ]
    },
    {
     "name": "stderr",
     "output_type": "stream",
     "text": [
      "\n"
     ]
    },
    {
     "name": "stdout",
     "output_type": "stream",
     "text": [
      "\n",
      "      Epoch    GPU_mem   box_loss   cls_loss   dfl_loss  Instances       Size\n"
     ]
    },
    {
     "name": "stderr",
     "output_type": "stream",
     "text": [
      "     93/100         0G     0.8322      1.027     0.8488         39        640: 100%|██████████| 11/11 [02:05<00:00, 11.43s/it]\n",
      "                 Class     Images  Instances      Box(P          R      mAP50  mAP50-95): 100%|██████████| 3/3 [00:13<00:00,  4.49s/it]"
     ]
    },
    {
     "name": "stdout",
     "output_type": "stream",
     "text": [
      "                   all         67        174     0.0246      0.584     0.0448     0.0301\n"
     ]
    },
    {
     "name": "stderr",
     "output_type": "stream",
     "text": [
      "\n"
     ]
    },
    {
     "name": "stdout",
     "output_type": "stream",
     "text": [
      "\n",
      "      Epoch    GPU_mem   box_loss   cls_loss   dfl_loss  Instances       Size\n"
     ]
    },
    {
     "name": "stderr",
     "output_type": "stream",
     "text": [
      "     94/100         0G     0.8361      1.072     0.8694         26        640: 100%|██████████| 11/11 [01:57<00:00, 10.71s/it]\n",
      "                 Class     Images  Instances      Box(P          R      mAP50  mAP50-95): 100%|██████████| 3/3 [00:12<00:00,  4.12s/it]"
     ]
    },
    {
     "name": "stdout",
     "output_type": "stream",
     "text": [
      "                   all         67        174       0.13      0.195     0.0479     0.0311\n"
     ]
    },
    {
     "name": "stderr",
     "output_type": "stream",
     "text": [
      "\n"
     ]
    },
    {
     "name": "stdout",
     "output_type": "stream",
     "text": [
      "\n",
      "      Epoch    GPU_mem   box_loss   cls_loss   dfl_loss  Instances       Size\n"
     ]
    },
    {
     "name": "stderr",
     "output_type": "stream",
     "text": [
      "     95/100         0G     0.7968      0.976     0.8449         58        640: 100%|██████████| 11/11 [01:58<00:00, 10.76s/it]\n",
      "                 Class     Images  Instances      Box(P          R      mAP50  mAP50-95): 100%|██████████| 3/3 [00:13<00:00,  4.37s/it]"
     ]
    },
    {
     "name": "stdout",
     "output_type": "stream",
     "text": [
      "                   all         67        174      0.126     0.0755     0.0525     0.0344\n"
     ]
    },
    {
     "name": "stderr",
     "output_type": "stream",
     "text": [
      "\n"
     ]
    },
    {
     "name": "stdout",
     "output_type": "stream",
     "text": [
      "\n",
      "      Epoch    GPU_mem   box_loss   cls_loss   dfl_loss  Instances       Size\n"
     ]
    },
    {
     "name": "stderr",
     "output_type": "stream",
     "text": [
      "     96/100         0G     0.8077     0.9862      0.852         51        640: 100%|██████████| 11/11 [01:51<00:00, 10.16s/it]\n",
      "                 Class     Images  Instances      Box(P          R      mAP50  mAP50-95): 100%|██████████| 3/3 [00:12<00:00,  4.18s/it]"
     ]
    },
    {
     "name": "stdout",
     "output_type": "stream",
     "text": [
      "                   all         67        174     0.0517     0.0755     0.0534     0.0343\n"
     ]
    },
    {
     "name": "stderr",
     "output_type": "stream",
     "text": [
      "\n"
     ]
    },
    {
     "name": "stdout",
     "output_type": "stream",
     "text": [
      "\n",
      "      Epoch    GPU_mem   box_loss   cls_loss   dfl_loss  Instances       Size\n"
     ]
    },
    {
     "name": "stderr",
     "output_type": "stream",
     "text": [
      "     97/100         0G     0.8226     0.9836     0.8564         42        640: 100%|██████████| 11/11 [01:53<00:00, 10.34s/it]\n",
      "                 Class     Images  Instances      Box(P          R      mAP50  mAP50-95): 100%|██████████| 3/3 [00:11<00:00,  3.99s/it]"
     ]
    },
    {
     "name": "stdout",
     "output_type": "stream",
     "text": [
      "                   all         67        174     0.0536     0.0791     0.0544     0.0347\n"
     ]
    },
    {
     "name": "stderr",
     "output_type": "stream",
     "text": [
      "\n"
     ]
    },
    {
     "name": "stdout",
     "output_type": "stream",
     "text": [
      "\n",
      "      Epoch    GPU_mem   box_loss   cls_loss   dfl_loss  Instances       Size\n"
     ]
    },
    {
     "name": "stderr",
     "output_type": "stream",
     "text": [
      "     98/100         0G     0.7997     0.9346     0.8528         51        640: 100%|██████████| 11/11 [01:51<00:00, 10.12s/it]\n",
      "                 Class     Images  Instances      Box(P          R      mAP50  mAP50-95): 100%|██████████| 3/3 [00:13<00:00,  4.62s/it]"
     ]
    },
    {
     "name": "stdout",
     "output_type": "stream",
     "text": [
      "                   all         67        174     0.0497     0.0743     0.0519     0.0337\n"
     ]
    },
    {
     "name": "stderr",
     "output_type": "stream",
     "text": [
      "\n"
     ]
    },
    {
     "name": "stdout",
     "output_type": "stream",
     "text": [
      "\n",
      "      Epoch    GPU_mem   box_loss   cls_loss   dfl_loss  Instances       Size\n"
     ]
    },
    {
     "name": "stderr",
     "output_type": "stream",
     "text": [
      "     99/100         0G     0.7737     0.9484     0.8392         43        640: 100%|██████████| 11/11 [01:58<00:00, 10.80s/it]\n",
      "                 Class     Images  Instances      Box(P          R      mAP50  mAP50-95): 100%|██████████| 3/3 [00:12<00:00,  4.14s/it]"
     ]
    },
    {
     "name": "stdout",
     "output_type": "stream",
     "text": [
      "                   all         67        174     0.0554     0.0997     0.0509     0.0331\n"
     ]
    },
    {
     "name": "stderr",
     "output_type": "stream",
     "text": [
      "\n"
     ]
    },
    {
     "name": "stdout",
     "output_type": "stream",
     "text": [
      "\n",
      "      Epoch    GPU_mem   box_loss   cls_loss   dfl_loss  Instances       Size\n"
     ]
    },
    {
     "name": "stderr",
     "output_type": "stream",
     "text": [
      "    100/100         0G     0.7749     0.9171     0.8566         40        640: 100%|██████████| 11/11 [01:51<00:00, 10.12s/it]\n",
      "                 Class     Images  Instances      Box(P          R      mAP50  mAP50-95): 100%|██████████| 3/3 [00:11<00:00,  3.93s/it]"
     ]
    },
    {
     "name": "stdout",
     "output_type": "stream",
     "text": [
      "                   all         67        174     0.0618       0.13      0.052     0.0339\n"
     ]
    },
    {
     "name": "stderr",
     "output_type": "stream",
     "text": [
      "\n"
     ]
    },
    {
     "name": "stdout",
     "output_type": "stream",
     "text": [
      "\n",
      "100 epochs completed in 3.921 hours.\n",
      "Optimizer stripped from C:\\Users\\Nico Marvels\\belajar\\runs\\train\\weights\\last.pt, 6.2MB\n",
      "Optimizer stripped from C:\\Users\\Nico Marvels\\belajar\\runs\\train\\weights\\best.pt, 6.2MB\n",
      "\n",
      "Validating C:\\Users\\Nico Marvels\\belajar\\runs\\train\\weights\\best.pt...\n",
      "Ultralytics 8.3.177  Python-3.8.20 torch-2.4.1+cpu CPU (Intel Core(TM) i5-7200U 2.50GHz)\n",
      "Model summary (fused): 72 layers, 3,008,378 parameters, 0 gradients, 8.1 GFLOPs\n"
     ]
    },
    {
     "name": "stderr",
     "output_type": "stream",
     "text": [
      "                 Class     Images  Instances      Box(P          R      mAP50  mAP50-95): 100%|██████████| 3/3 [00:10<00:00,  3.46s/it]\n"
     ]
    },
    {
     "name": "stdout",
     "output_type": "stream",
     "text": [
      "                   all         67        174      0.282      0.339      0.139     0.0947\n",
      "                   car         16         17      0.326      0.712      0.345      0.254\n",
      "        driver_buckled          1          1          1          0          0          0\n",
      "      driver_unbuckled          1          1          0          0     0.0237     0.0118\n",
      "        driver_unknown         15         16      0.238      0.526      0.308      0.148\n",
      "                  kaca         16         18      0.261      0.667      0.284      0.185\n",
      "        motor_1_helmet         23         31      0.169      0.613      0.188      0.134\n",
      "      motor_1_nohelmet          3          3          0          0     0.0287     0.0212\n",
      "        motor_2_helmet          8          9     0.0424      0.333     0.0456     0.0329\n",
      "      motor_2_nohelmet          4          4          0          0     0.0395      0.027\n",
      "          motor_more_2          1          1      0.286      0.859      0.332      0.298\n",
      "     passanger_buckled          1          1          1          0          0          0\n",
      "     passanger_unknown          6          7      0.173      0.429      0.108     0.0767\n",
      "            plat_nomor         35         65      0.172      0.269     0.0998     0.0422\n",
      "Speed: 2.2ms preprocess, 94.9ms inference, 0.0ms loss, 1.3ms postprocess per image\n",
      "Results saved to \u001b[1mC:\\Users\\Nico Marvels\\belajar\\runs\\train\u001b[0m\n"
     ]
    }
   ],
   "source": [
    "from ultralytics import YOLO\n",
    "\n",
    "model = YOLO(\"yolov8n.pt\")\n",
    "\n",
    "results = model.train(\n",
    "    data=r\"C:\\Users\\Nico Marvels\\belajar\\data.yaml\",\n",
    "    epochs=100,\n",
    "    batch=16,\n",
    "    imgsz=640,\n",
    "   # device=0,  # GPU\n",
    "    project=r\"C:\\Users\\Nico Marvels\\belajar\\runs\"\n",
    ")"
   ]
  }
 ],
 "metadata": {
  "kernelspec": {
   "display_name": "Python 3 (ipykernel)",
   "language": "python",
   "name": "python3"
  },
  "language_info": {
   "codemirror_mode": {
    "name": "ipython",
    "version": 3
   },
   "file_extension": ".py",
   "mimetype": "text/x-python",
   "name": "python",
   "nbconvert_exporter": "python",
   "pygments_lexer": "ipython3",
   "version": "3.12.3"
  }
 },
 "nbformat": 4,
 "nbformat_minor": 5
}

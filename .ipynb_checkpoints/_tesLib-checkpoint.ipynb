{
 "cells": [
  {
   "cell_type": "code",
   "execution_count": 1,
   "id": "eace6530-9d5f-4392-9641-6d21cd0f1a7e",
   "metadata": {},
   "outputs": [
    {
     "name": "stdout",
     "output_type": "stream",
     "text": [
      "True\n",
      "NVIDIA GeForce RTX 3060\n"
     ]
    }
   ],
   "source": [
    "import torch\n",
    "print(torch.cuda.is_available())  # harus True\n",
    "print(torch.cuda.get_device_name(0))"
   ]
  },
  {
   "cell_type": "code",
   "execution_count": 1,
   "id": "af9d721e-bf8d-4013-b17d-7d8e150c53a2",
   "metadata": {},
   "outputs": [
    {
     "name": "stdout",
     "output_type": "stream",
     "text": [
      "True\n",
      "11.8\n"
     ]
    }
   ],
   "source": [
    "import torch\n",
    "print(torch.cuda.is_available())\n",
    "print(torch.version.cuda)"
   ]
  },
  {
   "cell_type": "code",
   "execution_count": 2,
   "id": "1dc8bc04-5f23-4d40-b2bb-e887118b51de",
   "metadata": {},
   "outputs": [],
   "source": [
    "import os\n",
    "os.environ[\"CUDA_VISIBLE_DEVICES\"] = \"0\""
   ]
  },
  {
   "cell_type": "code",
   "execution_count": 1,
   "id": "48348df9-1753-43d1-b151-0a63120d8455",
   "metadata": {},
   "outputs": [
    {
     "name": "stdout",
     "output_type": "stream",
     "text": [
      "Jumlah train: 140\n",
      "Jumlah val: 36\n",
      "Jumlah test: 176\n"
     ]
    }
   ],
   "source": [
    "import glob\n",
    "\n",
    "train_imgs = glob.glob(r\"C:\\Users\\EagleEyes\\belajar\\dataset\\images\\train\\*.jpg\")\n",
    "val_imgs = glob.glob(r\"C:\\Users\\EagleEyes\\belajar\\dataset\\images\\val\\*.jpg\")\n",
    "test_imgs = glob.glob(r\"C:\\Users\\EagleEyes\\belajar\\dataset\\images\\test\\*.jpg\")\n",
    "\n",
    "print(\"Jumlah train:\", len(train_imgs))\n",
    "print(\"Jumlah val:\", len(val_imgs))\n",
    "print(\"Jumlah test:\", len(test_imgs))"
   ]
  }
 ],
 "metadata": {
  "kernelspec": {
   "display_name": "Python 3 (ipykernel)",
   "language": "python",
   "name": "python3"
  },
  "language_info": {
   "codemirror_mode": {
    "name": "ipython",
    "version": 3
   },
   "file_extension": ".py",
   "mimetype": "text/x-python",
   "name": "python",
   "nbconvert_exporter": "python",
   "pygments_lexer": "ipython3",
   "version": "3.8.20"
  }
 },
 "nbformat": 4,
 "nbformat_minor": 5
}
